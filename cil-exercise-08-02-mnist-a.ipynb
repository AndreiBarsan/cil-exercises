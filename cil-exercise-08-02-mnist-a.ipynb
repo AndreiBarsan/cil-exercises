{
 "cells": [
  {
   "cell_type": "markdown",
   "metadata": {},
   "source": [
    "# Series 8: Neural Networks feat. Cross-Entropy"
   ]
  },
  {
   "cell_type": "markdown",
   "metadata": {},
   "source": [
    "## Problem 2 (Convolutional Neural Networks)\n",
    "\n",
    "This notebook simply implements the simple version of the TensorFlow MNIST digit recognition tutorial, located at [www.tensorflow.org/versions/r0.8/tutorials/mnist/beginners/index.html][0].\n",
    "\n",
    "This implementation simply uses softmax regression, i.e. nonbinary logistic regression (we have more than 2 digits, hence the nonbinary-ness!).\n",
    "\n",
    "[0]: https://www.tensorflow.org/versions/r0.8/tutorials/mnist/beginners/index.html"
   ]
  },
  {
   "cell_type": "code",
   "execution_count": 1,
   "metadata": {
    "collapsed": false
   },
   "outputs": [
    {
     "name": "stdout",
     "output_type": "stream",
     "text": [
      "Extracting data/MNIST_data/train-images-idx3-ubyte.gz\n",
      "Extracting data/MNIST_data/train-labels-idx1-ubyte.gz\n",
      "Extracting data/MNIST_data/t10k-images-idx3-ubyte.gz\n",
      "Extracting data/MNIST_data/t10k-labels-idx1-ubyte.gz\n"
     ]
    }
   ],
   "source": [
    "import matplotlib.pyplot as plt\n",
    "import numpy as np\n",
    "import tensorflow as tf\n",
    "\n",
    "from tensorflow.examples.tutorials.mnist import input_data\n",
    "mnist = input_data.read_data_sets(\"data/MNIST_data/\", one_hot=True)"
   ]
  },
  {
   "cell_type": "code",
   "execution_count": 2,
   "metadata": {
    "collapsed": true
   },
   "outputs": [],
   "source": [
    "%matplotlib inline"
   ]
  },
  {
   "cell_type": "code",
   "execution_count": 3,
   "metadata": {
    "collapsed": false
   },
   "outputs": [
    {
     "name": "stdout",
     "output_type": "stream",
     "text": [
      "One-hot encoded image label: [ 0.  0.  0.  0.  0.  0.  0.  1.  0.  0.]\n",
      "This one seems to be a '7'.\n"
     ]
    },
    {
     "data": {
      "text/plain": [
       "<matplotlib.image.AxesImage at 0x1224c52b0>"
      ]
     },
     "execution_count": 3,
     "metadata": {},
     "output_type": "execute_result"
    },
    {
     "data": {
      "image/png": "[encoded data removed]",
      "text/plain": [
       "<matplotlib.figure.Figure at 0x10540e1d0>"
      ]
     },
     "metadata": {},
     "output_type": "display_data"
    }
   ],
   "source": [
    "specimen_label = mnist.test.labels[0]\n",
    "specimen_data = mnist.test.images[0]\n",
    "print(\"One-hot encoded image label: {0}\".format(specimen_label))\n",
    "print(\"This one seems to be a '{0}'.\".format(np.argmax(specimen_label)))\n",
    "\n",
    "plt.imshow(np.reshape(specimen_data, (28, 28)), cmap='Greys')"
   ]
  },
  {
   "cell_type": "code",
   "execution_count": 4,
   "metadata": {
    "collapsed": true
   },
   "outputs": [],
   "source": [
    "# This is the placeholder for our main data.\n",
    "x = tf.placeholder(tf.float32, [None, 784])\n",
    "\n",
    "# These are our (simple) model parameters.\n",
    "W = tf.Variable(tf.zeros([784, 10]))\n",
    "b = tf.Variable(tf.zeros([10]))"
   ]
  },
  {
   "cell_type": "code",
   "execution_count": 5,
   "metadata": {
    "collapsed": true
   },
   "outputs": [],
   "source": [
    "y = tf.nn.softmax(tf.matmul(x, W) + b)"
   ]
  },
  {
   "cell_type": "markdown",
   "metadata": {},
   "source": [
    "### On Cross Entropy\n",
    "\n",
    "Formulation (based on Kullback-Leibler divergence of $q$ from $p$:\n",
    "\n",
    "$$ H(p, q) = -\\sum_x p(x) \\log{q(x)} \\quad \\text{for discrete } p \\text{ and } q$$\n",
    "\n",
    "This error is much better than classifcation accuracy, since it also takes into account the *confidence* (i.e. post-sotfmax probability) of the outputs, penalizing e.g. confident mistakes much more than unconfident ones.\n",
    "\n",
    "Practically, if we are expecting an output to be one (and the others zero, by definition of the one-hot encoding), and it is actually (very close to) one, then the cross-entropy would be:\n",
    "\n",
    "$$ -(\\log(0.001) \\cdot 0 + \\dots + \\log(0.999) \\cdot 1 + \\dots) = 0 $$\n",
    "\n",
    "However, if the prediction is less confident, then we want to incur a little bit of error, which is impossible when using just the classification error. For example:\n",
    "\n",
    "$$ -(\\log(0.001) \\cdot 0 + \\dots + \\log(0.6) \\cdot 1 + log(0.4) \\cdot 0 + \\dots) \\approx 0.22 $$\n",
    "\n",
    "Look at the last depicted term. It looks like we're throwing away $\\log(0.4)$, since we're multiplying it with 0. However, this is not an issue because we're doing classification. This means that we always expect exactly one output value to be one, so all the error information is already encoded in that term.\n",
    "\n",
    "As a consequence of this, it can be seen that we only penalize by how wrong the term which should be correct is. We don't care about the distribution of the wrogness in the other terms. This means that we treat a case where the error is spread out among all 0's the same as one where there is just one \"close contender\", and all the other $k - 2$ activations are basically zero.\n",
    "\n",
    "Note that for the two above cases, the classification error would have been the same, which is definitely more coarse.\n",
    "\n",
    "A similar process can be applied for when our prediction is completely wrong. We don't care about who got \"elected\" first by our NN. We just care that we misfired the output neuron we were supposed to be firing.\n",
    "\n",
    "Another way to explain this is because softmax normalizes everything. So we can look at softmax as a way of getting some of the other neurons' information into the correct one via.\n",
    "\n",
    "Main source: https://jamesmccaffrey.wordpress.com/2013/11/05/why-you-should-use-cross-entropy-error-instead-of-classification-error-or-mean-squared-error-for-neural-network-classifier-training/\n",
    "\n",
    "P.S. An importan quote from the aforementioned main source (emphasis added):\n",
    "\n",
    "> The discussion above refers to computing error during the **training process**. **After training**, to get an estimate of the effectiveness of the neural network, **classification error is usually preferable to MSE or ACE**. The idea is that classification error is ultimately what you’re interested in."
   ]
  },
  {
   "cell_type": "code",
   "execution_count": 12,
   "metadata": {
    "collapsed": false
   },
   "outputs": [],
   "source": [
    "y_data = tf.placeholder(tf.float32, [None, 10])\n",
    "\n",
    "# Our training error measurement will be the Average Cross-Entropy (ACE).\n",
    "cross_entropy = tf.reduce_mean(-tf.reduce_sum(y_data * tf.log(y),\n",
    "                                reduction_indices=[1]))"
   ]
  },
  {
   "cell_type": "code",
   "execution_count": 13,
   "metadata": {
    "collapsed": true
   },
   "outputs": [],
   "source": [
    "# Use good old gradient descent to optimize (using a more elaborate\n",
    "# algorithm such as ADAM is not really necessary here).\n",
    "train_step = tf.train.GradientDescentOptimizer(learning_rate=0.5).minimize(cross_entropy)"
   ]
  },
  {
   "cell_type": "code",
   "execution_count": 14,
   "metadata": {
    "collapsed": true
   },
   "outputs": [],
   "source": [
    "init = tf.initialize_all_variables()"
   ]
  },
  {
   "cell_type": "markdown",
   "metadata": {},
   "source": [
    "### Training the Model"
   ]
  },
  {
   "cell_type": "code",
   "execution_count": 17,
   "metadata": {
    "collapsed": false
   },
   "outputs": [],
   "source": [
    "sess = tf.Session()\n",
    "sess.run(init)\n",
    "\n",
    "BATCH_SIZE = 500\n",
    "EPOCHS = 1000\n",
    "\n",
    "for epoch in range(EPOCHS):\n",
    "    # Sample a batch (remember, we're doing Stochastic GD).\n",
    "    batch_xs, batch_ys = mnist.train.next_batch(BATCH_SIZE)\n",
    "    # Bind the batch to the placeholders 'x' and 'y_data', then run\n",
    "    # this chunk of SGD.\n",
    "    sess.run(train_step, feed_dict={x: batch_xs, y_data: batch_ys})"
   ]
  },
  {
   "cell_type": "markdown",
   "metadata": {},
   "source": [
    "### Evaluating the Model"
   ]
  },
  {
   "cell_type": "code",
   "execution_count": 18,
   "metadata": {
    "collapsed": false
   },
   "outputs": [
    {
     "name": "stdout",
     "output_type": "stream",
     "text": [
      "0.9206\n"
     ]
    }
   ],
   "source": [
    "correct_prediction = tf.equal(tf.argmax(y,1), tf.argmax(y_data,1))\n",
    "accuracy = tf.reduce_mean(tf.cast(correct_prediction, tf.float32))\n",
    "print(sess.run(accuracy, feed_dict={x: mnist.test.images, y_data: mnist.test.labels}))"
   ]
  }
 ],
 "metadata": {
  "kernelspec": {
   "display_name": "Python 3",
   "language": "python",
   "name": "python3"
  },
  "language_info": {
   "codemirror_mode": {
    "name": "ipython",
    "version": 3
   },
   "file_extension": ".py",
   "mimetype": "text/x-python",
   "name": "python",
   "nbconvert_exporter": "python",
   "pygments_lexer": "ipython3",
   "version": "3.5.1"
  }
 },
 "nbformat": 4,
 "nbformat_minor": 0
}
