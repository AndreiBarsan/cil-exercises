{
 "cells": [
  {
   "cell_type": "code",
   "execution_count": 1,
   "metadata": {
    "collapsed": true
   },
   "outputs": [],
   "source": [
    "import numpy as np\n",
    "import pandas as pd"
   ]
  },
  {
   "cell_type": "markdown",
   "metadata": {},
   "source": [
    "# A: Matrix Standardization"
   ]
  },
  {
   "cell_type": "code",
   "execution_count": 39,
   "metadata": {
    "collapsed": false
   },
   "outputs": [],
   "source": [
    "def standardize(matrix):\n",
    "    \"\"\"Standardizes a data matrix by ensuring that its data has zero\n",
    "    mean and unit variance.\"\"\"\n",
    "    \n",
    "    mean = np.mean(matrix)\n",
    "    std = np.std(matrix)\n",
    "    return (matrix - mean) / std"
   ]
  },
  {
   "cell_type": "code",
   "execution_count": 40,
   "metadata": {
    "collapsed": false
   },
   "outputs": [
    {
     "name": "stdout",
     "output_type": "stream",
     "text": [
      "Random factor: -3.000000\n"
     ]
    },
    {
     "data": {
      "text/plain": [
       "array([[-2.45712193, -0.738927  , -2.50755804, ..., -1.34434025,\n",
       "        -2.9977777 , -1.26863487],\n",
       "       [-1.9055968 , -1.67623724, -1.38388844, ..., -0.65456388,\n",
       "        -0.44098203, -0.51731211],\n",
       "       [-0.55444058, -2.11497312, -1.53996086, ..., -0.61320895,\n",
       "        -0.70159773, -0.67403   ],\n",
       "       ..., \n",
       "       [-1.4437077 , -0.07292948, -1.76660137, ..., -0.33381781,\n",
       "        -2.48837988, -1.93201092],\n",
       "       [-1.41186719, -2.92047308, -0.4291146 , ..., -1.16421068,\n",
       "        -0.30306001, -2.54134762],\n",
       "       [-2.5158283 , -2.59794474, -0.40236124, ..., -0.46587749,\n",
       "        -1.30583569, -1.69834803]])"
      ]
     },
     "execution_count": 40,
     "metadata": {},
     "output_type": "execute_result"
    }
   ],
   "source": [
    "random_factor = np.random.randint(-10, 11)\n",
    "dummy_matrix = np.random.random([100, 100]) * random_factor\n",
    "dummy_matrix"
   ]
  },
  {
   "cell_type": "code",
   "execution_count": 42,
   "metadata": {
    "collapsed": false
   },
   "outputs": [
    {
     "name": "stdout",
     "output_type": "stream",
     "text": [
      "Old mean: -1.499234\n",
      "Old std:  0.866153\n",
      "New mean: 0.000000\n",
      "New std:  1.000000\n"
     ]
    }
   ],
   "source": [
    "print(\"Old mean: %f\" % np.mean(dummy_matrix))\n",
    "print(\"Old std:  %f\" % np.std(dummy_matrix))\n",
    "std_matrix = standardize(dummy_matrix)\n",
    "print(\"New mean: %f\" % np.mean(std_matrix))\n",
    "print(\"New std:  %f\" % np.std(std_matrix))"
   ]
  },
  {
   "cell_type": "markdown",
   "metadata": {},
   "source": [
    "# B: Pairwise Distances in the Plane"
   ]
  },
  {
   "cell_type": "code",
   "execution_count": null,
   "metadata": {
    "collapsed": true
   },
   "outputs": [],
   "source": []
  }
 ],
 "metadata": {
  "kernelspec": {
   "display_name": "Python 3",
   "language": "python",
   "name": "python3"
  },
  "language_info": {
   "codemirror_mode": {
    "name": "ipython",
    "version": 3
   },
   "file_extension": ".py",
   "mimetype": "text/x-python",
   "name": "python",
   "nbconvert_exporter": "python",
   "pygments_lexer": "ipython3",
   "version": "3.4.3"
  }
 },
 "nbformat": 4,
 "nbformat_minor": 0
}
