{
 "cells": [
  {
   "cell_type": "markdown",
   "metadata": {},
   "source": [
    "# Lecture 12: Robust PCA"
   ]
  },
  {
   "cell_type": "markdown",
   "metadata": {},
   "source": [
    "## Overview\n",
    "\n",
    "**Goal**: Express data matrix X as a **sum** of a low-rank matrix, and a sparse matrix.\n",
    "\n",
    "### Mathematical formulation (non-convex):\n",
    "\n",
    "$$\n",
    "\\begin{align}\n",
    "\\min_{\\mathbf{L},\\, \\mathbf{S}} & & \\operatorname{rank}(L) + \\mu\\|S\\|_0 \\\\\n",
    "\\text{subject to} & & L + S = X\n",
    "\\end{align}\n",
    "$$"
   ]
  },
  {
   "cell_type": "markdown",
   "metadata": {},
   "source": [
    "### Convex relaxation\n",
    "\n",
    "$$\n",
    "\\operatorname{rank}(L) \\overset{\\text{relaxed to}}{\\rightarrow} \\|L\\|_*\n",
    "$$\n",
    "\n",
    "$$\n",
    "\\|S\\|_0 \\overset{\\text{relaxed to}}{\\rightarrow} \\|S\\|_1\n",
    "$$\n",
    "\n",
    "Our objective then becomes:\n",
    "\n",
    "$$\n",
    "\\begin{aligned}\n",
    "\\min_{\\mathbf{L},\\, \\mathbf{S}} & & \\| L \\|_* + \\mu\\|S\\|_1 \\\\\n",
    "\\text{subject to} & & L + S = X\n",
    "\\end{aligned}\n",
    "$$\n",
    "\n",
    "Which is known as the **Principal Component Pursuit (PCP)** problem.\n",
    "\n",
    "It can be used for: \n",
    " * Audio denoising (e.g. separating speaker from background noise)\n",
    " * Video foreground/motion extraction"
   ]
  },
  {
   "cell_type": "markdown",
   "metadata": {},
   "source": [
    "We optimize this problem using **Alternating Direction Method of Multipliers**.\n",
    "\n",
    "Builds upon **dual decomposition** and **method of multipliers**."
   ]
  },
  {
   "cell_type": "code",
   "execution_count": null,
   "metadata": {
    "collapsed": true
   },
   "outputs": [],
   "source": []
  }
 ],
 "metadata": {
  "kernelspec": {
   "display_name": "Python 3",
   "language": "python",
   "name": "python3"
  },
  "language_info": {
   "codemirror_mode": {
    "name": "ipython",
    "version": 3
   },
   "file_extension": ".py",
   "mimetype": "text/x-python",
   "name": "python",
   "nbconvert_exporter": "python",
   "pygments_lexer": "ipython3",
   "version": "3.5.2"
  }
 },
 "nbformat": 4,
 "nbformat_minor": 0
}
