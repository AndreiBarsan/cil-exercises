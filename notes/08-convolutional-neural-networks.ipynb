{
 "cells": [
  {
   "cell_type": "markdown",
   "metadata": {},
   "source": [
    "# Lecture 8: Convolutional Neural Networks"
   ]
  },
  {
   "cell_type": "markdown",
   "metadata": {},
   "source": [
    "Layer:\n",
    "\n",
    "$$\n",
    "F_\\sigma(x; w) := \\sigma \\left( w_0 + \\sum_{j=1}^M x_j w_j \\right)\n",
    "\\overset{\\text{absorb bias}}{=}\n",
    "\\sigma\\left(\\langle w, x \\rangle\\right)\n",
    "$$"
   ]
  },
  {
   "cell_type": "markdown",
   "metadata": {},
   "source": [
    "Why use ReLU instead of tanh or sigmoid?\n",
    "\n",
    " * No vanishing gradient.\n",
    " * Still can derivate despite being non-smooth (use subgradient)\n",
    " * TODO(andrei): More reasons from Quora/deep learning book."
   ]
  },
  {
   "cell_type": "code",
   "execution_count": 1,
   "metadata": {
    "collapsed": true
   },
   "outputs": [],
   "source": [
    "import matplotlib.pyplot as plt\n",
    "import numpy as np\n",
    "\n",
    "%matplotlib inline"
   ]
  },
  {
   "cell_type": "code",
   "execution_count": 3,
   "metadata": {
    "collapsed": false
   },
   "outputs": [
    {
     "data": {
      "text/plain": [
       "<matplotlib.text.Text at 0x114686e48>"
      ]
     },
     "execution_count": 3,
     "metadata": {},
     "output_type": "execute_result"
    },
    {
     "data": {
      "image/png": "[encoded data removed]",
      "text/plain": [
       "<matplotlib.figure.Figure at 0x113e099b0>"
      ]
     },
     "metadata": {},
     "output_type": "display_data"
    }
   ],
   "source": [
    "x = np.linspace(-6.0, 6.0, num=1000)\n",
    "y_tanh = np.tanh(x)\n",
    "plt.plot(x, y_tanh, label=\"tanh\")\n",
    "\n",
    "y_sig = 1 / (1 + np.exp(-x))\n",
    "plt.plot(x, y_sig, label=\"sigmoid\")\n",
    "\n",
    "y_relu = np.copy(x)\n",
    "y_relu[y_relu <= 0.0] = 0.0\n",
    "plt.plot(x, y_relu, label=\"ReLU\")\n",
    "\n",
    "plt.legend(loc='lower right')\n",
    "plt.ylim((-1.5, 1.5))\n",
    "plt.grid()\n",
    "plt.title(\"Common activation functions ($\\sigma$)\")"
   ]
  },
  {
   "cell_type": "markdown",
   "metadata": {},
   "source": [
    "$$\n",
    "x^l := \\sigma^l \\left( W^l x^{l-1} \\right)\n",
    "$$\n",
    "\n",
    "$x^0$ is the input.\n",
    "\n",
    "For the first hidden layer we would have: $x^1 := \\sigma^1 \\left( W^1 x^0 \\right)$.\n",
    "\n",
    "The next one would be: $x^2 := \\sigma^2 \\left( W^2 \\sigma^1 \\left( W^1 x^0 \\right) \\right)$\n",
    "\n",
    "Eventually we can compute:\n",
    "\n",
    " * Regression, by setting a final $y = \\sigma^L \\left( W^L \\sigma^{L-1} \\left( \\dots \\right) \\right)  \\in \\mathbb{R}$.\n",
    " * Classification using softmax: $y_k = \\frac{\\exp{\\langle w_k^L, x^{L-1} \\rangle}}{\\sum_{m=1}^{K}\\exp{\\langle w_m^L, x^{L-1} \\rangle}}$ (the weights in the $Lth$, i.e. final, layer are called the softmax weights)"
   ]
  },
  {
   "cell_type": "markdown",
   "metadata": {},
   "source": [
    "For classification one usually uses cross-entropy loss:\n",
    "\n",
    "$$\n",
    "l(y; \\hat{y}) = H(y; \\hat{y}) = -y \\log\\hat{y} - (1 - y) \\log ( 1 - \\hat{y} )\n",
    "$$\n",
    "\n",
    "This boils down to:\n",
    " * $ y = 0 \\iff l(y; \\hat{y}) = - \\log ( 1 - \\hat{y} ) $ (want $\\hat{y}$ to be as close to $0$ as possible)\n",
    " * $ y = 1 \\iff l(y; \\hat{y}) = - \\log ( \\hat{y} ) $ (want $\\hat{y}$ to be as close to $1$ as possible)\n",
    "\n"
   ]
  },
  {
   "cell_type": "markdown",
   "metadata": {},
   "source": [
    "## Regularization\n",
    "\n",
    "Either l2 or drop-out.\n",
    "\n",
    "\n",
    "## Learning\n",
    "\n",
    "Non-convex objective, little theoretical guarantees.\n",
    "Regular gradient descent almost always prohibitive. Use SGD instead.\n",
    " \n",
    "TODO(andrei): Add momentum notes from Stanford lecture. Consider creating simple table comparing SGD, AdaGrad, momentum SGD, Adam, etc."
   ]
  },
  {
   "cell_type": "markdown",
   "metadata": {},
   "source": [
    "## Backpropagation\n",
    "\n",
    "Want: $\\nabla_\\mathcal{L}$ w.r.t. weights (i.e. parameters $\\theta$).\n",
    "\n",
    "TODO(andrei): Write down your Stanford notes on backprop in LaTeX and possibly even implement simple toy NN here."
   ]
  },
  {
   "cell_type": "code",
   "execution_count": null,
   "metadata": {
    "collapsed": true
   },
   "outputs": [],
   "source": []
  }
 ],
 "metadata": {
  "kernelspec": {
   "display_name": "Python 3",
   "language": "python",
   "name": "python3"
  },
  "language_info": {
   "codemirror_mode": {
    "name": "ipython",
    "version": 3
   },
   "file_extension": ".py",
   "mimetype": "text/x-python",
   "name": "python",
   "nbconvert_exporter": "python",
   "pygments_lexer": "ipython3",
   "version": "3.5.2"
  }
 },
 "nbformat": 4,
 "nbformat_minor": 0
}
