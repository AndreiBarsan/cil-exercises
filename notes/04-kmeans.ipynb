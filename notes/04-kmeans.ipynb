{
 "cells": [
  {
   "cell_type": "markdown",
   "metadata": {},
   "source": [
    "# Lecture 4: Data Clustering via K-means"
   ]
  },
  {
   "cell_type": "markdown",
   "metadata": {},
   "source": [
    "## Overview and motivation\n",
    "\n",
    "Goal: find a meaningful partition of the data. Usually: similarity.\n",
    "\n",
    "A meaningful partition is an **assignments** of each data point to a cluster:\n",
    "\n",
    "$$ \\pi : \\{ 1, \\dots, N \\} \\to \\{1, \\dots, K\\} $$\n",
    "\n",
    "We can easily recover the members of the $k$-th cluster as follows:\n",
    "\n",
    "$$ \\pi^{-1}(k) \\subseteq \\{ 1, \\dots, N \\} $$"
   ]
  },
  {
   "cell_type": "markdown",
   "metadata": {},
   "source": [
    "## K-means clustering\n",
    "\n",
    "Objective function:\n",
    "\n",
    "$$\n",
    "J(U, Z) = \\sum_{n=1}^{N} \\sum_{k=1}^{K} z_{kn} \\| x_n - u_k \\|^2_2\n",
    "$$\n",
    "\n",
    "Sum over data points, and sum over clusters. Note that the inner sum **always** has just one real term, the rest being just zero. This will change once we *upgrade to Mixture Models*!\n",
    "\n",
    "X contains the data as columns, DxN.\n",
    "Z contains the cluster assignments. KxN, with every column having exactly one zero!\n",
    "U contains the cluster centroids themselves. DxK\n",
    "\n",
    "The objective function can be written as a matrix factorization problem! We want to factor X into U and Z--a centroid matrix and an assignment matrix.\n",
    "\n",
    "$$\n",
    "J(U, Z) = \\| X - UZ \\|_F^2\n",
    "$$\n",
    "\n",
    "Currently using Eulcidean metric ($\\ell_2$-norm). Can potentially use other norms too! Remember the DM exam prep!"
   ]
  },
  {
   "cell_type": "markdown",
   "metadata": {},
   "source": [
    "### Solving K-means\n",
    "\n",
    "Alternate between finding optimal assignments based on centroids and vice-versa.\n",
    "Start with random centroids. Non-convex but good enough.\n",
    "\n",
    "#### A. Assignments given centroids.\n",
    "\n",
    "Fix U. Compute optimal z, for every data point $n$:\n",
    "\n",
    "(We can do this because our objective function decomposes additively.)\n",
    "\n",
    "$$\n",
    "z^*_{:,n} = \\arg \\min_{z} \\sum_{k=1}^{K} z_{kn} \\| x_n - u_k \\|_2^2\n",
    "$$\n",
    "\n",
    "Note that this just picks the $z$ for the closest centroid.\n"
   ]
  },
  {
   "cell_type": "markdown",
   "metadata": {},
   "source": [
    "#### B. Centroids given assignments\n",
    "\n",
    "Center of mass of assigned points (proof in slides using $\\nabla_{u_k}J(U, Z) \\overset{!}{=} 0$)."
   ]
  },
  {
   "cell_type": "markdown",
   "metadata": {},
   "source": [
    "Cost of every iteration $O(KND)$"
   ]
  },
  {
   "cell_type": "markdown",
   "metadata": {},
   "source": [
    "## Choosing K\n",
    "\n",
    "### A. Use stability\n",
    "\n",
    "1. Generate several perturbed version of dataset.\n",
    "2. Cluster each with fixed K.\n",
    "3. Compute pairwise distances between all clusterings.\n",
    "4. Compute **instability** = mean distance between all clusterings.\n",
    "5. Repeat for different Ks, and chose the most stable one.\n",
    "\n",
    "#### Distance between clusterings\n",
    "\n",
    "$$\n",
    "d(C, C') := \\min_{\\Pi} \\|Z - \\Pi(Z')\\|^2_F\n",
    "$$"
   ]
  },
  {
   "cell_type": "code",
   "execution_count": 1,
   "metadata": {
    "collapsed": true
   },
   "outputs": [],
   "source": [
    "# TODO(andrei): More notes on stability and such."
   ]
  },
  {
   "cell_type": "markdown",
   "metadata": {},
   "source": [
    "Kmeans can be seen as a matrix factorization problem, but Z does have some unusual constraints. Can relax Z from $z_{k,n} \\in {0,1}$ to $z_{k,n} \\in [0,1] \\quad \\text{with} \\quad \\sum_{k=1}^{K}z_{k,n} =1 \\>\\forall n$"
   ]
  },
  {
   "cell_type": "code",
   "execution_count": null,
   "metadata": {
    "collapsed": true
   },
   "outputs": [],
   "source": []
  }
 ],
 "metadata": {
  "kernelspec": {
   "display_name": "Python 3",
   "language": "python",
   "name": "python3"
  },
  "language_info": {
   "codemirror_mode": {
    "name": "ipython",
    "version": 3
   },
   "file_extension": ".py",
   "mimetype": "text/x-python",
   "name": "python",
   "nbconvert_exporter": "python",
   "pygments_lexer": "ipython3",
   "version": "3.5.2"
  }
 },
 "nbformat": 4,
 "nbformat_minor": 0
}
