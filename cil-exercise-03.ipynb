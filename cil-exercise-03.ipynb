{
 "cells": [
  {
   "cell_type": "markdown",
   "metadata": {},
   "source": [
    "# Exercise session notes\n",
    "\n",
    "SVD is a genralization of eigenvalue decomposition.\n",
    "\n",
    "Given\n",
    "\n",
    "$$ A = U \\cdot D \\cdot V^{T} $$\n",
    "\n",
    "it holds that\n",
    "\n",
    "$$ \\left\\{ \\begin{array}{l}\n",
    "    A \\cdot V_i = d_i \\cdot u_i\\\\\n",
    "    A^{T} \\cdot U_i = d_i \\cdot v_i\n",
    "\\end{array}\\right. \n",
    "\\iff \n",
    "\\left\\{ \\begin{array}{l}\n",
    "    A \\cdot A^{T} \\cdot U_i = d_{i}^{2} u_{i} \\\\\n",
    "    A^{T} \\cdot A \\cdot V_i = d_{i}^{2} v_{i} \n",
    "\\end{array}\\right. .$$\n",
    "\n",
    "Exercise: prove that $r(\\tilde{A}) = 2$, where $\\tilde{A}_2 = U_2 \\cdot D_2 \\cdot V_2^T$."
   ]
  },
  {
   "cell_type": "markdown",
   "metadata": {},
   "source": [
    "# Problem 1 (SVD Theory)"
   ]
  },
  {
   "cell_type": "code",
   "execution_count": 210,
   "metadata": {
    "collapsed": false
   },
   "outputs": [],
   "source": [
    "%matplotlib inline\n",
    "\n",
    "import matplotlib\n",
    "import numpy as np\n",
    "import matplotlib.pyplot as plt\n",
    "import pandas as pd"
   ]
  },
  {
   "cell_type": "code",
   "execution_count": 211,
   "metadata": {
    "collapsed": false
   },
   "outputs": [
    {
     "name": "stdout",
     "output_type": "stream",
     "text": [
      "(6, 5)\n"
     ]
    },
    {
     "data": {
      "text/plain": [
       "array([[  8.,   7.,   1.,  nan,   4.],\n",
       "       [  9.,   7.,   2.,   5.,   6.],\n",
       "       [  1.,   4.,   9.,  nan,   3.],\n",
       "       [  3.,  nan,   8.,   5.,   4.],\n",
       "       [ nan,   3.,  nan,   9.,   9.],\n",
       "       [  5.,   1.,   4.,  10.,  nan]])"
      ]
     },
     "execution_count": 211,
     "metadata": {},
     "output_type": "execute_result"
    }
   ],
   "source": [
    "A = np.array([\n",
    "        [8, 7,      1, np.NaN, 4],\n",
    "        [9, 7,      2, 5,      6],\n",
    "        [1, 4,      9, np.NaN, 3],\n",
    "        [3, np.NaN, 8, 5,      4],\n",
    "        [np.NaN, 3, np.NaN, 9, 9],\n",
    "        [5, 1, 4, 10, np.NaN]\n",
    "    ])\n",
    "\n",
    "print(A.shape)\n",
    "data"
   ]
  },
  {
   "cell_type": "markdown",
   "metadata": {},
   "source": [
    "$A \\in \\mathbb{R}^{M \\times N}$.\n",
    "\n",
    "1. $ K = AA^{T}, K \\in \\mathbb{R}^{M \\times M} $ indicates row-row correlations (movie-movie similarities). Every element (i, j) is just the dot product between movies i and j. Could consider using cosine similarity instead of the dot product in order not to get distracted by the absolute rating when computing similarities (movie pairs with higher ratings lead to larger dot products than equally similar movies but with lower ratings).\n",
    "2. $ L = A^{T}A, L \\in \\mathbb{R}^{N \\times N}$ indicates column-column correlations (user-user similarities).\n",
    "3. $ A = UDV^{T}, U: (M \\times M), D: (M \\times N), V^{T}: (N \\times N) $; in our case: $ U: (6 \\times 6), D: (6 \\times 5), V^{T}: (5 \\times 5) $\n",
    "4. Performing SVD on the rating column would help us isolate some latent concepts. It will, for instance, yield a matrix mapping movies to their belonging to a particular type (or genre), as well as one mapping users to their affinities towards certain genres. Main goal: low-rank approximation of original matrix. Compute missing ratings to use for recommending movies.\n",
    "5. D contains the singular values $\\sigma_{i}$ on its diagonal. It's possible to keep all nonzero singular values, but it's generally more useful to just keep the K largest ones. In our case, we could consider keeping the first three or two.\n",
    "6. The matrix U can be seen as a description of every movie as a composition of some latent variables.\n",
    "7. The matrix V can be seen as a description of every user as a composition of some latent variables (e.g. affinities to certain movie genres)."
   ]
  },
  {
   "cell_type": "code",
   "execution_count": 212,
   "metadata": {
    "collapsed": false
   },
   "outputs": [
    {
     "data": {
      "text/plain": [
       "array([[  8. ,   7. ,   1. ,   5.5,   4. ],\n",
       "       [  9. ,   7. ,   2. ,   5. ,   6. ],\n",
       "       [  1. ,   4. ,   9. ,   5.5,   3. ],\n",
       "       [  3. ,   5.5,   8. ,   5. ,   4. ],\n",
       "       [  5.5,   3. ,   5.5,   9. ,   9. ],\n",
       "       [  5. ,   1. ,   4. ,  10. ,   5.5]])"
      ]
     },
     "execution_count": 212,
     "metadata": {},
     "output_type": "execute_result"
    }
   ],
   "source": [
    "A_imputed = np.nan_to_num(A)\n",
    "A_imputed[A_imputed == 0] = 5.5\n",
    "A_imputed"
   ]
  },
  {
   "cell_type": "code",
   "execution_count": 213,
   "metadata": {
    "collapsed": true
   },
   "outputs": [],
   "source": [
    "def full_svd(matrix):\n",
    "    U, d, V = np.linalg.svd(matrix, full_matrices=True)\n",
    "    D = np.zeros(matrix.shape)\n",
    "    D[:d.shape[0],:d.shape[0]] = np.diag(d)\n",
    "    return U, D, V"
   ]
  },
  {
   "cell_type": "code",
   "execution_count": 214,
   "metadata": {
    "collapsed": false
   },
   "outputs": [],
   "source": [
    "U, D, V = full_svd(A_imputed)"
   ]
  },
  {
   "cell_type": "code",
   "execution_count": 215,
   "metadata": {
    "collapsed": false
   },
   "outputs": [
    {
     "data": {
      "text/plain": [
       "(array([[-0.38, -0.51,  0.23, -0.42,  0.6 ,  0.02],\n",
       "        [-0.43, -0.51,  0.23,  0.26, -0.61, -0.24],\n",
       "        [-0.33,  0.58,  0.34, -0.19,  0.04, -0.63],\n",
       "        [-0.37,  0.34,  0.45,  0.06, -0.11,  0.73],\n",
       "        [-0.5 ,  0.11, -0.43,  0.64,  0.38, -0.04],\n",
       "        [-0.41,  0.11, -0.63, -0.55, -0.32,  0.13]]),\n",
       " array([[ 29.7 ,   0.  ,   0.  ,   0.  ,   0.  ],\n",
       "        [  0.  ,  10.  ,   0.  ,   0.  ,   0.  ],\n",
       "        [  0.  ,   0.  ,   7.09,   0.  ,   0.  ],\n",
       "        [  0.  ,   0.  ,   0.  ,   2.76,   0.  ],\n",
       "        [  0.  ,   0.  ,   0.  ,   0.  ,   0.68],\n",
       "        [  0.  ,   0.  ,   0.  ,   0.  ,   0.  ]]),\n",
       " array([[-0.44, -0.6 ,  0.02, -0.11, -0.66],\n",
       "        [-0.37, -0.25,  0.73, -0.07,  0.51],\n",
       "        [-0.39,  0.74,  0.35,  0.06, -0.41],\n",
       "        [-0.56,  0.16, -0.5 , -0.56,  0.31],\n",
       "        [-0.45, -0.04, -0.3 ,  0.81,  0.2 ]]))"
      ]
     },
     "execution_count": 215,
     "metadata": {},
     "output_type": "execute_result"
    }
   ],
   "source": [
    "%precision 2\n",
    "U, D, V.T"
   ]
  },
  {
   "cell_type": "code",
   "execution_count": 216,
   "metadata": {
    "collapsed": false
   },
   "outputs": [
    {
     "data": {
      "text/plain": [
       "array([[ 8. ,  7. ,  1. ,  5.5,  4. ],\n",
       "       [ 9. ,  7. ,  2. ,  5. ,  6. ],\n",
       "       [ 1. ,  4. ,  9. ,  5.5,  3. ],\n",
       "       [ 3. ,  5.5,  8. ,  5. ,  4. ],\n",
       "       [ 5.5,  3. ,  5.5,  9. ,  9. ],\n",
       "       [ 5. ,  1. ,  4. , 10. ,  5.5]])"
      ]
     },
     "execution_count": 216,
     "metadata": {},
     "output_type": "execute_result"
    }
   ],
   "source": [
    "reconstruction = np.dot(U, np.dot(D, V))\n",
    "reconstruction"
   ]
  },
  {
   "cell_type": "code",
   "execution_count": 217,
   "metadata": {
    "collapsed": false
   },
   "outputs": [
    {
     "data": {
      "text/plain": [
       "True"
      ]
     },
     "execution_count": 217,
     "metadata": {},
     "output_type": "execute_result"
    }
   ],
   "source": [
    "np.allclose(A_imputed, reconstruction)"
   ]
  },
  {
   "cell_type": "code",
   "execution_count": 233,
   "metadata": {
    "collapsed": true
   },
   "outputs": [],
   "source": [
    "def scatter_label(data, labels):\n",
    "    \"\"\"Helper function for pretty scatterplots.\"\"\"\n",
    "    plt.scatter(data[:, 0], data[:, 1], s=60)\n",
    "    for label, x, y in zip(labels, data[:, 0], data[:, 1]):\n",
    "        plt.annotate(\n",
    "            label, \n",
    "            xy = (x, y), xytext = (20, 20),\n",
    "            textcoords = 'offset points', ha = 'right', va = 'bottom',\n",
    "            bbox = dict(boxstyle = 'round, pad=0.5', fc = 'cyan', alpha = 0.5),\n",
    "            arrowprops = dict(arrowstyle = '->', connectionstyle = 'arc3,rad=0'))"
   ]
  },
  {
   "cell_type": "code",
   "execution_count": 234,
   "metadata": {
    "collapsed": false
   },
   "outputs": [
    {
     "data": {
      "image/png": "[encoded data removed]",
      "text/plain": [
       "<matplotlib.figure.Figure at 0x113695198>"
      ]
     },
     "metadata": {},
     "output_type": "display_data"
    }
   ],
   "source": [
    "U_2 = U[:,:2]\n",
    "movie_labels = ['American Pie', 'Shrek', 'Titanic', 'The godfather', 'Avatar', 'Star Wars']\n",
    "scatter_label(U_2, movie_labels)\n",
    "    \n",
    "_ = plt.title(\"8. Representations of movies using first two singular values.\", \n",
    "              size=20, y=1.1)"
   ]
  },
  {
   "cell_type": "markdown",
   "metadata": {},
   "source": [
    "We can interpret the above plot's X axis as a (sort-of) degree of realism, while the Y axis can be seen as a distinction between drama (positive) and comedy (negative)."
   ]
  },
  {
   "cell_type": "code",
   "execution_count": 227,
   "metadata": {
    "collapsed": false
   },
   "outputs": [
    {
     "data": {
      "image/png": "[encoded data removed]",
      "text/plain": [
       "<matplotlib.figure.Figure at 0x114df45c0>"
      ]
     },
     "metadata": {},
     "output_type": "display_data"
    }
   ],
   "source": [
    "# Idea: analyze massive data and detect cultists who enjoy cult\n",
    "# classics which some critics consider really bad (e.g. The Room, The Big Lebowski, etc.).\n",
    "\n",
    "# Idea: analyze stuff user hasn't yet seen. Avoid stuff with very high or very low ratings.\n",
    "\n",
    "V_2 = V[:,:2]\n",
    "user_labels = ['Ben', 'Tom', 'John', 'Fred', 'Jack']\n",
    "scatter_label(V_2, user_labels)"
   ]
  },
  {
   "cell_type": "markdown",
   "metadata": {},
   "source": [
    "John and Jack prefer more serious movies, while Fred, Tom, and Ben are into comedies. Out of them, Fred seems to be the most well-rounded, but with still quite a strong inclination towards sci-fi."
   ]
  },
  {
   "cell_type": "markdown",
   "metadata": {},
   "source": [
    "The second singular value represents the comedy/drama division, while the first one seems to represent the degree of realism."
   ]
  },
  {
   "cell_type": "code",
   "execution_count": 226,
   "metadata": {
    "collapsed": false
   },
   "outputs": [
    {
     "name": "stdout",
     "output_type": "stream",
     "text": [
      "[[  8.    7.    1.    5.5   4. ]\n",
      " [  9.    7.    2.    5.    6. ]\n",
      " [  1.    4.    9.    5.5   3. ]\n",
      " [  3.    5.5   8.    5.    4. ]\n",
      " [  5.5   3.    5.5   9.    9. ]\n",
      " [  5.    1.    4.   10.    5.5]]\n",
      "[[ 8.14  6.71  1.23  4.72  4.86]\n",
      " [ 8.8   7.26  1.79  5.52  5.51]\n",
      " [ 0.96  3.95  9.04  5.19  3.43]\n",
      " [ 2.97  5.55  7.96  5.12  3.87]\n",
      " [ 5.86  3.    5.51  9.91  7.51]\n",
      " [ 4.69  1.    4.    9.21  6.79]]\n",
      "Approximation error (frobenius): 2.841515\n"
     ]
    }
   ],
   "source": [
    "A_approx = np.dot(U[:,:3], np.dot(D_full[:3,:], V))\n",
    "print(A_imputed)\n",
    "print(A_approx)\n",
    "error = np.linalg.norm(A_approx - A_imputed)\n",
    "print(\"Approximation error (frobenius): %f\" % error)"
   ]
  },
  {
   "cell_type": "markdown",
   "metadata": {},
   "source": [
    "## Bob wants to join the system!"
   ]
  },
  {
   "cell_type": "code",
   "execution_count": 146,
   "metadata": {
    "collapsed": false
   },
   "outputs": [
    {
     "data": {
      "text/plain": [
       "array([[  1. ,   5.5,   5.5,   6. ,   5.5,  10. ]])"
      ]
     },
     "execution_count": 146,
     "metadata": {},
     "output_type": "execute_result"
    }
   ],
   "source": [
    "Bob = np.array([[1, np.NaN, np.NaN, 6, np.NaN, 10]])\n",
    "Bob_imputed = np.nan_to_num(Bob)\n",
    "Bob_imputed[Bob_imputed == 0] = 5.5\n",
    "Bob_imputed"
   ]
  },
  {
   "cell_type": "code",
   "execution_count": 149,
   "metadata": {
    "collapsed": false
   },
   "outputs": [
    {
     "data": {
      "text/plain": [
       "array([[  8. ,   7. ,   1. ,   5.5,   1. ,   1. ],\n",
       "       [  9. ,   7. ,   2. ,   5. ,   5.5,   5.5],\n",
       "       [  1. ,   4. ,   9. ,   5.5,   5.5,   5.5],\n",
       "       [  3. ,   5.5,   8. ,   5. ,   6. ,   6. ],\n",
       "       [  5.5,   3. ,   5.5,   9. ,   5.5,   5.5],\n",
       "       [  5. ,   1. ,   4. ,  10. ,  10. ,  10. ]])"
      ]
     },
     "execution_count": 149,
     "metadata": {},
     "output_type": "execute_result"
    }
   ],
   "source": [
    "# TODO(andrei) Do this in a prettier way.\n",
    "A_bob_imputed = np.hstack((A_imputed, Bob_imputed.T))\n",
    "A_bob_imputed"
   ]
  },
  {
   "cell_type": "code",
   "execution_count": 150,
   "metadata": {
    "collapsed": false
   },
   "outputs": [
    {
     "data": {
      "image/png": "[encoded data removed]",
      "text/plain": [
       "<matplotlib.figure.Figure at 0x114e108d0>"
      ]
     },
     "metadata": {},
     "output_type": "display_data"
    }
   ],
   "source": [
    "U, D, V = full_svd(A_bob_imputed)\n",
    "scatter_label(U[:,:2], movie_labels)"
   ]
  },
  {
   "cell_type": "code",
   "execution_count": 230,
   "metadata": {
    "collapsed": false
   },
   "outputs": [
    {
     "data": {
      "image/png": "[encoded data removed]",
      "text/plain": [
       "<matplotlib.figure.Figure at 0x1141f8e80>"
      ]
     },
     "metadata": {},
     "output_type": "display_data"
    }
   ],
   "source": [
    "user_labels.append('Bob')\n",
    "scatter_label(V[:,:2], user_labels)"
   ]
  },
  {
   "cell_type": "markdown",
   "metadata": {},
   "source": [
    "Bob seems to be close to Fred, in that he also likes more serous movies, but he's even farther than the rest since he absolutely hates comedies such as American Pie."
   ]
  },
  {
   "cell_type": "code",
   "execution_count": 221,
   "metadata": {
    "collapsed": false
   },
   "outputs": [
    {
     "name": "stdout",
     "output_type": "stream",
     "text": [
      "Approximate rating matrix including Bob:\n",
      "\n",
      " [[ 8.14  6.71  1.23  4.72  4.86]\n",
      " [ 8.8   7.26  1.79  5.52  5.51]\n",
      " [ 0.96  3.95  9.04  5.19  3.43]\n",
      " [ 2.97  5.55  7.96  5.12  3.87]\n",
      " [ 5.86  3.    5.51  9.91  7.51]\n",
      " [ 4.69  1.    4.    9.21  6.79]] \n",
      "\n",
      "Approximation errors after adding Bob to system:\n",
      "\t- Frobenius norm: 2.841515\n",
      "\t- Euclidean norm: 2.759945\n",
      "\n"
     ]
    }
   ],
   "source": [
    "A_bob_approx = np.dot(U[:,:3], np.dot(D[:3,:], V))\n",
    "print(\"Approximate rating matrix including Bob:\\n\\n\", A_bob_approx, \"\\n\")\n",
    "error_frob = np.linalg.norm(A_approx - A_imputed, ord='fro')\n",
    "error_euclid = np.linalg.norm(A_approx - A_imputed, ord=2)\n",
    "\n",
    "print((\"Approximation errors after adding Bob to system:\\n\" +\n",
    "      \"\\t- Frobenius norm: %f\\n\" +\n",
    "      \"\\t- Euclidean norm: %f\\n\") % (error_frob, error_euclid))"
   ]
  },
  {
   "cell_type": "markdown",
   "metadata": {},
   "source": [
    "We use the highest predicted rating which was missing in Bob's original ratings in order to recommend him a movie."
   ]
  },
  {
   "cell_type": "code",
   "execution_count": 197,
   "metadata": {
    "collapsed": false
   },
   "outputs": [
    {
     "name": "stdout",
     "output_type": "stream",
     "text": [
      "Bob should watch Avatar!\n"
     ]
    }
   ],
   "source": [
    "# Get Bob's rating column!\n",
    "bob_index = user_labels.index('Bob')\n",
    "Bob_new_ratings = A_bob_approx[:, bob_index]\n",
    "\n",
    "# Keep track of the original row indices in the column...\n",
    "Bob_candidates = np.array([np.arange(Bob.shape[1]), Bob_new_ratings])\n",
    "# ...and only keep rows for movies Bob didn't see yet.\n",
    "Bob_candidates = Bob_candidates[:, np.isnan(Bob[0])]\n",
    "\n",
    "# Pick the row with the highest rating.\n",
    "best_entry = Bob_candidates[:, np.argmax(Bob_candidates[1,:])]\n",
    "# And then grab the movie index.\n",
    "best_index = int(best_entry[0])\n",
    "\n",
    "print(\"Bob should watch %s!\" % movie_labels[best_index])"
   ]
  },
  {
   "cell_type": "markdown",
   "metadata": {},
   "source": [
    "In closing, Bob's ratings do affect our prediction system, since they add more information (and also a little bit more confusion, due to a slightly larger approximation error) to our data matrix."
   ]
  },
  {
   "cell_type": "code",
   "execution_count": null,
   "metadata": {
    "collapsed": true
   },
   "outputs": [],
   "source": []
  }
 ],
 "metadata": {
  "kernelspec": {
   "display_name": "Python 3",
   "language": "python",
   "name": "python3"
  },
  "language_info": {
   "codemirror_mode": {
    "name": "ipython",
    "version": 3
   },
   "file_extension": ".py",
   "mimetype": "text/x-python",
   "name": "python",
   "nbconvert_exporter": "python",
   "pygments_lexer": "ipython3",
   "version": "3.5.1"
  }
 },
 "nbformat": 4,
 "nbformat_minor": 0
}
