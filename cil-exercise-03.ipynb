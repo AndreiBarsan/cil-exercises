{
 "cells": [
  {
   "cell_type": "markdown",
   "metadata": {
    "collapsed": true
   },
   "source": [
    "# Exercise session notes\n",
    "\n",
    "SVD is a genralization of eigenvalue decomposition.\n",
    "\n",
    "Given\n",
    "\n",
    "$$ A = U \\cdot D \\cdot V^{T} $$\n",
    "\n",
    "it holds that\n",
    "\n",
    "$$ \\left\\{ \\begin{array}{l}\n",
    "    A \\cdot V_i = d_i \\cdot u_i\\\\\n",
    "    A^{T} \\cdot U_i = d_i \\cdot v_i\n",
    "\\end{array}\\right. \n",
    "\\iff \n",
    "\\left\\{ \\begin{array}{l}\n",
    "    A \\cdot A^{T} \\cdot U_i = d_{i}^{2} u_{i} \\\\\n",
    "    A^{T} \\cdot A \\cdot V_i = d_{i}^{2} v_{i} \n",
    "\\end{array}\\right. .$$\n",
    "\n",
    "Exercise: prove that $r(\\tilde{A}) = 2$, where $\\tilde{A}_2 = U_2 \\cdot D_2 \\cdot V_2^T$."
   ]
  },
  {
   "cell_type": "markdown",
   "metadata": {},
   "source": [
    "# Problem 1 (SVD Theory)"
   ]
  },
  {
   "cell_type": "code",
   "execution_count": 28,
   "metadata": {
    "collapsed": false
   },
   "outputs": [],
   "source": [
    "%matplotlib inline\n",
    "\n",
    "import matplotlib\n",
    "import numpy as np\n",
    "import matplotlib.pyplot as plt\n",
    "import pandas as pd\n",
    "\n",
    "import copy\n",
    "import random"
   ]
  },
  {
   "cell_type": "code",
   "execution_count": 29,
   "metadata": {
    "collapsed": false
   },
   "outputs": [
    {
     "name": "stdout",
     "output_type": "stream",
     "text": [
      "(6, 5)\n"
     ]
    }
   ],
   "source": [
    "A = np.array([\n",
    "        [8, 7,      1, np.NaN, 4],\n",
    "        [9, 7,      2, 5,      6],\n",
    "        [1, 4,      9, np.NaN, 3],\n",
    "        [3, np.NaN, 8, 5,      4],\n",
    "        [np.NaN, 3, np.NaN, 9, 9],\n",
    "        [5, 1, 4, 10, np.NaN]\n",
    "    ])\n",
    "\n",
    "print(A.shape)"
   ]
  },
  {
   "cell_type": "markdown",
   "metadata": {},
   "source": [
    "$A \\in \\mathbb{R}^{M \\times N}$.\n",
    "\n",
    "1. $ K = AA^{T}, K \\in \\mathbb{R}^{M \\times M} $ indicates row-row correlations (movie-movie similarities). Every element (i, j) is just the dot product between movies i and j. Could consider using cosine similarity instead of the dot product in order not to get distracted by the absolute rating when computing similarities (movie pairs with higher ratings lead to larger dot products than equally similar movies but with lower ratings).\n",
    "2. $ L = A^{T}A, L \\in \\mathbb{R}^{N \\times N}$ indicates column-column correlations (user-user similarities).\n",
    "3. $ A = UDV^{T}, U: (M \\times M), D: (M \\times N), V^{T}: (N \\times N) $; in our case: $ U: (6 \\times 6), D: (6 \\times 5), V^{T}: (5 \\times 5) $\n",
    "4. Performing SVD on the rating column would help us isolate some latent concepts. It will, for instance, yield a matrix mapping movies to their belonging to a particular type (or genre), as well as one mapping users to their affinities towards certain genres. Main goal: low-rank approximation of original matrix. Compute missing ratings to use for recommending movies.\n",
    "5. D contains the singular values $\\sigma_{i}$ on its diagonal. It's possible to keep all nonzero singular values, but it's generally more useful to just keep the K largest ones. In our case, we could consider keeping the first three or two.\n",
    "6. The matrix U can be seen as a description of every movie as a composition of some latent variables.\n",
    "7. The matrix V can be seen as a description of every user as a composition of some latent variables (e.g. affinities to certain movie genres)."
   ]
  },
  {
   "cell_type": "code",
   "execution_count": 30,
   "metadata": {
    "collapsed": false
   },
   "outputs": [
    {
     "data": {
      "text/plain": [
       "array([[  8. ,   7. ,   1. ,   5.5,   4. ],\n",
       "       [  9. ,   7. ,   2. ,   5. ,   6. ],\n",
       "       [  1. ,   4. ,   9. ,   5.5,   3. ],\n",
       "       [  3. ,   5.5,   8. ,   5. ,   4. ],\n",
       "       [  5.5,   3. ,   5.5,   9. ,   9. ],\n",
       "       [  5. ,   1. ,   4. ,  10. ,   5.5]])"
      ]
     },
     "execution_count": 30,
     "metadata": {},
     "output_type": "execute_result"
    }
   ],
   "source": [
    "A_imputed = np.nan_to_num(A)\n",
    "A_imputed[A_imputed == 0] = 5.5\n",
    "A_imputed"
   ]
  },
  {
   "cell_type": "code",
   "execution_count": 31,
   "metadata": {
    "collapsed": true
   },
   "outputs": [],
   "source": [
    "def full_svd(matrix):\n",
    "    \"\"\"Utility which returns full SVD matrices.\n",
    "    \n",
    "    Works around the fact that numpy's SVD function returns the 'd'\n",
    "    as a vector of singular values, instead of a diagonal matrix.\n",
    "    \"\"\"\n",
    "    U, d, V = np.linalg.svd(matrix, full_matrices=True)\n",
    "    D = np.zeros(matrix.shape)\n",
    "    D[:d.shape[0],:d.shape[0]] = np.diag(d)\n",
    "    return U, D, V"
   ]
  },
  {
   "cell_type": "code",
   "execution_count": 32,
   "metadata": {
    "collapsed": false
   },
   "outputs": [],
   "source": [
    "U, D, V = full_svd(A_imputed)"
   ]
  },
  {
   "cell_type": "code",
   "execution_count": 33,
   "metadata": {
    "collapsed": false
   },
   "outputs": [
    {
     "data": {
      "text/plain": [
       "array([[ 8. ,  7. ,  1. ,  5.5,  4. ],\n",
       "       [ 9. ,  7. ,  2. ,  5. ,  6. ],\n",
       "       [ 1. ,  4. ,  9. ,  5.5,  3. ],\n",
       "       [ 3. ,  5.5,  8. ,  5. ,  4. ],\n",
       "       [ 5.5,  3. ,  5.5,  9. ,  9. ],\n",
       "       [ 5. ,  1. ,  4. , 10. ,  5.5]])"
      ]
     },
     "execution_count": 33,
     "metadata": {},
     "output_type": "execute_result"
    }
   ],
   "source": [
    "reconstruction = np.dot(U, np.dot(D, V))\n",
    "reconstruction"
   ]
  },
  {
   "cell_type": "code",
   "execution_count": 34,
   "metadata": {
    "collapsed": false
   },
   "outputs": [
    {
     "data": {
      "text/plain": [
       "True"
      ]
     },
     "execution_count": 34,
     "metadata": {},
     "output_type": "execute_result"
    }
   ],
   "source": [
    "np.allclose(A_imputed, reconstruction)"
   ]
  },
  {
   "cell_type": "code",
   "execution_count": 35,
   "metadata": {
    "collapsed": true
   },
   "outputs": [],
   "source": [
    "def scatter_label(data, labels):\n",
    "    \"\"\"Helper function for pretty scatterplots.\"\"\"\n",
    "    plt.scatter(data[:, 0], data[:, 1], s=60)\n",
    "    for label, x, y in zip(labels, data[:, 0], data[:, 1]):\n",
    "        plt.annotate(\n",
    "            label, \n",
    "            xy = (x, y), xytext = (20, 20),\n",
    "            textcoords = 'offset points', ha = 'right', va = 'bottom',\n",
    "            bbox = dict(boxstyle = 'round, pad=0.5', fc = 'cyan', alpha = 0.5),\n",
    "            arrowprops = dict(arrowstyle = '->', connectionstyle = 'arc3,rad=0'))"
   ]
  },
  {
   "cell_type": "code",
   "execution_count": 36,
   "metadata": {
    "collapsed": false
   },
   "outputs": [
    {
     "data": {
      "image/png": "[encoded data removed]",
      "text/plain": [
       "<matplotlib.figure.Figure at 0x10ce28748>"
      ]
     },
     "metadata": {},
     "output_type": "display_data"
    }
   ],
   "source": [
    "U_2 = U[:,:2]\n",
    "movie_labels = ['American Pie', 'Shrek', 'Titanic', 'The godfather', 'Avatar', 'Star Wars']\n",
    "scatter_label(U_2, movie_labels)\n",
    "    \n",
    "_ = plt.title(\"8. Representations of movies using first two singular values.\", \n",
    "              size=20, y=1.1)"
   ]
  },
  {
   "cell_type": "markdown",
   "metadata": {},
   "source": [
    "We can interpret the above plot's X axis as a (sort-of) degree of realism, while the Y axis can be seen as a distinction between drama (positive) and comedy (negative)."
   ]
  },
  {
   "cell_type": "code",
   "execution_count": 37,
   "metadata": {
    "collapsed": false
   },
   "outputs": [
    {
     "data": {
      "image/png": "[encoded data removed]",
      "text/plain": [
       "<matplotlib.figure.Figure at 0x117ded2e8>"
      ]
     },
     "metadata": {},
     "output_type": "display_data"
    }
   ],
   "source": [
    "# Idea: analyze massive data and detect cultists who enjoy cult\n",
    "# classics which some critics consider really bad (e.g. The Room, The Big Lebowski, etc.).\n",
    "\n",
    "# Idea: analyze stuff user hasn't yet seen. Avoid stuff with very high or very low ratings.\n",
    "\n",
    "V_2 = V[:,:2]\n",
    "user_labels = ['Ben', 'Tom', 'John', 'Fred', 'Jack']\n",
    "scatter_label(V_2, user_labels)"
   ]
  },
  {
   "cell_type": "markdown",
   "metadata": {},
   "source": [
    "John and Jack prefer more serious movies, while Fred, Tom, and Ben are into comedies. Out of them, Fred seems to be the most well-rounded, but with still quite a strong inclination towards sci-fi."
   ]
  },
  {
   "cell_type": "markdown",
   "metadata": {},
   "source": [
    "The second singular value represents the comedy/drama division, while the first one seems to represent the degree of realism."
   ]
  },
  {
   "cell_type": "code",
   "execution_count": 38,
   "metadata": {
    "collapsed": false
   },
   "outputs": [
    {
     "name": "stdout",
     "output_type": "stream",
     "text": [
      "[[  8.    7.    1.    5.5   4. ]\n",
      " [  9.    7.    2.    5.    6. ]\n",
      " [  1.    4.    9.    5.5   3. ]\n",
      " [  3.    5.5   8.    5.    4. ]\n",
      " [  5.5   3.    5.5   9.    9. ]\n",
      " [  5.    1.    4.   10.    5.5]]\n",
      "[[ 8.14381143  6.70703714  1.2317371   4.72467418  4.85857698]\n",
      " [ 8.8033797   7.26335375  1.79129575  5.52435092  5.50903254]\n",
      " [ 0.95925907  3.94727342  9.0413232   5.18969     3.43235702]\n",
      " [ 2.97210805  5.54924374  7.96102618  5.12079128  3.87119136]\n",
      " [ 5.86276729  2.99598204  5.50525861  9.91415263  7.50719451]\n",
      " [ 4.69201023  0.99897876  3.99902904  9.20657586  6.78945711]]\n",
      "Approximation error (frobenius): 2.841515\n"
     ]
    }
   ],
   "source": [
    "A_approx = np.dot(U[:,:3], np.dot(D[:3,:], V))\n",
    "print(A_imputed)\n",
    "print(A_approx)\n",
    "error = np.linalg.norm(A_approx - A_imputed)\n",
    "print(\"Approximation error (frobenius): %f\" % error)"
   ]
  },
  {
   "cell_type": "markdown",
   "metadata": {},
   "source": [
    "## Bob wants to join the system!"
   ]
  },
  {
   "cell_type": "code",
   "execution_count": 39,
   "metadata": {
    "collapsed": false
   },
   "outputs": [
    {
     "data": {
      "text/plain": [
       "array([[  1. ,   5.5,   5.5,   6. ,   5.5,  10. ]])"
      ]
     },
     "execution_count": 39,
     "metadata": {},
     "output_type": "execute_result"
    }
   ],
   "source": [
    "Bob = np.array([[1, np.NaN, np.NaN, 6, np.NaN, 10]])\n",
    "Bob_imputed = np.nan_to_num(Bob)\n",
    "Bob_imputed[Bob_imputed == 0] = 5.5\n",
    "Bob_imputed"
   ]
  },
  {
   "cell_type": "code",
   "execution_count": 40,
   "metadata": {
    "collapsed": false
   },
   "outputs": [
    {
     "data": {
      "text/plain": [
       "array([[  8. ,   7. ,   1. ,   5.5,   4. ,   1. ],\n",
       "       [  9. ,   7. ,   2. ,   5. ,   6. ,   5.5],\n",
       "       [  1. ,   4. ,   9. ,   5.5,   3. ,   5.5],\n",
       "       [  3. ,   5.5,   8. ,   5. ,   4. ,   6. ],\n",
       "       [  5.5,   3. ,   5.5,   9. ,   9. ,   5.5],\n",
       "       [  5. ,   1. ,   4. ,  10. ,   5.5,  10. ]])"
      ]
     },
     "execution_count": 40,
     "metadata": {},
     "output_type": "execute_result"
    }
   ],
   "source": [
    "# TODO(andrei) Do this in a prettier way.\n",
    "A_bob_imputed = np.hstack((A_imputed, Bob_imputed.T))\n",
    "A_bob_imputed"
   ]
  },
  {
   "cell_type": "code",
   "execution_count": 41,
   "metadata": {
    "collapsed": false
   },
   "outputs": [
    {
     "data": {
      "image/png": "[encoded data removed]",
      "text/plain": [
       "<matplotlib.figure.Figure at 0x10ccf63c8>"
      ]
     },
     "metadata": {},
     "output_type": "display_data"
    }
   ],
   "source": [
    "U, D, V = full_svd(A_bob_imputed)\n",
    "scatter_label(U[:,:2], movie_labels)"
   ]
  },
  {
   "cell_type": "code",
   "execution_count": 42,
   "metadata": {
    "collapsed": false
   },
   "outputs": [
    {
     "data": {
      "image/png": "[encoded data removed]",
      "text/plain": [
       "<matplotlib.figure.Figure at 0x10cba5e10>"
      ]
     },
     "metadata": {},
     "output_type": "display_data"
    }
   ],
   "source": [
    "user_labels.append('Bob')\n",
    "scatter_label(V[:,:2], user_labels)"
   ]
  },
  {
   "cell_type": "markdown",
   "metadata": {},
   "source": [
    "Bob seems to be close to Fred, in that he also likes more serous movies, but he's even farther than the rest since he absolutely hates comedies such as American Pie."
   ]
  },
  {
   "cell_type": "code",
   "execution_count": 43,
   "metadata": {
    "collapsed": false
   },
   "outputs": [
    {
     "name": "stdout",
     "output_type": "stream",
     "text": [
      "Approximate rating matrix including Bob:\n",
      "\n",
      " [[ 8.11870044  6.95788447  0.9377407   4.20134564  4.69292636  1.85719128]\n",
      " [ 8.69748326  6.84268602  2.2531497   6.35461334  6.08555874  4.00338881]\n",
      " [ 0.97046617  3.98861355  8.98026505  5.08553471  3.36424485  5.69892719]\n",
      " [ 2.92933045  5.37591483  8.14888354  5.45529057  4.10879584  5.3937604 ]\n",
      " [ 6.0251264   3.63659566  4.8863625   8.73931299  6.70438145  7.51978921]\n",
      " [ 4.73364366  0.63012137  4.33461873  9.87342924  6.93428591  9.04319165]] \n",
      "\n",
      "Approximation errors after adding Bob to system:\n",
      "\t- Frobenius norm: 2.841515\n",
      "\t- Euclidean norm: 2.759945\n",
      "\n"
     ]
    }
   ],
   "source": [
    "A_bob_approx = np.dot(U[:,:3], np.dot(D[:3,:], V))\n",
    "print(\"Approximate rating matrix including Bob:\\n\\n\", A_bob_approx, \"\\n\")\n",
    "error_frob = np.linalg.norm(A_approx - A_imputed, ord='fro')\n",
    "error_euclid = np.linalg.norm(A_approx - A_imputed, ord=2)\n",
    "\n",
    "print((\"Approximation errors after adding Bob to system:\\n\" +\n",
    "      \"\\t- Frobenius norm: %f\\n\" +\n",
    "      \"\\t- Euclidean norm: %f\\n\") % (error_frob, error_euclid))"
   ]
  },
  {
   "cell_type": "markdown",
   "metadata": {},
   "source": [
    "We use the highest predicted rating which was missing in Bob's original ratings in order to recommend him a movie."
   ]
  },
  {
   "cell_type": "code",
   "execution_count": 44,
   "metadata": {
    "collapsed": false
   },
   "outputs": [
    {
     "name": "stdout",
     "output_type": "stream",
     "text": [
      "Bob should watch Avatar!\n"
     ]
    }
   ],
   "source": [
    "# Get Bob's rating column!\n",
    "bob_index = user_labels.index('Bob')\n",
    "Bob_new_ratings = A_bob_approx[:, bob_index]\n",
    "\n",
    "# Keep track of the original row indices in the column...\n",
    "Bob_candidates = np.array([np.arange(Bob.shape[1]), Bob_new_ratings])\n",
    "# ...and only keep rows for movies Bob didn't see yet.\n",
    "Bob_candidates = Bob_candidates[:, np.isnan(Bob[0])]\n",
    "\n",
    "# Pick the row with the highest rating.\n",
    "best_entry = Bob_candidates[:, np.argmax(Bob_candidates[1,:])]\n",
    "# And then grab the movie index.\n",
    "best_index = int(best_entry[0])\n",
    "\n",
    "print(\"Bob should watch %s!\" % movie_labels[best_index])"
   ]
  },
  {
   "cell_type": "markdown",
   "metadata": {},
   "source": [
    "In closing, Bob's ratings do affect our prediction system, since they add more information (and also a little bit more confusion, due to a slightly larger approximation error) to our data matrix."
   ]
  }
 ],
 "metadata": {
  "kernelspec": {
   "display_name": "Python 3",
   "language": "python",
   "name": "python3"
  },
  "language_info": {
   "codemirror_mode": {
    "name": "ipython",
    "version": 3
   },
   "file_extension": ".py",
   "mimetype": "text/x-python",
   "name": "python",
   "nbconvert_exporter": "python",
   "pygments_lexer": "ipython3",
   "version": "3.5.1"
  }
 },
 "nbformat": 4,
 "nbformat_minor": 0
}
