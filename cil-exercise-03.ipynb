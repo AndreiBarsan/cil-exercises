{
 "cells": [
  {
   "cell_type": "markdown",
   "metadata": {
    "collapsed": true
   },
   "source": [
    "# Exercise session notes\n",
    "\n",
    "SVD is a genralization of eigenvalue decomposition.\n",
    "\n",
    "Given\n",
    "\n",
    "$$ A = U \\cdot D \\cdot V^{T} $$\n",
    "\n",
    "it holds that\n",
    "\n",
    "$$ \\left\\{ \\begin{array}{l}\n",
    "    A \\cdot V_i = d_i \\cdot u_i\\\\\n",
    "    A^{T} \\cdot U_i = d_i \\cdot v_i\n",
    "\\end{array}\\right. \n",
    "\\iff \n",
    "\\left\\{ \\begin{array}{l}\n",
    "    A \\cdot A^{T} \\cdot U_i = d_{i}^{2} u_{i} \\\\\n",
    "    A^{T} \\cdot A \\cdot V_i = d_{i}^{2} v_{i} \n",
    "\\end{array}\\right. .$$\n",
    "\n",
    "Exercise: prove that $r(\\tilde{A}) = 2$, where $\\tilde{A}_2 = U_2 \\cdot D_2 \\cdot V_2^T$."
   ]
  },
  {
   "cell_type": "markdown",
   "metadata": {},
   "source": [
    "# Problem 1 (SVD Theory)"
   ]
  },
  {
   "cell_type": "code",
   "execution_count": 75,
   "metadata": {
    "collapsed": false
   },
   "outputs": [],
   "source": [
    "%matplotlib inline\n",
    "\n",
    "import matplotlib\n",
    "import numpy as np\n",
    "import matplotlib.pyplot as plt\n",
    "import pandas as pd\n",
    "\n",
    "import copy\n",
    "import random"
   ]
  },
  {
   "cell_type": "code",
   "execution_count": null,
   "metadata": {
    "collapsed": false
   },
   "outputs": [],
   "source": [
    "A = np.array([\n",
    "        [8, 7,      1, np.NaN, 4],\n",
    "        [9, 7,      2, 5,      6],\n",
    "        [1, 4,      9, np.NaN, 3],\n",
    "        [3, np.NaN, 8, 5,      4],\n",
    "        [np.NaN, 3, np.NaN, 9, 9],\n",
    "        [5, 1, 4, 10, np.NaN]\n",
    "    ])\n",
    "\n",
    "print(A.shape)"
   ]
  },
  {
   "cell_type": "markdown",
   "metadata": {},
   "source": [
    "$A \\in \\mathbb{R}^{M \\times N}$.\n",
    "\n",
    "1. $ K = AA^{T}, K \\in \\mathbb{R}^{M \\times M} $ indicates row-row correlations (movie-movie similarities). Every element (i, j) is just the dot product between movies i and j. Could consider using cosine similarity instead of the dot product in order not to get distracted by the absolute rating when computing similarities (movie pairs with higher ratings lead to larger dot products than equally similar movies but with lower ratings).\n",
    "2. $ L = A^{T}A, L \\in \\mathbb{R}^{N \\times N}$ indicates column-column correlations (user-user similarities).\n",
    "3. $ A = UDV^{T}, U: (M \\times M), D: (M \\times N), V^{T}: (N \\times N) $; in our case: $ U: (6 \\times 6), D: (6 \\times 5), V^{T}: (5 \\times 5) $\n",
    "4. Performing SVD on the rating column would help us isolate some latent concepts. It will, for instance, yield a matrix mapping movies to their belonging to a particular type (or genre), as well as one mapping users to their affinities towards certain genres. Main goal: low-rank approximation of original matrix. Compute missing ratings to use for recommending movies.\n",
    "5. D contains the singular values $\\sigma_{i}$ on its diagonal. It's possible to keep all nonzero singular values, but it's generally more useful to just keep the K largest ones. In our case, we could consider keeping the first three or two.\n",
    "6. The matrix U can be seen as a description of every movie as a composition of some latent variables.\n",
    "7. The matrix V can be seen as a description of every user as a composition of some latent variables (e.g. affinities to certain movie genres)."
   ]
  },
  {
   "cell_type": "code",
   "execution_count": null,
   "metadata": {
    "collapsed": false
   },
   "outputs": [],
   "source": [
    "A_imputed = np.nan_to_num(A)\n",
    "A_imputed[A_imputed == 0] = 5.5\n",
    "A_imputed"
   ]
  },
  {
   "cell_type": "code",
   "execution_count": null,
   "metadata": {
    "collapsed": true
   },
   "outputs": [],
   "source": [
    "def full_svd(matrix):\n",
    "    \"\"\"Utility which returns full SVD matrices.\n",
    "    \n",
    "    Works around the fact that numpy's SVD function returns the 'd'\n",
    "    as a vector of singular values, instead of a diagonal matrix.\n",
    "    \"\"\"\n",
    "    U, d, V = np.linalg.svd(matrix, full_matrices=True)\n",
    "    D = np.zeros(matrix.shape)\n",
    "    D[:d.shape[0],:d.shape[0]] = np.diag(d)\n",
    "    return U, D, V"
   ]
  },
  {
   "cell_type": "code",
   "execution_count": null,
   "metadata": {
    "collapsed": false
   },
   "outputs": [],
   "source": [
    "U, D, V = full_svd(A_imputed)"
   ]
  },
  {
   "cell_type": "code",
   "execution_count": null,
   "metadata": {
    "collapsed": false
   },
   "outputs": [],
   "source": [
    "reconstruction = np.dot(U, np.dot(D, V))\n",
    "reconstruction"
   ]
  },
  {
   "cell_type": "code",
   "execution_count": null,
   "metadata": {
    "collapsed": false
   },
   "outputs": [],
   "source": [
    "np.allclose(A_imputed, reconstruction)"
   ]
  },
  {
   "cell_type": "code",
   "execution_count": null,
   "metadata": {
    "collapsed": true
   },
   "outputs": [],
   "source": [
    "def scatter_label(data, labels):\n",
    "    \"\"\"Helper function for pretty scatterplots.\"\"\"\n",
    "    plt.scatter(data[:, 0], data[:, 1], s=60)\n",
    "    for label, x, y in zip(labels, data[:, 0], data[:, 1]):\n",
    "        plt.annotate(\n",
    "            label, \n",
    "            xy = (x, y), xytext = (20, 20),\n",
    "            textcoords = 'offset points', ha = 'right', va = 'bottom',\n",
    "            bbox = dict(boxstyle = 'round, pad=0.5', fc = 'cyan', alpha = 0.5),\n",
    "            arrowprops = dict(arrowstyle = '->', connectionstyle = 'arc3,rad=0'))"
   ]
  },
  {
   "cell_type": "code",
   "execution_count": null,
   "metadata": {
    "collapsed": false
   },
   "outputs": [],
   "source": [
    "U_2 = U[:,:2]\n",
    "movie_labels = ['American Pie', 'Shrek', 'Titanic', 'The godfather', 'Avatar', 'Star Wars']\n",
    "scatter_label(U_2, movie_labels)\n",
    "    \n",
    "_ = plt.title(\"8. Representations of movies using first two singular values.\", \n",
    "              size=20, y=1.1)"
   ]
  },
  {
   "cell_type": "markdown",
   "metadata": {},
   "source": [
    "We can interpret the above plot's X axis as a (sort-of) degree of realism, while the Y axis can be seen as a distinction between drama (positive) and comedy (negative)."
   ]
  },
  {
   "cell_type": "code",
   "execution_count": null,
   "metadata": {
    "collapsed": false
   },
   "outputs": [],
   "source": [
    "# Idea: analyze massive data and detect cultists who enjoy cult\n",
    "# classics which some critics consider really bad (e.g. The Room, The Big Lebowski, etc.).\n",
    "\n",
    "# Idea: analyze stuff user hasn't yet seen. Avoid stuff with very high or very low ratings.\n",
    "\n",
    "V_2 = V[:,:2]\n",
    "user_labels = ['Ben', 'Tom', 'John', 'Fred', 'Jack']\n",
    "scatter_label(V_2, user_labels)"
   ]
  },
  {
   "cell_type": "markdown",
   "metadata": {},
   "source": [
    "John and Jack prefer more serious movies, while Fred, Tom, and Ben are into comedies. Out of them, Fred seems to be the most well-rounded, but with still quite a strong inclination towards sci-fi."
   ]
  },
  {
   "cell_type": "markdown",
   "metadata": {},
   "source": [
    "The second singular value represents the comedy/drama division, while the first one seems to represent the degree of realism."
   ]
  },
  {
   "cell_type": "code",
   "execution_count": null,
   "metadata": {
    "collapsed": false
   },
   "outputs": [],
   "source": [
    "A_approx = np.dot(U[:,:3], np.dot(D[:3,:], V))\n",
    "print(A_imputed)\n",
    "print(A_approx)\n",
    "error = np.linalg.norm(A_approx - A_imputed)\n",
    "print(\"Approximation error (frobenius): %f\" % error)"
   ]
  },
  {
   "cell_type": "markdown",
   "metadata": {},
   "source": [
    "## Bob wants to join the system!"
   ]
  },
  {
   "cell_type": "code",
   "execution_count": null,
   "metadata": {
    "collapsed": false
   },
   "outputs": [],
   "source": [
    "Bob = np.array([[1, np.NaN, np.NaN, 6, np.NaN, 10]])\n",
    "Bob_imputed = np.nan_to_num(Bob)\n",
    "Bob_imputed[Bob_imputed == 0] = 5.5\n",
    "Bob_imputed"
   ]
  },
  {
   "cell_type": "code",
   "execution_count": null,
   "metadata": {
    "collapsed": false
   },
   "outputs": [],
   "source": [
    "# TODO(andrei) Do this in a prettier way.\n",
    "A_bob_imputed = np.hstack((A_imputed, Bob_imputed.T))\n",
    "A_bob_imputed"
   ]
  },
  {
   "cell_type": "code",
   "execution_count": null,
   "metadata": {
    "collapsed": false
   },
   "outputs": [],
   "source": [
    "U, D, V = full_svd(A_bob_imputed)\n",
    "scatter_label(U[:,:2], movie_labels)"
   ]
  },
  {
   "cell_type": "code",
   "execution_count": null,
   "metadata": {
    "collapsed": false
   },
   "outputs": [],
   "source": [
    "user_labels.append('Bob')\n",
    "scatter_label(V[:,:2], user_labels)"
   ]
  },
  {
   "cell_type": "markdown",
   "metadata": {},
   "source": [
    "Bob seems to be close to Fred, in that he also likes more serous movies, but he's even farther than the rest since he absolutely hates comedies such as American Pie."
   ]
  },
  {
   "cell_type": "code",
   "execution_count": null,
   "metadata": {
    "collapsed": false
   },
   "outputs": [],
   "source": [
    "A_bob_approx = np.dot(U[:,:3], np.dot(D[:3,:], V))\n",
    "print(\"Approximate rating matrix including Bob:\\n\\n\", A_bob_approx, \"\\n\")\n",
    "error_frob = np.linalg.norm(A_approx - A_imputed, ord='fro')\n",
    "error_euclid = np.linalg.norm(A_approx - A_imputed, ord=2)\n",
    "\n",
    "print((\"Approximation errors after adding Bob to system:\\n\" +\n",
    "      \"\\t- Frobenius norm: %f\\n\" +\n",
    "      \"\\t- Euclidean norm: %f\\n\") % (error_frob, error_euclid))"
   ]
  },
  {
   "cell_type": "markdown",
   "metadata": {},
   "source": [
    "We use the highest predicted rating which was missing in Bob's original ratings in order to recommend him a movie."
   ]
  },
  {
   "cell_type": "code",
   "execution_count": null,
   "metadata": {
    "collapsed": false
   },
   "outputs": [],
   "source": [
    "# Get Bob's rating column!\n",
    "bob_index = user_labels.index('Bob')\n",
    "Bob_new_ratings = A_bob_approx[:, bob_index]\n",
    "\n",
    "# Keep track of the original row indices in the column...\n",
    "Bob_candidates = np.array([np.arange(Bob.shape[1]), Bob_new_ratings])\n",
    "# ...and only keep rows for movies Bob didn't see yet.\n",
    "Bob_candidates = Bob_candidates[:, np.isnan(Bob[0])]\n",
    "\n",
    "# Pick the row with the highest rating.\n",
    "best_entry = Bob_candidates[:, np.argmax(Bob_candidates[1,:])]\n",
    "# And then grab the movie index.\n",
    "best_index = int(best_entry[0])\n",
    "\n",
    "print(\"Bob should watch %s!\" % movie_labels[best_index])"
   ]
  },
  {
   "cell_type": "markdown",
   "metadata": {},
   "source": [
    "In closing, Bob's ratings do affect our prediction system, since they add more information (and also a little bit more confusion, due to a slightly larger approximation error) to our data matrix."
   ]
  },
  {
   "cell_type": "markdown",
   "metadata": {},
   "source": [
    "# Problem 2: Collaborative Filtering"
   ]
  },
  {
   "cell_type": "code",
   "execution_count": 38,
   "metadata": {
    "collapsed": true
   },
   "outputs": [],
   "source": [
    "def load_ratings(data_file):\n",
    "    \"\"\"Loads the rating data from the specified file. \n",
    "    \n",
    "    Does not yet build the rating matrix. Use 'ratings_to_matrix' to do that.\n",
    "    Assumes the file has a header (which is ignored), and that the ratings are\n",
    "    then specified as 'rXXX_cXXX,X', where the 'X' blanks specify the row, the\n",
    "    column, and then the actual (integer) rating.\n",
    "    \"\"\"\n",
    "    ratings = []\n",
    "    with open(data_file, 'r') as file:\n",
    "        header = file.readline()\n",
    "        # print(\"Header: %s\" % header)\n",
    "        for line in file:\n",
    "            key, value_string = line.split(\",\")\n",
    "            rating = int(value_string)\n",
    "            row_string, col_string = key.split(\"_\")\n",
    "            row = int(row_string[1:])\n",
    "            col = int(col_string[1:])\n",
    "            \n",
    "            if rating < 1 or rating > 5:\n",
    "                raise ValueError(\"Found illegal rating value [%d].\" % rating)\n",
    "            \n",
    "            ratings.append((row - 1, col - 1, rating))\n",
    "            \n",
    "    return ratings\n",
    "\n",
    "def ratings_to_matrix(ratings, matrix_rows, matrix_cols):\n",
    "    \"\"\"Converts a list of ratings to a numpy matrix.\"\"\"\n",
    "    print(\"Building [%d x %d] rating matrix.\" % (matrix_rows, matrix_cols))\n",
    "    matrix = np.zeros([matrix_rows, matrix_cols])\n",
    "    for (row, col, rating) in ratings:\n",
    "        matrix[row, col] = rating\n",
    "        \n",
    "    print(\"Finished building rating matrix.\")\n",
    "    return matrix"
   ]
  },
  {
   "cell_type": "code",
   "execution_count": 39,
   "metadata": {
    "collapsed": false
   },
   "outputs": [],
   "source": [
    "# Rows are users\n",
    "USER_COUNT = 10000\n",
    "\n",
    "# Columns are items\n",
    "ITEM_COUNT = 1000\n",
    "\n",
    "VALIDATION_RATIO = 0.1\n",
    "TRAINING_RATIO = 1 - VALIDATION_RATIO"
   ]
  },
  {
   "cell_type": "code",
   "execution_count": 40,
   "metadata": {
    "collapsed": false
   },
   "outputs": [],
   "source": [
    "RANDOM_SEED = 0xC0FFEE\n",
    "random.seed(RANDOM_SEED)\n",
    "np.random.seed(RANDOM_SEED)"
   ]
  },
  {
   "cell_type": "code",
   "execution_count": 41,
   "metadata": {
    "collapsed": false
   },
   "outputs": [],
   "source": [
    "all_ratings = load_ratings('data/cf/data_train.csv')"
   ]
  },
  {
   "cell_type": "code",
   "execution_count": 42,
   "metadata": {
    "collapsed": false
   },
   "outputs": [
    {
     "name": "stdout",
     "output_type": "stream",
     "text": [
      "Building [10000 x 1000] rating matrix.\n",
      "Finished building rating matrix.\n"
     ]
    }
   ],
   "source": [
    "data_matrix = ratings_to_matrix(all_ratings, USER_COUNT, ITEM_COUNT)"
   ]
  },
  {
   "cell_type": "code",
   "execution_count": 43,
   "metadata": {
    "collapsed": false
   },
   "outputs": [
    {
     "name": "stdout",
     "output_type": "stream",
     "text": [
      "We have [1388107] data points.\n",
      "Will use [138810] data points for validation, and [1249297] for training.\n"
     ]
    }
   ],
   "source": [
    "all_ratings_count = len(all_ratings)\n",
    "print(\"We have [%d] data points.\" % all_ratings_count)\n",
    "\n",
    "validation_count = int(VALIDATION_RATIO * all_ratings_count)\n",
    "training_count = all_ratings_count - validation_count\n",
    "print(\"Will use [%d] data points for validation, and [%d] for training.\" %\n",
    "     (validation_count, training_count))"
   ]
  },
  {
   "cell_type": "code",
   "execution_count": 44,
   "metadata": {
    "collapsed": true
   },
   "outputs": [],
   "source": [
    "def shuffle_split_data(all_data, training_count, validation_count):\n",
    "    \"\"\"Returns a split consisting of (training, validation) data, created\n",
    "    after shuffling the input data.\n",
    "    \"\"\"\n",
    "    to_shuffle = copy.copy(all_data)\n",
    "    random.shuffle(to_shuffle)\n",
    "    return to_shuffle[:training_count], to_shuffle[training_count:]"
   ]
  },
  {
   "cell_type": "code",
   "execution_count": 45,
   "metadata": {
    "collapsed": false
   },
   "outputs": [
    {
     "name": "stdout",
     "output_type": "stream",
     "text": [
      "Building [10000 x 1000] rating matrix.\n",
      "Finished building rating matrix.\n",
      "Building [10000 x 1000] rating matrix.\n",
      "Finished building rating matrix.\n"
     ]
    }
   ],
   "source": [
    "train, validation = shuffle_split_data(all_ratings, training_count, validation_count)\n",
    "train_matrix = ratings_to_matrix(train, USER_COUNT, ITEM_COUNT)\n",
    "validation_matrix = ratings_to_matrix(validation, USER_COUNT, ITEM_COUNT)\n",
    "\n",
    "assert len(train_matrix[train_matrix != 0]) == training_count\n",
    "assert len(validation_matrix[validation_matrix != 0]) == validation_count"
   ]
  },
  {
   "cell_type": "code",
   "execution_count": 46,
   "metadata": {
    "collapsed": true
   },
   "outputs": [],
   "source": [
    "def score_predictions(prediction_matrix, validation_matrix):\n",
    "    \"\"\"Computes the RMSE score for the prediction matrix based\n",
    "    on the data points present in the validation matrix.\n",
    "    \n",
    "    \"\"\"\n",
    "    \n",
    "    # Want to compute RMSE just for nonzero validation elements.\n",
    "    mask = (validation_matrix != 0)\n",
    "    count = np.sum(mask)\n",
    "    actual = prediction_matrix[mask]\n",
    "    real = validation_matrix[mask]\n",
    "    \n",
    "    delta = np.abs(actual - real)\n",
    "    delta = delta * delta\n",
    "    delta = np.sum(delta)\n",
    "    \n",
    "    score = np.sqrt(delta / count)\n",
    "    return score\n",
    "\n",
    "\n",
    "def score_predictions_slow(prediction_matrix, validation_matrix):\n",
    "    s = 0\n",
    "    count = 0 #np.sum(validation_matrix > 0)\n",
    "    for row in range(validation_matrix.shape[0]):\n",
    "        for col in range(validation_matrix.shape[1]):\n",
    "            if validation_matrix[row, col] > 0:\n",
    "                delta = (validation_matrix[row, col] - prediction_matrix[row, col]) ** 2\n",
    "                s += delta\n",
    "                count += 1\n",
    "                \n",
    "    score = np.sqrt(s * 1.0 / count)\n",
    "    return score"
   ]
  },
  {
   "cell_type": "code",
   "execution_count": 47,
   "metadata": {
    "collapsed": false,
    "scrolled": true
   },
   "outputs": [
    {
     "name": "stdout",
     "output_type": "stream",
     "text": [
      "No-SVD RMSE: 1.1820\n"
     ]
    }
   ],
   "source": [
    "def predict_by_avg_item_rating(data):\n",
    "    # Assume every product has at least one rating.\n",
    "    # A product is represented by a column\n",
    "    nonzero = (data != 0)\n",
    "    rating_counts = nonzero.sum(1)\n",
    "    rating_sums = data.sum(1)\n",
    "    item_ratings = rating_sums / rating_counts\n",
    "    predictions = np.copy(data)\n",
    "    for col in range(data.shape[1]):\n",
    "        no_rating = (predictions[:, col] == 0)\n",
    "        predictions[no_rating, col] = item_ratings[col]\n",
    "\n",
    "    zero_pred = (predictions == 0)\n",
    "    assert np.sum(zero_pred) == 0\n",
    "    return predictions\n",
    "\n",
    "\n",
    "no_svd_result = predict_by_avg_item_rating(train_matrix)\n",
    "print(\"No-SVD RMSE: %.4f\" % score_predictions(no_svd_result, validation_matrix))\n",
    "# print(\"RMSE: %.4f\" % score_predictions_slow(no_svd_result, validation_matrix))"
   ]
  },
  {
   "cell_type": "code",
   "execution_count": 48,
   "metadata": {
    "collapsed": false
   },
   "outputs": [],
   "source": [
    "def svd_predict(data, k=290, sanity_check=False):\n",
    "    \"\"\"Predict the missing values in the data matrix using SVD.\n",
    "    \n",
    "    Imputes the missing values using column-wise means, and then improves the\n",
    "    prediction using singular value decomposition.\n",
    "    \n",
    "    Arguments:\n",
    "        data: The data matrix with missing values on which to apply SVD.\n",
    "        k: The number of singular values to keep.\n",
    "        sanity_check: Whether to perform additional (potentially slow) sanity checks.\n",
    "    \"\"\"\n",
    "    # Note: this function does not apply the 'sqrt(D)' pre-multiplication\n",
    "    # trick specified in the exercise sheet, as it led to a strange (and\n",
    "    # likely silly) bug.\n",
    "    \n",
    "    imputed = predict_by_avg_item_rating(data)\n",
    "    U, d, V = np.linalg.svd(imputed, full_matrices=True)\n",
    "    # This ensures that our variables correspond with the notation in\n",
    "    # the slides and homework sheets.\n",
    "    V = V.T\n",
    "    D = np.zeros_like(imputed)\n",
    "    D[:d.shape[0], :d.shape[0]] = np.diag(d)\n",
    "#     U_prime = np.dot(U, np.sqrt(D))\n",
    "#     V_prime = np.dot(np.sqrt(D), V)\n",
    "    \n",
    "    if sanity_check:\n",
    "        reconstruction = np.dot(U, np.dot(D, V.T))\n",
    "        assert np.allclose(reconstruction, imputed)\n",
    "        \n",
    "#         rec_2 = np.dot(U_prime, V_prime.T)\n",
    "#         assert np.allclose(rec_2[:,:1000], imputed)\n",
    "    \n",
    "# There's probably a very simple explanation for why this is fucking up.\n",
    "\n",
    "#     U_prime_lim = U_prime[:,:k]\n",
    "#     V_prime_lim = V_prime[:,:k]\n",
    "\n",
    "#     k_prediction = np.dot(U_prime_lim, V_prime_lim.T)\n",
    "\n",
    "    U_lim = U[:,:k]\n",
    "    D_lim = D[:k, :]\n",
    "    V_lim = V[:, :]\n",
    "    k_prediction = np.dot(U_lim, np.dot(D_lim, V_lim.T))\n",
    "    k_prediction = k_prediction[:, :1000]\n",
    "    \n",
    "    return k_prediction"
   ]
  },
  {
   "cell_type": "code",
   "execution_count": null,
   "metadata": {
    "collapsed": true
   },
   "outputs": [],
   "source": [
    "# Reuse previous prediction\n",
    "imputed = no_svd_result\n",
    "\n",
    "U, d, V = np.linalg.svd(imputed, full_matrices=True)\n",
    "V = V.T"
   ]
  },
  {
   "cell_type": "code",
   "execution_count": null,
   "metadata": {
    "collapsed": true
   },
   "outputs": [],
   "source": [
    "D = np.zeros_like(imputed)\n",
    "D[:d.shape[0], :d.shape[0]] = np.diag(d)"
   ]
  },
  {
   "cell_type": "code",
   "execution_count": null,
   "metadata": {
    "collapsed": false
   },
   "outputs": [],
   "source": [
    "# A few sanity checks for various values of k (singular values kept).\n",
    "\n",
    "errors = []\n",
    "means = []\n",
    "ks = range(10, 1000, 25)\n",
    "for k in ks:\n",
    "    U_k = U[:, :k]\n",
    "    D_k = D[:k, :]\n",
    "    V_k = V[:, :]\n",
    "\n",
    "    recon_k = np.dot(U_k, np.dot(D_k, V_k.T))\n",
    "    fro = np.linalg.norm(recon_k - imputed)\n",
    "    errors.append(fro)\n",
    "    means.append(np.mean(recon_k))"
   ]
  },
  {
   "cell_type": "code",
   "execution_count": null,
   "metadata": {
    "collapsed": false
   },
   "outputs": [],
   "source": [
    "plt.plot(ks, errors)\n",
    "plt.xlabel(\"kept singular values\")\n",
    "plt.ylabel(\"approximation error (Frobenius norm)\")"
   ]
  },
  {
   "cell_type": "code",
   "execution_count": null,
   "metadata": {
    "collapsed": false
   },
   "outputs": [],
   "source": [
    "# Sanity\n",
    "plt.plot(ks, means)"
   ]
  },
  {
   "cell_type": "code",
   "execution_count": null,
   "metadata": {
    "collapsed": false
   },
   "outputs": [],
   "source": [
    "# Plot the singular value spectrum\n",
    "plt.plot(np.arange(15), d[:15])"
   ]
  },
  {
   "cell_type": "code",
   "execution_count": null,
   "metadata": {
    "collapsed": false
   },
   "outputs": [],
   "source": [
    "fun_prediction = svd_predict(train_matrix)\n",
    "fun_prediction_10 = svd_predict(train_matrix, k=10)"
   ]
  },
  {
   "cell_type": "code",
   "execution_count": null,
   "metadata": {
    "collapsed": false
   },
   "outputs": [],
   "source": [
    "print(\"Item rating prediction score: %.8f\" % score_predictions(no_svd_result, validation_matrix))\n",
    "print(\"SVD prediction score (k=default): %.8f\" % score_predictions(fun_prediction, validation_matrix))\n",
    "print(\"SVD prediction score (k=10): %.8f\" % score_predictions(fun_prediction_10, validation_matrix))\n",
    "\n",
    "# Some sanity checks\n",
    "print(\"Should be 0: \", score_predictions(data_matrix, validation_matrix))\n",
    "print(\"Should be 0: \", score_predictions(validation_matrix, validation_matrix))\n",
    "print(\"Should be big: \", score_predictions(train_matrix, validation_matrix))"
   ]
  },
  {
   "cell_type": "code",
   "execution_count": null,
   "metadata": {
    "collapsed": false
   },
   "outputs": [],
   "source": [
    "rmses = []\n",
    "for k in range(5, 20, 1):\n",
    "    U_lim = U[:,:k]\n",
    "    D_lim = D[:k, :]\n",
    "    V_lim = V[:,:]\n",
    "\n",
    "    k_prediction = np.dot(U_lim, np.dot(D_lim, V_lim.T))\n",
    "    k_prediction = k_prediction[:, :1000]\n",
    "    rmses.append((k, score_predictions(k_prediction, validation_matrix)))"
   ]
  },
  {
   "cell_type": "code",
   "execution_count": null,
   "metadata": {
    "collapsed": false
   },
   "outputs": [],
   "source": [
    "plt.plot([e[0] for e in rmses], [e[1] for e in rmses])\n",
    "plt.xlabel(\"Number of kept singular values $\\sigma$\")\n",
    "plt.ylabel(\"RMSE on validation set\")"
   ]
  },
  {
   "cell_type": "code",
   "execution_count": null,
   "metadata": {
    "collapsed": false
   },
   "outputs": [],
   "source": [
    "for (k, err) in rmses:\n",
    "    print(\"%d: %.6f\" % (k, err))"
   ]
  },
  {
   "cell_type": "markdown",
   "metadata": {},
   "source": [
    "# Cross-validation (experimental)"
   ]
  },
  {
   "cell_type": "code",
   "execution_count": 49,
   "metadata": {
    "collapsed": true
   },
   "outputs": [],
   "source": [
    "from sklearn.cross_validation import KFold"
   ]
  },
  {
   "cell_type": "code",
   "execution_count": 62,
   "metadata": {
    "collapsed": false
   },
   "outputs": [
    {
     "data": {
      "text/plain": [
       "(1388107, 3)"
      ]
     },
     "execution_count": 62,
     "metadata": {},
     "output_type": "execute_result"
    }
   ],
   "source": [
    "CV_FOLDS = 5\n",
    "folds = KFold(len(all_ratings), n_folds=CV_FOLDS, shuffle=True)\n",
    "\n",
    "# TODO(andrei) Implement predictions as a subclass of BaseEstimator\n",
    "# and/or RegressionEstimator so we can use it with e.g. grid searches.\n",
    "\n",
    "k = 3\n",
    "\n",
    "# A 2D array where every row is a data point. The first column specifies\n",
    "# the row in the data matrix where the rating belongs, the second column,\n",
    "# its column. The third one is the actual rating.\n",
    "all_ratings_np = np.array(all_ratings)\n",
    "all_ratings_np.shape"
   ]
  },
  {
   "cell_type": "code",
   "execution_count": 63,
   "metadata": {
    "collapsed": false
   },
   "outputs": [
    {
     "name": "stdout",
     "output_type": "stream",
     "text": [
      "3.6644141974\n",
      "3.66323634294\n",
      "Building [10000 x 1000] rating matrix.\n",
      "Finished building rating matrix.\n",
      "Building [10000 x 1000] rating matrix.\n",
      "Finished building rating matrix.\n",
      "Performing naive imputation...\n",
      "Performing SVD...\n",
      "SVD done.\n",
      "3.66344975394\n",
      "3.66709410637\n",
      "Building [10000 x 1000] rating matrix.\n",
      "Finished building rating matrix.\n",
      "Building [10000 x 1000] rating matrix.\n",
      "Finished building rating matrix.\n",
      "Performing naive imputation...\n",
      "Performing SVD...\n",
      "SVD done.\n",
      "3.66487826051\n",
      "3.66138008292\n",
      "Building [10000 x 1000] rating matrix.\n",
      "Finished building rating matrix.\n",
      "Building [10000 x 1000] rating matrix.\n",
      "Finished building rating matrix.\n",
      "Performing naive imputation...\n",
      "Performing SVD...\n",
      "SVD done.\n",
      "3.66360674515\n",
      "3.6664661535\n",
      "Building [10000 x 1000] rating matrix.\n",
      "Finished building rating matrix.\n",
      "Building [10000 x 1000] rating matrix.\n",
      "Finished building rating matrix.\n",
      "Performing naive imputation...\n",
      "Performing SVD...\n",
      "SVD done.\n",
      "3.66454417255\n",
      "3.66271643716\n",
      "Building [10000 x 1000] rating matrix.\n",
      "Finished building rating matrix.\n",
      "Building [10000 x 1000] rating matrix.\n",
      "Finished building rating matrix.\n",
      "Performing naive imputation...\n",
      "Performing SVD...\n",
      "SVD done.\n",
      "Done.\n"
     ]
    }
   ],
   "source": [
    "# We will not use 'svd_predict' and instead we will use a dirty trick\n",
    "# to significantly speed up our cross-validation scores.\n",
    "\n",
    "# For every fold, results will contain a list of len(ks) scores.\n",
    "# This is an unorthodox way of doing CV, but it's much faster since\n",
    "# we only do one SVD per fold, instead of one per (k * folds).\n",
    "results = []\n",
    "\n",
    "ks = range(1, 30, 1)\n",
    "for train_index, test_index in folds:\n",
    "    train = all_ratings_np[train_index]\n",
    "    test = all_ratings_np[test_index]\n",
    "     \n",
    "    train_matrix = ratings_to_matrix(train, USER_COUNT, ITEM_COUNT)\n",
    "    test_matrix = ratings_to_matrix(test, USER_COUNT, ITEM_COUNT)\n",
    "    \n",
    "    print(\"Performing naive imputation...\")\n",
    "    imputed = predict_by_avg_item_rating(train_matrix)\n",
    "    print(\"Performing SVD...\")\n",
    "    U, d, V = np.linalg.svd(imputed, full_matrices=True)\n",
    "    print(\"SVD done.\")\n",
    "    V = V.T\n",
    "\n",
    "    D = np.zeros_like(imputed)\n",
    "    D[:d.shape[0], :d.shape[0]] = np.diag(d)\n",
    "\n",
    "    rmses = []\n",
    "    for k in ks:\n",
    "        U_k = U[:, :k]\n",
    "        D_k = D[:k, :]\n",
    "        V_k = V[:, :]\n",
    "        \n",
    "        k_prediction = np.dot(U_k, np.dot(D_k, V_k.T))\n",
    "        k_prediction = k_prediction[:, :1000]\n",
    "        rmses.append((k, score_predictions(k_prediction, test_matrix)))\n",
    "\n",
    "    results.append(rmses)\n",
    "    \n",
    "print(\"Done.\")"
   ]
  },
  {
   "cell_type": "code",
   "execution_count": 69,
   "metadata": {
    "collapsed": false
   },
   "outputs": [],
   "source": [
    "cv_rmses = []\n",
    "for index, k in enumerate(ks):\n",
    "    score = 0\n",
    "    for fold in range(CV_FOLDS):\n",
    "        score += results[fold][index][1]\n",
    "        \n",
    "    avg_score = score / CV_FOLDS\n",
    "    cv_rmses.append(avg_score)"
   ]
  },
  {
   "cell_type": "code",
   "execution_count": 70,
   "metadata": {
    "collapsed": false
   },
   "outputs": [
    {
     "data": {
      "text/plain": [
       "<matplotlib.text.Text at 0x1128d3668>"
      ]
     },
     "execution_count": 70,
     "metadata": {},
     "output_type": "execute_result"
    },
    {
     "data": {
      "image/png": "[encoded data removed]",
      "text/plain": [
       "<matplotlib.figure.Figure at 0x111dde400>"
      ]
     },
     "metadata": {},
     "output_type": "display_data"
    }
   ],
   "source": [
    "plt.plot(ks, cv_rmses)\n",
    "plt.ylabel(\"RMSE with %d CV folds\" % CV_FOLDS)\n",
    "plt.xlabel(\"Number of kept singular values $\\sigma$\")"
   ]
  },
  {
   "cell_type": "code",
   "execution_count": 66,
   "metadata": {
    "collapsed": false
   },
   "outputs": [
    {
     "data": {
      "text/plain": [
       "[<matplotlib.lines.Line2D at 0x1128b68d0>]"
      ]
     },
     "execution_count": 66,
     "metadata": {},
     "output_type": "execute_result"
    },
    {
     "data": {
      "image/png": "[encoded data removed]",
      "text/plain": [
       "<matplotlib.figure.Figure at 0x111d51fd0>"
      ]
     },
     "metadata": {},
     "output_type": "display_data"
    }
   ],
   "source": [
    "plt.plot(ks[3:10], cv_rmses[3:10])"
   ]
  },
  {
   "cell_type": "markdown",
   "metadata": {},
   "source": [
    "# Kaggle test data output stuff"
   ]
  },
  {
   "cell_type": "code",
   "execution_count": 72,
   "metadata": {
    "collapsed": false
   },
   "outputs": [],
   "source": [
    "test_result = svd_predict(data_matrix, k=5)"
   ]
  },
  {
   "cell_type": "code",
   "execution_count": 73,
   "metadata": {
    "collapsed": false
   },
   "outputs": [],
   "source": [
    "import os\n",
    "import time\n",
    "\n",
    "def output_solution(solution_matrix):\n",
    "    submisson_template = load_ratings('data/cf/sampleSubmission.csv')\n",
    "    output = \"Id,Prediction\\n\"\n",
    "    for (row, col, _) in submisson_template:\n",
    "        output += \"r%d_c%d,%f\\n\" % (row + 1, col + 1, solution_matrix[row, col])\n",
    "                \n",
    "    return output\n",
    "\n",
    "def output_solution_to_file(solution_matrix, technique, output_root='out/cf'):\n",
    "    timestr = time.strftime(\"%Y%m%d-%H%M%S\")\n",
    "    file_name = \"submission-%s-%s.csv\" % (technique, timestr)\n",
    "    file_path = os.path.join(output_root, file_name)\n",
    "    with open(file_path, 'w') as output_file:\n",
    "        output_text = output_solution(solution_matrix)\n",
    "        output_file.write(output_text)"
   ]
  },
  {
   "cell_type": "code",
   "execution_count": 74,
   "metadata": {
    "collapsed": false
   },
   "outputs": [],
   "source": [
    "output_solution_to_file(test_result, \"vanilla\")"
   ]
  }
 ],
 "metadata": {
  "kernelspec": {
   "display_name": "Python 3",
   "language": "python",
   "name": "python3"
  },
  "language_info": {
   "codemirror_mode": {
    "name": "ipython",
    "version": 3
   },
   "file_extension": ".py",
   "mimetype": "text/x-python",
   "name": "python",
   "nbconvert_exporter": "python",
   "pygments_lexer": "ipython3",
   "version": "3.5.1"
  }
 },
 "nbformat": 4,
 "nbformat_minor": 0
}
