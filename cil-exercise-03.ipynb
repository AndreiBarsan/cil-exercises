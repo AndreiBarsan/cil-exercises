{
 "cells": [
  {
   "cell_type": "markdown",
   "metadata": {},
   "source": [
    "# Exercise session notes\n",
    "\n",
    "SVD is a genralization of eigenvalue decomposition.\n",
    "\n",
    "Given\n",
    "\n",
    "$$ A = U \\cdot D \\cdot V^{T} $$\n",
    "\n",
    "it holds that\n",
    "\n",
    "$$ \\left\\{ \\begin{array}{l}\n",
    "    A \\cdot V_i = d_i \\cdot u_i\\\\\n",
    "    A^{T} \\cdot U_i = d_i \\cdot v_i\n",
    "\\end{array}\\right. \n",
    "\\iff \n",
    "\\left\\{ \\begin{array}{l}\n",
    "    A \\cdot A^{T} \\cdot U_i = d_{i}^{2} u_{i} \\\\\n",
    "    A^{T} \\cdot A \\cdot V_i = d_{i}^{2} v_{i} \n",
    "\\end{array}\\right. .$$\n",
    "\n",
    "Exercise: prove that $r(\\tilde{A}) = 2$, where $\\tilde{A}_2 = U_2 \\cdot D_2 \\cdot V_2^T$."
   ]
  },
  {
   "cell_type": "markdown",
   "metadata": {},
   "source": [
    "# Problem 1 (SVD Theory)"
   ]
  },
  {
   "cell_type": "code",
   "execution_count": 383,
   "metadata": {
    "collapsed": false
   },
   "outputs": [],
   "source": [
    "%matplotlib inline\n",
    "\n",
    "import matplotlib\n",
    "import numpy as np\n",
    "import matplotlib.pyplot as plt\n",
    "import pandas as pd\n",
    "\n",
    "import copy\n",
    "import random"
   ]
  },
  {
   "cell_type": "code",
   "execution_count": 384,
   "metadata": {
    "collapsed": false
   },
   "outputs": [
    {
     "name": "stdout",
     "output_type": "stream",
     "text": [
      "(6, 5)\n"
     ]
    }
   ],
   "source": [
    "A = np.array([\n",
    "        [8, 7,      1, np.NaN, 4],\n",
    "        [9, 7,      2, 5,      6],\n",
    "        [1, 4,      9, np.NaN, 3],\n",
    "        [3, np.NaN, 8, 5,      4],\n",
    "        [np.NaN, 3, np.NaN, 9, 9],\n",
    "        [5, 1, 4, 10, np.NaN]\n",
    "    ])\n",
    "\n",
    "print(A.shape)"
   ]
  },
  {
   "cell_type": "markdown",
   "metadata": {},
   "source": [
    "$A \\in \\mathbb{R}^{M \\times N}$.\n",
    "\n",
    "1. $ K = AA^{T}, K \\in \\mathbb{R}^{M \\times M} $ indicates row-row correlations (movie-movie similarities). Every element (i, j) is just the dot product between movies i and j. Could consider using cosine similarity instead of the dot product in order not to get distracted by the absolute rating when computing similarities (movie pairs with higher ratings lead to larger dot products than equally similar movies but with lower ratings).\n",
    "2. $ L = A^{T}A, L \\in \\mathbb{R}^{N \\times N}$ indicates column-column correlations (user-user similarities).\n",
    "3. $ A = UDV^{T}, U: (M \\times M), D: (M \\times N), V^{T}: (N \\times N) $; in our case: $ U: (6 \\times 6), D: (6 \\times 5), V^{T}: (5 \\times 5) $\n",
    "4. Performing SVD on the rating column would help us isolate some latent concepts. It will, for instance, yield a matrix mapping movies to their belonging to a particular type (or genre), as well as one mapping users to their affinities towards certain genres. Main goal: low-rank approximation of original matrix. Compute missing ratings to use for recommending movies.\n",
    "5. D contains the singular values $\\sigma_{i}$ on its diagonal. It's possible to keep all nonzero singular values, but it's generally more useful to just keep the K largest ones. In our case, we could consider keeping the first three or two.\n",
    "6. The matrix U can be seen as a description of every movie as a composition of some latent variables.\n",
    "7. The matrix V can be seen as a description of every user as a composition of some latent variables (e.g. affinities to certain movie genres)."
   ]
  },
  {
   "cell_type": "code",
   "execution_count": 385,
   "metadata": {
    "collapsed": false
   },
   "outputs": [
    {
     "data": {
      "text/plain": [
       "array([[  8. ,   7. ,   1. ,   5.5,   4. ],\n",
       "       [  9. ,   7. ,   2. ,   5. ,   6. ],\n",
       "       [  1. ,   4. ,   9. ,   5.5,   3. ],\n",
       "       [  3. ,   5.5,   8. ,   5. ,   4. ],\n",
       "       [  5.5,   3. ,   5.5,   9. ,   9. ],\n",
       "       [  5. ,   1. ,   4. ,  10. ,   5.5]])"
      ]
     },
     "execution_count": 385,
     "metadata": {},
     "output_type": "execute_result"
    }
   ],
   "source": [
    "A_imputed = np.nan_to_num(A)\n",
    "A_imputed[A_imputed == 0] = 5.5\n",
    "A_imputed"
   ]
  },
  {
   "cell_type": "code",
   "execution_count": 386,
   "metadata": {
    "collapsed": true
   },
   "outputs": [],
   "source": [
    "def full_svd(matrix):\n",
    "    U, d, V = np.linalg.svd(matrix, full_matrices=True)\n",
    "    D = np.zeros(matrix.shape)\n",
    "    D[:d.shape[0],:d.shape[0]] = np.diag(d)\n",
    "    return U, D, V"
   ]
  },
  {
   "cell_type": "code",
   "execution_count": 387,
   "metadata": {
    "collapsed": false
   },
   "outputs": [],
   "source": [
    "U, D, V = full_svd(A_imputed)"
   ]
  },
  {
   "cell_type": "code",
   "execution_count": 388,
   "metadata": {
    "collapsed": false
   },
   "outputs": [
    {
     "data": {
      "text/plain": [
       "(array([[-0.38, -0.51,  0.23, -0.42,  0.6 ,  0.02],\n",
       "        [-0.43, -0.51,  0.23,  0.26, -0.61, -0.24],\n",
       "        [-0.33,  0.58,  0.34, -0.19,  0.04, -0.63],\n",
       "        [-0.37,  0.34,  0.45,  0.06, -0.11,  0.73],\n",
       "        [-0.5 ,  0.11, -0.43,  0.64,  0.38, -0.04],\n",
       "        [-0.41,  0.11, -0.63, -0.55, -0.32,  0.13]]),\n",
       " array([[ 29.7 ,   0.  ,   0.  ,   0.  ,   0.  ],\n",
       "        [  0.  ,  10.  ,   0.  ,   0.  ,   0.  ],\n",
       "        [  0.  ,   0.  ,   7.09,   0.  ,   0.  ],\n",
       "        [  0.  ,   0.  ,   0.  ,   2.76,   0.  ],\n",
       "        [  0.  ,   0.  ,   0.  ,   0.  ,   0.68],\n",
       "        [  0.  ,   0.  ,   0.  ,   0.  ,   0.  ]]),\n",
       " array([[-0.44, -0.6 ,  0.02, -0.11, -0.66],\n",
       "        [-0.37, -0.25,  0.73, -0.07,  0.51],\n",
       "        [-0.39,  0.74,  0.35,  0.06, -0.41],\n",
       "        [-0.56,  0.16, -0.5 , -0.56,  0.31],\n",
       "        [-0.45, -0.04, -0.3 ,  0.81,  0.2 ]]))"
      ]
     },
     "execution_count": 388,
     "metadata": {},
     "output_type": "execute_result"
    }
   ],
   "source": [
    "%precision 2\n",
    "U, D, V.T"
   ]
  },
  {
   "cell_type": "code",
   "execution_count": 389,
   "metadata": {
    "collapsed": false
   },
   "outputs": [
    {
     "data": {
      "text/plain": [
       "array([[ 8. ,  7. ,  1. ,  5.5,  4. ],\n",
       "       [ 9. ,  7. ,  2. ,  5. ,  6. ],\n",
       "       [ 1. ,  4. ,  9. ,  5.5,  3. ],\n",
       "       [ 3. ,  5.5,  8. ,  5. ,  4. ],\n",
       "       [ 5.5,  3. ,  5.5,  9. ,  9. ],\n",
       "       [ 5. ,  1. ,  4. , 10. ,  5.5]])"
      ]
     },
     "execution_count": 389,
     "metadata": {},
     "output_type": "execute_result"
    }
   ],
   "source": [
    "reconstruction = np.dot(U, np.dot(D, V))\n",
    "reconstruction"
   ]
  },
  {
   "cell_type": "code",
   "execution_count": 390,
   "metadata": {
    "collapsed": false
   },
   "outputs": [
    {
     "data": {
      "text/plain": [
       "True"
      ]
     },
     "execution_count": 390,
     "metadata": {},
     "output_type": "execute_result"
    }
   ],
   "source": [
    "np.allclose(A_imputed, reconstruction)"
   ]
  },
  {
   "cell_type": "code",
   "execution_count": 391,
   "metadata": {
    "collapsed": true
   },
   "outputs": [],
   "source": [
    "def scatter_label(data, labels):\n",
    "    \"\"\"Helper function for pretty scatterplots.\"\"\"\n",
    "    plt.scatter(data[:, 0], data[:, 1], s=60)\n",
    "    for label, x, y in zip(labels, data[:, 0], data[:, 1]):\n",
    "        plt.annotate(\n",
    "            label, \n",
    "            xy = (x, y), xytext = (20, 20),\n",
    "            textcoords = 'offset points', ha = 'right', va = 'bottom',\n",
    "            bbox = dict(boxstyle = 'round, pad=0.5', fc = 'cyan', alpha = 0.5),\n",
    "            arrowprops = dict(arrowstyle = '->', connectionstyle = 'arc3,rad=0'))"
   ]
  },
  {
   "cell_type": "code",
   "execution_count": 392,
   "metadata": {
    "collapsed": false
   },
   "outputs": [
    {
     "data": {
      "image/png": "[encoded data removed]",
      "text/plain": [
       "<matplotlib.figure.Figure at 0x11b4959b0>"
      ]
     },
     "metadata": {},
     "output_type": "display_data"
    }
   ],
   "source": [
    "U_2 = U[:,:2]\n",
    "movie_labels = ['American Pie', 'Shrek', 'Titanic', 'The godfather', 'Avatar', 'Star Wars']\n",
    "scatter_label(U_2, movie_labels)\n",
    "    \n",
    "_ = plt.title(\"8. Representations of movies using first two singular values.\", \n",
    "              size=20, y=1.1)"
   ]
  },
  {
   "cell_type": "markdown",
   "metadata": {},
   "source": [
    "We can interpret the above plot's X axis as a (sort-of) degree of realism, while the Y axis can be seen as a distinction between drama (positive) and comedy (negative)."
   ]
  },
  {
   "cell_type": "code",
   "execution_count": 393,
   "metadata": {
    "collapsed": false
   },
   "outputs": [
    {
     "data": {
      "image/png": "[encoded data removed]",
      "text/plain": [
       "<matplotlib.figure.Figure at 0x135eba198>"
      ]
     },
     "metadata": {},
     "output_type": "display_data"
    }
   ],
   "source": [
    "# Idea: analyze massive data and detect cultists who enjoy cult\n",
    "# classics which some critics consider really bad (e.g. The Room, The Big Lebowski, etc.).\n",
    "\n",
    "# Idea: analyze stuff user hasn't yet seen. Avoid stuff with very high or very low ratings.\n",
    "\n",
    "V_2 = V[:,:2]\n",
    "user_labels = ['Ben', 'Tom', 'John', 'Fred', 'Jack']\n",
    "scatter_label(V_2, user_labels)"
   ]
  },
  {
   "cell_type": "markdown",
   "metadata": {},
   "source": [
    "John and Jack prefer more serious movies, while Fred, Tom, and Ben are into comedies. Out of them, Fred seems to be the most well-rounded, but with still quite a strong inclination towards sci-fi."
   ]
  },
  {
   "cell_type": "markdown",
   "metadata": {},
   "source": [
    "The second singular value represents the comedy/drama division, while the first one seems to represent the degree of realism."
   ]
  },
  {
   "cell_type": "code",
   "execution_count": 394,
   "metadata": {
    "collapsed": false
   },
   "outputs": [
    {
     "ename": "NameError",
     "evalue": "name 'D_full' is not defined",
     "output_type": "error",
     "traceback": [
      "\u001b[0;31m---------------------------------------------------------------------------\u001b[0m",
      "\u001b[0;31mNameError\u001b[0m                                 Traceback (most recent call last)",
      "\u001b[0;32m<ipython-input-394-1ae4f0fe36b5>\u001b[0m in \u001b[0;36m<module>\u001b[0;34m()\u001b[0m\n\u001b[0;32m----> 1\u001b[0;31m \u001b[0mA_approx\u001b[0m \u001b[0;34m=\u001b[0m \u001b[0mnp\u001b[0m\u001b[0;34m.\u001b[0m\u001b[0mdot\u001b[0m\u001b[0;34m(\u001b[0m\u001b[0mU\u001b[0m\u001b[0;34m[\u001b[0m\u001b[0;34m:\u001b[0m\u001b[0;34m,\u001b[0m\u001b[0;34m:\u001b[0m\u001b[0;36m3\u001b[0m\u001b[0;34m]\u001b[0m\u001b[0;34m,\u001b[0m \u001b[0mnp\u001b[0m\u001b[0;34m.\u001b[0m\u001b[0mdot\u001b[0m\u001b[0;34m(\u001b[0m\u001b[0mD_full\u001b[0m\u001b[0;34m[\u001b[0m\u001b[0;34m:\u001b[0m\u001b[0;36m3\u001b[0m\u001b[0;34m,\u001b[0m\u001b[0;34m:\u001b[0m\u001b[0;34m]\u001b[0m\u001b[0;34m,\u001b[0m \u001b[0mV\u001b[0m\u001b[0;34m)\u001b[0m\u001b[0;34m)\u001b[0m\u001b[0;34m\u001b[0m\u001b[0m\n\u001b[0m\u001b[1;32m      2\u001b[0m \u001b[0mprint\u001b[0m\u001b[0;34m(\u001b[0m\u001b[0mA_imputed\u001b[0m\u001b[0;34m)\u001b[0m\u001b[0;34m\u001b[0m\u001b[0m\n\u001b[1;32m      3\u001b[0m \u001b[0mprint\u001b[0m\u001b[0;34m(\u001b[0m\u001b[0mA_approx\u001b[0m\u001b[0;34m)\u001b[0m\u001b[0;34m\u001b[0m\u001b[0m\n\u001b[1;32m      4\u001b[0m \u001b[0merror\u001b[0m \u001b[0;34m=\u001b[0m \u001b[0mnp\u001b[0m\u001b[0;34m.\u001b[0m\u001b[0mlinalg\u001b[0m\u001b[0;34m.\u001b[0m\u001b[0mnorm\u001b[0m\u001b[0;34m(\u001b[0m\u001b[0mA_approx\u001b[0m \u001b[0;34m-\u001b[0m \u001b[0mA_imputed\u001b[0m\u001b[0;34m)\u001b[0m\u001b[0;34m\u001b[0m\u001b[0m\n\u001b[1;32m      5\u001b[0m \u001b[0mprint\u001b[0m\u001b[0;34m(\u001b[0m\u001b[0;34m\"Approximation error (frobenius): %f\"\u001b[0m \u001b[0;34m%\u001b[0m \u001b[0merror\u001b[0m\u001b[0;34m)\u001b[0m\u001b[0;34m\u001b[0m\u001b[0m\n",
      "\u001b[0;31mNameError\u001b[0m: name 'D_full' is not defined"
     ]
    }
   ],
   "source": [
    "A_approx = np.dot(U[:,:3], np.dot(D_full[:3,:], V))\n",
    "print(A_imputed)\n",
    "print(A_approx)\n",
    "error = np.linalg.norm(A_approx - A_imputed)\n",
    "print(\"Approximation error (frobenius): %f\" % error)"
   ]
  },
  {
   "cell_type": "markdown",
   "metadata": {},
   "source": [
    "## Bob wants to join the system!"
   ]
  },
  {
   "cell_type": "code",
   "execution_count": null,
   "metadata": {
    "collapsed": false
   },
   "outputs": [],
   "source": [
    "Bob = np.array([[1, np.NaN, np.NaN, 6, np.NaN, 10]])\n",
    "Bob_imputed = np.nan_to_num(Bob)\n",
    "Bob_imputed[Bob_imputed == 0] = 5.5\n",
    "Bob_imputed"
   ]
  },
  {
   "cell_type": "code",
   "execution_count": null,
   "metadata": {
    "collapsed": false
   },
   "outputs": [],
   "source": [
    "# TODO(andrei) Do this in a prettier way.\n",
    "A_bob_imputed = np.hstack((A_imputed, Bob_imputed.T))\n",
    "A_bob_imputed"
   ]
  },
  {
   "cell_type": "code",
   "execution_count": null,
   "metadata": {
    "collapsed": false
   },
   "outputs": [],
   "source": [
    "U, D, V = full_svd(A_bob_imputed)\n",
    "scatter_label(U[:,:2], movie_labels)"
   ]
  },
  {
   "cell_type": "code",
   "execution_count": null,
   "metadata": {
    "collapsed": false
   },
   "outputs": [],
   "source": [
    "user_labels.append('Bob')\n",
    "scatter_label(V[:,:2], user_labels)"
   ]
  },
  {
   "cell_type": "markdown",
   "metadata": {},
   "source": [
    "Bob seems to be close to Fred, in that he also likes more serous movies, but he's even farther than the rest since he absolutely hates comedies such as American Pie."
   ]
  },
  {
   "cell_type": "code",
   "execution_count": null,
   "metadata": {
    "collapsed": false
   },
   "outputs": [],
   "source": [
    "A_bob_approx = np.dot(U[:,:3], np.dot(D[:3,:], V))\n",
    "print(\"Approximate rating matrix including Bob:\\n\\n\", A_bob_approx, \"\\n\")\n",
    "error_frob = np.linalg.norm(A_approx - A_imputed, ord='fro')\n",
    "error_euclid = np.linalg.norm(A_approx - A_imputed, ord=2)\n",
    "\n",
    "print((\"Approximation errors after adding Bob to system:\\n\" +\n",
    "      \"\\t- Frobenius norm: %f\\n\" +\n",
    "      \"\\t- Euclidean norm: %f\\n\") % (error_frob, error_euclid))"
   ]
  },
  {
   "cell_type": "markdown",
   "metadata": {},
   "source": [
    "We use the highest predicted rating which was missing in Bob's original ratings in order to recommend him a movie."
   ]
  },
  {
   "cell_type": "code",
   "execution_count": null,
   "metadata": {
    "collapsed": false
   },
   "outputs": [],
   "source": [
    "# Get Bob's rating column!\n",
    "bob_index = user_labels.index('Bob')\n",
    "Bob_new_ratings = A_bob_approx[:, bob_index]\n",
    "\n",
    "# Keep track of the original row indices in the column...\n",
    "Bob_candidates = np.array([np.arange(Bob.shape[1]), Bob_new_ratings])\n",
    "# ...and only keep rows for movies Bob didn't see yet.\n",
    "Bob_candidates = Bob_candidates[:, np.isnan(Bob[0])]\n",
    "\n",
    "# Pick the row with the highest rating.\n",
    "best_entry = Bob_candidates[:, np.argmax(Bob_candidates[1,:])]\n",
    "# And then grab the movie index.\n",
    "best_index = int(best_entry[0])\n",
    "\n",
    "print(\"Bob should watch %s!\" % movie_labels[best_index])"
   ]
  },
  {
   "cell_type": "markdown",
   "metadata": {},
   "source": [
    "In closing, Bob's ratings do affect our prediction system, since they add more information (and also a little bit more confusion, due to a slightly larger approximation error) to our data matrix."
   ]
  },
  {
   "cell_type": "markdown",
   "metadata": {},
   "source": [
    "# Problem 2: Collaborative Filtering"
   ]
  },
  {
   "cell_type": "code",
   "execution_count": 395,
   "metadata": {
    "collapsed": true
   },
   "outputs": [],
   "source": [
    "def load_ratings(data_file):\n",
    "    ratings = []\n",
    "    with open(data_file, 'r') as file:\n",
    "        header = file.readline()\n",
    "        print(\"Header: %s\" % header)\n",
    "        for line in file:\n",
    "            key, value_string = line.split(\",\")\n",
    "            rating = int(value_string)\n",
    "            row_string, col_string = key.split(\"_\")\n",
    "            row = int(row_string[1:])\n",
    "            col = int(col_string[1:])\n",
    "            \n",
    "            ratings.append((row - 1, col - 1, rating))\n",
    "            \n",
    "    print(\"Finished loading ratings.\")\n",
    "    return ratings\n",
    "\n",
    "def ratings_to_matrix(ratings, matrix_rows, matrix_cols):\n",
    "    print(\"Building [%d x %d] rating matrix.\" % (matrix_rows, matrix_cols))\n",
    "    matrix = np.zeros([matrix_rows, matrix_cols])\n",
    "    for (row, col, rating) in ratings:\n",
    "        matrix[row, col] = rating\n",
    "        \n",
    "    print(\"Finished building rating matrix.\")\n",
    "    return matrix"
   ]
  },
  {
   "cell_type": "code",
   "execution_count": 396,
   "metadata": {
    "collapsed": false
   },
   "outputs": [],
   "source": [
    "# Rows are users\n",
    "USER_COUNT = 10000\n",
    "\n",
    "# Columns are items\n",
    "ITEM_COUNT = 1000\n",
    "\n",
    "VALIDATION_RATIO = 0.50\n",
    "TRAINING_RATIO = 1 - VALIDATION_RATIO\n",
    "\n",
    "RANDOM_SEED = 0xC0FFEE\n",
    "\n",
    "random.seed(RANDOM_SEED)\n",
    "np.random.seed(RANDOM_SEED)"
   ]
  },
  {
   "cell_type": "code",
   "execution_count": 397,
   "metadata": {
    "collapsed": false
   },
   "outputs": [
    {
     "name": "stdout",
     "output_type": "stream",
     "text": [
      "Header: Id,Prediction\n",
      "\n",
      "Finished loading ratings.\n"
     ]
    }
   ],
   "source": [
    "all_ratings = load_ratings('data/cf/data_train.csv')"
   ]
  },
  {
   "cell_type": "code",
   "execution_count": 398,
   "metadata": {
    "collapsed": false
   },
   "outputs": [
    {
     "name": "stdout",
     "output_type": "stream",
     "text": [
      "Building [10000 x 1000] rating matrix.\n",
      "Finished building rating matrix.\n"
     ]
    }
   ],
   "source": [
    "data_matrix = ratings_to_matrix(all_ratings, USER_COUNT, ITEM_COUNT)"
   ]
  },
  {
   "cell_type": "code",
   "execution_count": 399,
   "metadata": {
    "collapsed": false
   },
   "outputs": [
    {
     "name": "stdout",
     "output_type": "stream",
     "text": [
      "We have [1388107] data points.\n",
      "Will use [694053] data points for validation, and [694054] for training.\n"
     ]
    }
   ],
   "source": [
    "all_ratings_count = len(all_ratings)\n",
    "print(\"We have [%d] data points.\" % all_ratings_count)\n",
    "\n",
    "validation_count = int(VALIDATION_RATIO * all_ratings_count)\n",
    "training_count = all_ratings_count - validation_count\n",
    "print(\"Will use [%d] data points for validation, and [%d] for training.\" %\n",
    "     (validation_count, training_count))"
   ]
  },
  {
   "cell_type": "code",
   "execution_count": 511,
   "metadata": {
    "collapsed": true
   },
   "outputs": [],
   "source": [
    "def shuffle_split_data(all_data, training_count, validation_count):\n",
    "    \"\"\"Returns a split consisting of (training, validation) data, created\n",
    "    after shuffling the input data.\n",
    "    \"\"\"\n",
    "    to_shuffle = copy.copy(all_data)\n",
    "    random.shuffle(to_shuffle)\n",
    "    return to_shuffle[:training_count], to_shuffle[training_count:]"
   ]
  },
  {
   "cell_type": "code",
   "execution_count": 512,
   "metadata": {
    "collapsed": false
   },
   "outputs": [
    {
     "name": "stdout",
     "output_type": "stream",
     "text": [
      "Building [10000 x 1000] rating matrix.\n",
      "Finished building rating matrix.\n",
      "Building [10000 x 1000] rating matrix.\n",
      "Finished building rating matrix.\n"
     ]
    }
   ],
   "source": [
    "train, validation = shuffle_split_data(all_ratings, training_count, validation_count)\n",
    "train_matrix = ratings_to_matrix(train, USER_COUNT, ITEM_COUNT)\n",
    "validation_matrix = ratings_to_matrix(validation, USER_COUNT, ITEM_COUNT)\n",
    "\n",
    "assert len(train_matrix[train_matrix != 0]) == training_count\n",
    "assert len(validation_matrix[validation_matrix != 0]) == validation_count"
   ]
  },
  {
   "cell_type": "code",
   "execution_count": 513,
   "metadata": {
    "collapsed": true
   },
   "outputs": [],
   "source": [
    "def score_predictions(prediction_matrix, validation_matrix):\n",
    "    \"\"\"Computes the RMSE score for the prediction matrix based\n",
    "    on the data points present in the validation matrix.\n",
    "    \n",
    "    \"\"\"\n",
    "    \n",
    "    # Want to compute RMSE just for nonzero validation elements.\n",
    "    mask = (validation_matrix != 0)\n",
    "    count = np.sum(mask)\n",
    "    print(\"We have %d validation data points.\" % count)\n",
    "    actual = prediction_matrix[mask]\n",
    "    real = validation_matrix[mask]\n",
    "    \n",
    "    delta = np.abs(actual - real)\n",
    "    delta = delta * delta\n",
    "    delta = np.sum(delta)\n",
    "    \n",
    "    score = np.sqrt(delta / count)\n",
    "    return score\n",
    "\n",
    "def score_predictions_slow(prediction_matrix, validation_matrix):\n",
    "    s = 0\n",
    "    count = 0 #np.sum(validation_matrix > 0)\n",
    "    for row in range(validation_matrix.shape[0]):\n",
    "        for col in range(validation_matrix.shape[1]):\n",
    "            if validation_matrix[row, col] > 0:\n",
    "                delta = (validation_matrix[row, col] - prediction_matrix[row, col]) ** 2\n",
    "                s += delta\n",
    "                count += 1\n",
    "                \n",
    "    score = np.sqrt(s * 1.0 / count)\n",
    "    return score"
   ]
  },
  {
   "cell_type": "code",
   "execution_count": 514,
   "metadata": {
    "collapsed": false,
    "scrolled": true
   },
   "outputs": [
    {
     "name": "stdout",
     "output_type": "stream",
     "text": [
      "We have 694053 validation data points.\n",
      "RMSE: 1.1853\n",
      "RMSE: 1.1853\n"
     ]
    }
   ],
   "source": [
    "def predict_by_avg_item_rating(data):\n",
    "    # Assume every product has at least one rating.\n",
    "    # A product is represented by a column\n",
    "    nonzero = (data != 0)\n",
    "    rating_counts = nonzero.sum(1)\n",
    "    rating_sums = data.sum(1)\n",
    "    item_ratings = rating_sums / rating_counts\n",
    "    predictions = np.copy(data)\n",
    "    for col in range(data.shape[1]):\n",
    "        no_rating = (predictions[:, col] == 0)\n",
    "        predictions[no_rating, col] = item_ratings[col]\n",
    "\n",
    "    zero_pred = (predictions == 0)\n",
    "    assert np.sum(zero_pred) == 0\n",
    "    return predictions\n",
    "\n",
    "\n",
    "no_svd_result = predict_by_avg_item_rating(train_matrix)\n",
    "print(\"RMSE: %.4f\" % score_predictions(no_svd_result, validation_matrix))\n",
    "print(\"RMSE: %.4f\" % score_predictions_slow(no_svd_result, validation_matrix))"
   ]
  },
  {
   "cell_type": "code",
   "execution_count": 515,
   "metadata": {
    "collapsed": false
   },
   "outputs": [],
   "source": [
    "def svd_predict(data, k=290, sanity_check=True):\n",
    "    imputed = predict_by_avg_item_rating(data)\n",
    "    U, d, V = np.linalg.svd(imputed, full_matrices=True)\n",
    "    # This ensures that our variables correspond with the notation in\n",
    "    # the slides and homework sheets.\n",
    "    V = V.T\n",
    "    D = np.zeros_like(imputed)\n",
    "    D[:d.shape[0], :d.shape[0]] = np.diag(d)\n",
    "#     U_prime = np.dot(U, np.sqrt(D))\n",
    "#     V_prime = np.dot(np.sqrt(D), V)\n",
    "    \n",
    "    if sanity_check:\n",
    "        reconstruction = np.dot(U, np.dot(D, V.T))\n",
    "        assert np.allclose(reconstruction, imputed)\n",
    "        \n",
    "#         rec_2 = np.dot(U_prime, V_prime.T)\n",
    "#         assert np.allclose(rec_2[:,:1000], imputed)\n",
    "    \n",
    "#     U_prime_lim = U_prime[:,:k]\n",
    "#     V_prime_lim = V_prime[:,:k]\n",
    "\n",
    "#     k_prediction = np.dot(U_prime_lim, V_prime_lim.T)\n",
    "    U_lim = U[:,:k]\n",
    "    D_lim = D[:k, :]\n",
    "    V_lim = V[:, :]\n",
    "    k_prediction = np.dot(U_lim, np.dot(D_lim, V_lim.T))\n",
    "    k_prediction = k_prediction[:, :1000]\n",
    "    \n",
    "    return k_prediction"
   ]
  },
  {
   "cell_type": "code",
   "execution_count": 516,
   "metadata": {
    "collapsed": true
   },
   "outputs": [],
   "source": [
    "# Reuse previous prediction\n",
    "imputed = no_svd_result\n",
    "\n",
    "U, d, V = np.linalg.svd(imputed, full_matrices=True)\n",
    "V = V.T"
   ]
  },
  {
   "cell_type": "code",
   "execution_count": 517,
   "metadata": {
    "collapsed": false
   },
   "outputs": [
    {
     "name": "stdout",
     "output_type": "stream",
     "text": [
      "All close?  True\n",
      "3.64525075188\n"
     ]
    }
   ],
   "source": [
    "D = np.zeros_like(imputed)\n",
    "D[:d.shape[0], :d.shape[0]] = np.diag(d)\n",
    "reconstruction = np.dot(U, np.dot(D, V.T))\n",
    "print(\"All close? \", np.allclose(imputed, reconstruction))\n",
    "U_prime = np.dot(U, np.sqrt(D))\n",
    "V_prime = np.dot(np.sqrt(D), V)\n",
    "\n",
    "print(reconstruction.mean())"
   ]
  },
  {
   "cell_type": "code",
   "execution_count": 507,
   "metadata": {
    "collapsed": false
   },
   "outputs": [
    {
     "name": "stdout",
     "output_type": "stream",
     "text": [
      "(10000, 1000)\n",
      "0.164864235766\n"
     ]
    }
   ],
   "source": [
    "# There's probably a very simple explanation for why this is fucking up.\n",
    "recon = np.dot(U_prime, V_prime.T)[:,:1000]\n",
    "print(recon.shape)\n",
    "print(recon.mean())"
   ]
  },
  {
   "cell_type": "code",
   "execution_count": 508,
   "metadata": {
    "collapsed": false
   },
   "outputs": [],
   "source": [
    "errors = []\n",
    "means = []\n",
    "ks = range(10, 1000, 25)\n",
    "for k in ks:\n",
    "    U_k = U[:, :k]\n",
    "    D_k = D[:k, :]\n",
    "    V_k = V[:, :]\n",
    "\n",
    "    recon_k = np.dot(U_k, np.dot(D_k, V_k.T))\n",
    "    fro = np.linalg.norm(recon_k - imputed)\n",
    "    errors.append(fro)\n",
    "    means.append(np.mean(recon_k))"
   ]
  },
  {
   "cell_type": "code",
   "execution_count": 475,
   "metadata": {
    "collapsed": false
   },
   "outputs": [
    {
     "data": {
      "text/plain": [
       "<matplotlib.text.Text at 0x135c59320>"
      ]
     },
     "execution_count": 475,
     "metadata": {},
     "output_type": "execute_result"
    },
    {
     "data": {
      "image/png": "[encoded data removed]",
      "text/plain": [
       "<matplotlib.figure.Figure at 0x13c3d4860>"
      ]
     },
     "metadata": {},
     "output_type": "display_data"
    }
   ],
   "source": [
    "plt.plot(ks, errors)\n",
    "plt.xlabel(\"kept singular values\")\n",
    "plt.ylabel(\"approximation error (Frobenius norm)\")"
   ]
  },
  {
   "cell_type": "code",
   "execution_count": 482,
   "metadata": {
    "collapsed": false
   },
   "outputs": [
    {
     "data": {
      "text/plain": [
       "[<matplotlib.lines.Line2D at 0x10be858d0>]"
      ]
     },
     "execution_count": 482,
     "metadata": {},
     "output_type": "execute_result"
    },
    {
     "data": {
      "image/png": "[encoded data removed]",
      "text/plain": [
       "<matplotlib.figure.Figure at 0x136c4ccc0>"
      ]
     },
     "metadata": {},
     "output_type": "display_data"
    }
   ],
   "source": [
    "# Sanity\n",
    "plt.plot(ks, means)"
   ]
  },
  {
   "cell_type": "code",
   "execution_count": 438,
   "metadata": {
    "collapsed": false
   },
   "outputs": [
    {
     "data": {
      "text/plain": [
       "[<matplotlib.lines.Line2D at 0x10774c4a8>]"
      ]
     },
     "execution_count": 438,
     "metadata": {},
     "output_type": "execute_result"
    },
    {
     "data": {
      "image/png": "[encoded data removed]",
      "text/plain": [
       "<matplotlib.figure.Figure at 0x109d03ef0>"
      ]
     },
     "metadata": {},
     "output_type": "display_data"
    }
   ],
   "source": [
    "# Plot the singular value spectrum\n",
    "plt.plot(np.arange(15), d[:15])"
   ]
  },
  {
   "cell_type": "code",
   "execution_count": 323,
   "metadata": {
    "collapsed": false
   },
   "outputs": [
    {
     "name": "stdout",
     "output_type": "stream",
     "text": [
      "(10000, 1000)\n",
      "(10000, 1000)\n",
      "(10000, 1000)\n"
     ]
    }
   ],
   "source": [
    "print(U_prime.shape)\n",
    "print(V_prime.shape)\n",
    "\n",
    "derp_prediction = np.dot(U_prime, V_prime.T)\n",
    "derp_prediction = derp_prediction[:,:1000]\n",
    "print(derp_prediction.shape)"
   ]
  },
  {
   "cell_type": "code",
   "execution_count": 526,
   "metadata": {
    "collapsed": false
   },
   "outputs": [],
   "source": [
    "fun_prediction = svd_predict(train_matrix)\n",
    "fun_prediction_10 = svd_predict(train_matrix, k=10)"
   ]
  },
  {
   "cell_type": "code",
   "execution_count": 527,
   "metadata": {
    "collapsed": false
   },
   "outputs": [
    {
     "name": "stdout",
     "output_type": "stream",
     "text": [
      "We have 694053 validation data points.\n",
      "Item rating prediction score: 1.18528390\n",
      "We have 694053 validation data points.\n",
      "SVD prediction score (k=default): 1.17668367\n",
      "We have 694053 validation data points.\n",
      "SVD prediction score (k=10): 1.11655980\n",
      "We have 694053 validation data points.\n",
      "Should be 0:  0.0\n",
      "We have 694053 validation data points.\n",
      "Should be 0:  0.0\n",
      "We have 694053 validation data points.\n",
      "Should be big:  3.83145839385\n"
     ]
    }
   ],
   "source": [
    "print(\"Item rating prediction score: %.8f\" % score_predictions(no_svd_result, validation_matrix))\n",
    "print(\"SVD prediction score (k=default): %.8f\" % score_predictions(fun_prediction, validation_matrix))\n",
    "print(\"SVD prediction score (k=10): %.8f\" % score_predictions(fun_prediction_10, validation_matrix))\n",
    "\n",
    "# Some sanity checks\n",
    "print(\"Should be 0: \", score_predictions(data_matrix, validation_matrix))\n",
    "print(\"Should be 0: \", score_predictions(validation_matrix, validation_matrix))\n",
    "print(\"Should be big: \", score_predictions(train_matrix, validation_matrix))"
   ]
  },
  {
   "cell_type": "code",
   "execution_count": 324,
   "metadata": {
    "collapsed": false
   },
   "outputs": [
    {
     "name": "stdout",
     "output_type": "stream",
     "text": [
      "1.37591967944\n",
      "1.26657491722\n"
     ]
    }
   ],
   "source": [
    "print(rmse(derp_prediction, data_matrix))\n",
    "print(rmse(derp_prediction, train_matrix))"
   ]
  },
  {
   "cell_type": "code",
   "execution_count": 524,
   "metadata": {
    "collapsed": false
   },
   "outputs": [
    {
     "name": "stdout",
     "output_type": "stream",
     "text": [
      "We have 694053 validation data points.\n",
      "We have 694053 validation data points.\n",
      "We have 694053 validation data points.\n",
      "We have 694053 validation data points.\n",
      "We have 694053 validation data points.\n",
      "We have 694053 validation data points.\n",
      "We have 694053 validation data points.\n",
      "We have 694053 validation data points.\n",
      "We have 694053 validation data points.\n",
      "We have 694053 validation data points.\n",
      "We have 694053 validation data points.\n",
      "We have 694053 validation data points.\n",
      "We have 694053 validation data points.\n",
      "We have 694053 validation data points.\n",
      "We have 694053 validation data points.\n",
      "We have 694053 validation data points.\n",
      "We have 694053 validation data points.\n",
      "We have 694053 validation data points.\n",
      "We have 694053 validation data points.\n",
      "We have 694053 validation data points.\n",
      "We have 694053 validation data points.\n",
      "We have 694053 validation data points.\n",
      "We have 694053 validation data points.\n",
      "We have 694053 validation data points.\n",
      "We have 694053 validation data points.\n",
      "We have 694053 validation data points.\n",
      "We have 694053 validation data points.\n",
      "We have 694053 validation data points.\n",
      "We have 694053 validation data points.\n"
     ]
    }
   ],
   "source": [
    "rmses = []\n",
    "for k in range(1, 30, 1):\n",
    "    U_lim = U[:,:k]\n",
    "    D_lim = D[:k, :]\n",
    "    V_lim = V[:,:]\n",
    "\n",
    "    k_prediction = np.dot(U_lim, np.dot(D_lim, V_lim.T))\n",
    "    k_prediction = k_prediction[:, :1000]\n",
    "    rmses.append((k, score_predictions(k_prediction, validation_matrix)))"
   ]
  },
  {
   "cell_type": "code",
   "execution_count": 525,
   "metadata": {
    "collapsed": false
   },
   "outputs": [
    {
     "data": {
      "text/plain": [
       "[<matplotlib.lines.Line2D at 0x1078064a8>]"
      ]
     },
     "execution_count": 525,
     "metadata": {},
     "output_type": "execute_result"
    },
    {
     "data": {
      "image/png": "[encoded data removed]",
      "text/plain": [
       "<matplotlib.figure.Figure at 0x10a056e10>"
      ]
     },
     "metadata": {},
     "output_type": "display_data"
    }
   ],
   "source": [
    "plt.plot([e[0] for e in rmses], [e[1] for e in rmses])"
   ]
  },
  {
   "cell_type": "code",
   "execution_count": 327,
   "metadata": {
    "collapsed": false
   },
   "outputs": [
    {
     "name": "stdout",
     "output_type": "stream",
     "text": [
      "100: 1.369277\n",
      "155: 1.366550\n",
      "210: 1.365550\n",
      "265: 1.365073\n",
      "320: 1.365039\n",
      "375: 1.365250\n",
      "430: 1.365682\n",
      "485: 1.366193\n"
     ]
    }
   ],
   "source": [
    "for (k, err) in rmses:\n",
    "    print(\"%d: %.6f\" % (k, err))"
   ]
  },
  {
   "cell_type": "code",
   "execution_count": 328,
   "metadata": {
    "collapsed": false
   },
   "outputs": [],
   "source": [
    "test_result = svd_predict(data_matrix, k=10)"
   ]
  },
  {
   "cell_type": "code",
   "execution_count": 345,
   "metadata": {
    "collapsed": false
   },
   "outputs": [],
   "source": [
    "import os\n",
    "import time\n",
    "\n",
    "def output_solution(solution_matrix):\n",
    "    submisson_template = load_ratings('data/cf/sampleSubmission.csv')\n",
    "    output = \"Id,Prediction\\n\"\n",
    "    for (row, col, _) in submisson_template:\n",
    "        output += \"r%d_c%d,%f\\n\" % (row + 1, col + 1, solution_matrix[row, col])\n",
    "                \n",
    "    return output\n",
    "\n",
    "def output_solution_to_file(solution_matrix, technique, output_root='out/cf'):\n",
    "    timestr = time.strftime(\"%Y%m%d-%H%M%S\")\n",
    "    file_name = \"submission-%s-%s.csv\" % (technique, timestr)\n",
    "    file_path = os.path.join(output_root, file_name)\n",
    "    with open(file_path, 'w') as output_file:\n",
    "        output_text = output_solution(solution_matrix)\n",
    "        output_file.write(output_text)"
   ]
  },
  {
   "cell_type": "code",
   "execution_count": 341,
   "metadata": {
    "collapsed": false
   },
   "outputs": [
    {
     "name": "stdout",
     "output_type": "stream",
     "text": [
      "Header: Id,Prediction\n",
      "\n",
      "Finished loading ratings.\n",
      "r44_c1,4.280287\n",
      "r120_c1,3.787954\n",
      "r182_c1,4.518252\n",
      "r318_c1,6.863484\n",
      "r352_c1,4.037553\n",
      "r410_c1,4.579720\n",
      "r418_c1,4.359145\n",
      "r457_c1,4.432412\n",
      "r470_c1,3.930574\n",
      "r497_c1,3.940320\n",
      "r515_c1,4.327632\n",
      "r518_c1,4.084689\n",
      "r521_c1,4.856781\n",
      "r559_c1,3.935963\n",
      "r566_c1,4.337\n",
      "...\n"
     ]
    }
   ],
   "source": [
    "output_text = output_solution(test_result)\n",
    "print(output_text[:250] + \"\\n...\")"
   ]
  },
  {
   "cell_type": "code",
   "execution_count": 346,
   "metadata": {
    "collapsed": false
   },
   "outputs": [
    {
     "name": "stdout",
     "output_type": "stream",
     "text": [
      "Header: Id,Prediction\n",
      "\n",
      "Finished loading ratings.\n"
     ]
    }
   ],
   "source": [
    "output_solution_to_file(test_result, \"vanilla\")"
   ]
  },
  {
   "cell_type": "code",
   "execution_count": null,
   "metadata": {
    "collapsed": true
   },
   "outputs": [],
   "source": []
  }
 ],
 "metadata": {
  "kernelspec": {
   "display_name": "Python 3",
   "language": "python",
   "name": "python3"
  },
  "language_info": {
   "codemirror_mode": {
    "name": "ipython",
    "version": 3
   },
   "file_extension": ".py",
   "mimetype": "text/x-python",
   "name": "python",
   "nbconvert_exporter": "python",
   "pygments_lexer": "ipython3",
   "version": "3.5.1"
  }
 },
 "nbformat": 4,
 "nbformat_minor": 0
}
