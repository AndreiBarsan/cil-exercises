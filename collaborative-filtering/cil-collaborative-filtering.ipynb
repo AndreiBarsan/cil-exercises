{
 "cells": [
  {
   "cell_type": "markdown",
   "metadata": {},
   "source": [
    "# CIL Challenge 1: Collaborative Filtering"
   ]
  },
  {
   "cell_type": "markdown",
   "metadata": {},
   "source": [
    "## Overview\n",
    "\n",
    "The challenge consists of reading a series of data points representing\n",
    "ratings users gave to some items, and predicting all other ratings in the\n",
    "user-item rating matrix, using various techniques, most of which are based\n",
    "on SVD (Singular Value Decomposition)."
   ]
  },
  {
   "cell_type": "markdown",
   "metadata": {},
   "source": [
    "## TODO and Ideas\n",
    " * Try out iterative SVD (Nikos' idea).\n",
    " * Try out regularized SGD (see news article linked in exercise sheet on CF in practice and the Netflix prize).\n",
    " * Try to improve SGD using biases (user bias, item bias).\n",
    " * Try out k-means (should perform worse technically).\n",
    " * Try to combine k-means with SVD."
   ]
  },
  {
   "cell_type": "markdown",
   "metadata": {},
   "source": [
    "## Data Wrangling"
   ]
  },
  {
   "cell_type": "code",
   "execution_count": 1,
   "metadata": {
    "collapsed": false
   },
   "outputs": [],
   "source": [
    "%matplotlib inline\n",
    "\n",
    "import matplotlib\n",
    "import numpy as np\n",
    "import matplotlib.pyplot as plt\n",
    "import pandas as pd\n",
    "\n",
    "import copy\n",
    "import random"
   ]
  },
  {
   "cell_type": "code",
   "execution_count": 2,
   "metadata": {
    "collapsed": true
   },
   "outputs": [],
   "source": [
    "def full_svd(matrix):\n",
    "    \"\"\"Utility which returns full SVD matrices.\n",
    "    \n",
    "    Works around the fact that numpy's SVD function returns the 'd'\n",
    "    as a vector of singular values, instead of a diagonal matrix.\n",
    "    \"\"\"\n",
    "    U, d, V = np.linalg.svd(matrix, full_matrices=True)\n",
    "    D = np.zeros(matrix.shape)\n",
    "    D[:d.shape[0],:d.shape[0]] = np.diag(d)\n",
    "    return U, D, V"
   ]
  },
  {
   "cell_type": "code",
   "execution_count": 3,
   "metadata": {
    "collapsed": true
   },
   "outputs": [],
   "source": [
    "def load_ratings(data_file):\n",
    "    \"\"\"Loads the rating data from the specified file. \n",
    "    \n",
    "    Does not yet build the rating matrix. Use 'ratings_to_matrix' to do that.\n",
    "    Assumes the file has a header (which is ignored), and that the ratings are\n",
    "    then specified as 'rXXX_cXXX,X', where the 'X' blanks specify the row, the\n",
    "    column, and then the actual (integer) rating.\n",
    "    \"\"\"\n",
    "    ratings = []\n",
    "    with open(data_file, 'r') as file:\n",
    "        header = file.readline()\n",
    "        # print(\"Header: %s\" % header)\n",
    "        for line in file:\n",
    "            key, value_string = line.split(\",\")\n",
    "            rating = int(value_string)\n",
    "            row_string, col_string = key.split(\"_\")\n",
    "            row = int(row_string[1:])\n",
    "            col = int(col_string[1:])\n",
    "            \n",
    "            if rating < 1 or rating > 5:\n",
    "                raise ValueError(\"Found illegal rating value [%d].\" % rating)\n",
    "            \n",
    "            ratings.append((row - 1, col - 1, rating))\n",
    "            \n",
    "    return ratings\n",
    "\n",
    "def ratings_to_matrix(ratings, matrix_rows, matrix_cols):\n",
    "    \"\"\"Converts a list of ratings to a numpy matrix.\"\"\"\n",
    "    print(\"Building [%d x %d] rating matrix.\" % (matrix_rows, matrix_cols))\n",
    "    matrix = np.zeros([matrix_rows, matrix_cols])\n",
    "    for (row, col, rating) in ratings:\n",
    "        matrix[row, col] = rating\n",
    "        \n",
    "    print(\"Finished building rating matrix.\")\n",
    "    return matrix"
   ]
  },
  {
   "cell_type": "code",
   "execution_count": 4,
   "metadata": {
    "collapsed": false
   },
   "outputs": [],
   "source": [
    "# Rows are users\n",
    "USER_COUNT = 10000\n",
    "\n",
    "# Columns are items\n",
    "ITEM_COUNT = 1000\n",
    "\n",
    "VALIDATION_RATIO = 0.1\n",
    "TRAINING_RATIO = 1 - VALIDATION_RATIO"
   ]
  },
  {
   "cell_type": "code",
   "execution_count": 5,
   "metadata": {
    "collapsed": false
   },
   "outputs": [],
   "source": [
    "RANDOM_SEED = 0xC0FFEE\n",
    "random.seed(RANDOM_SEED)\n",
    "np.random.seed(RANDOM_SEED)"
   ]
  },
  {
   "cell_type": "code",
   "execution_count": 6,
   "metadata": {
    "collapsed": false
   },
   "outputs": [],
   "source": [
    "all_ratings = load_ratings('data/cf/data_train.csv')"
   ]
  },
  {
   "cell_type": "code",
   "execution_count": 7,
   "metadata": {
    "collapsed": false
   },
   "outputs": [
    {
     "name": "stdout",
     "output_type": "stream",
     "text": [
      "Building [10000 x 1000] rating matrix.\n",
      "Finished building rating matrix.\n"
     ]
    }
   ],
   "source": [
    "data_matrix = ratings_to_matrix(all_ratings, USER_COUNT, ITEM_COUNT)"
   ]
  },
  {
   "cell_type": "code",
   "execution_count": 8,
   "metadata": {
    "collapsed": false
   },
   "outputs": [
    {
     "name": "stdout",
     "output_type": "stream",
     "text": [
      "We have [1388107] data points.\n",
      "Will use [138810] data points for validation, and [1249297] for training.\n"
     ]
    }
   ],
   "source": [
    "all_ratings_count = len(all_ratings)\n",
    "print(\"We have [%d] data points.\" % all_ratings_count)\n",
    "\n",
    "validation_count = int(VALIDATION_RATIO * all_ratings_count)\n",
    "training_count = all_ratings_count - validation_count\n",
    "print(\"Will use [%d] data points for validation, and [%d] for training.\" %\n",
    "     (validation_count, training_count))"
   ]
  },
  {
   "cell_type": "code",
   "execution_count": 9,
   "metadata": {
    "collapsed": true
   },
   "outputs": [],
   "source": [
    "def shuffle_split_data(all_data, training_count, validation_count):\n",
    "    \"\"\"Returns a split consisting of (training, validation) data, created\n",
    "    after shuffling the input data.\n",
    "    \"\"\"\n",
    "    to_shuffle = copy.copy(all_data)\n",
    "    random.shuffle(to_shuffle)\n",
    "    return to_shuffle[:training_count], to_shuffle[training_count:]"
   ]
  },
  {
   "cell_type": "code",
   "execution_count": 10,
   "metadata": {
    "collapsed": false
   },
   "outputs": [
    {
     "name": "stdout",
     "output_type": "stream",
     "text": [
      "Building [10000 x 1000] rating matrix.\n",
      "Finished building rating matrix.\n",
      "Building [10000 x 1000] rating matrix.\n",
      "Finished building rating matrix.\n"
     ]
    }
   ],
   "source": [
    "train, validation = shuffle_split_data(all_ratings, training_count, validation_count)\n",
    "train_matrix = ratings_to_matrix(train, USER_COUNT, ITEM_COUNT)\n",
    "validation_matrix = ratings_to_matrix(validation, USER_COUNT, ITEM_COUNT)\n",
    "\n",
    "assert len(train_matrix[train_matrix != 0]) == training_count\n",
    "assert len(validation_matrix[validation_matrix != 0]) == validation_count"
   ]
  },
  {
   "cell_type": "code",
   "execution_count": 11,
   "metadata": {
    "collapsed": true
   },
   "outputs": [],
   "source": [
    "def score_predictions(prediction_matrix, validation_matrix):\n",
    "    \"\"\"Computes the RMSE score for the prediction matrix based\n",
    "    on the data points present in the validation matrix.\n",
    "    \n",
    "    \"\"\"\n",
    "    \n",
    "    # Want to compute RMSE just for nonzero validation elements.\n",
    "    mask = (validation_matrix != 0)\n",
    "    count = np.sum(mask)\n",
    "    actual = prediction_matrix[mask]\n",
    "    real = validation_matrix[mask]\n",
    "    \n",
    "    delta = np.abs(actual - real)\n",
    "    delta = delta * delta\n",
    "    delta = np.sum(delta)\n",
    "    \n",
    "    score = np.sqrt(delta / count)\n",
    "    return score\n",
    "\n",
    "\n",
    "def score_predictions_slow(prediction_matrix, validation_matrix):\n",
    "    s = 0\n",
    "    count = 0 #np.sum(validation_matrix > 0)\n",
    "    for row in range(validation_matrix.shape[0]):\n",
    "        for col in range(validation_matrix.shape[1]):\n",
    "            if validation_matrix[row, col] > 0:\n",
    "                delta = (validation_matrix[row, col] - prediction_matrix[row, col]) ** 2\n",
    "                s += delta\n",
    "                count += 1\n",
    "                \n",
    "    score = np.sqrt(s * 1.0 / count)\n",
    "    return score"
   ]
  },
  {
   "cell_type": "code",
   "execution_count": 12,
   "metadata": {
    "collapsed": false,
    "scrolled": true
   },
   "outputs": [
    {
     "name": "stdout",
     "output_type": "stream",
     "text": [
      "Got 1000 average ratings.\n",
      "Got 10000 average ratings.\n",
      "Got 1000 average ratings.\n",
      "Got 10000 average ratings.\n",
      "(10000, 1000)\n",
      "(10000, 1000)\n",
      "(10000, 1000)\n",
      "Mean rating RMSE: 1.1211\n",
      "User rating RMSE: 1.0853\n",
      "Item rating RMSE: 1.0312\n",
      "Mean user and item rating RMSE: 1.0254\n",
      "NaNs: 0\n"
     ]
    }
   ],
   "source": [
    "def predict_by_avg_avg(data):\n",
    "    \"\"\"Imputation by averaging mean user and mean item rating in every cell.\n",
    "    \n",
    "    \"\"\"\n",
    "    \n",
    "    # These are the indices of the cells where we have no data.\n",
    "    to_impute = (data == 0)\n",
    "    if np.sum(to_impute) == 0:\n",
    "        raise ValueError(\"Sanity check: found no values for imputation!\")\n",
    "        \n",
    "    item_pred = predict_by_avg(data, averaging=0)\n",
    "    user_pred = predict_by_avg(data, averaging=1)\n",
    "    \n",
    "    avg_pred = (item_pred + user_pred) / 2\n",
    "    prediction = np.copy(data)\n",
    "    \n",
    "    # Only update the data that were missing to begin with.\n",
    "    for (i, row) in enumerate(prediction):\n",
    "        row[row == 0] = avg_pred[i, row == 0]\n",
    "    return prediction\n",
    "    \n",
    "    \n",
    "def predict_by_rating_avg(data):\n",
    "    \"\"\"Imputation by average rating in the whole system.\"\"\"\n",
    "    # TODO(andrei) Median? Percentiles?\n",
    "    mean_rating = np.mean(data[data != 0])\n",
    "    prediction = np.copy(data)\n",
    "    prediction[data == 0] = mean_rating\n",
    "    return prediction\n",
    "    \n",
    "\n",
    "def predict_by_avg(data, averaging=0):\n",
    "    \"\"\"Performs naive data imputation.\n",
    "    \n",
    "    Arguments:\n",
    "        data: The numpy data matrix on which to operate.\n",
    "        averaging: Enum specifying how to average:\n",
    "            0: perform column averaging (avg. item rating)\n",
    "            1: perform row averaging (avg. user rating)\n",
    "            \n",
    "    Returns:\n",
    "        An updated copy of the original matrix.\n",
    "    \"\"\"\n",
    "    \n",
    "    nonzero = (data != 0)\n",
    "    rating_mean = np.mean(data[nonzero])\n",
    "    \n",
    "    # Sum on the 0th axis => per-item ratings.\n",
    "    # Sum on the 1st axis => per-user ratings.\n",
    "    if averaging == 0:\n",
    "        axis = 0\n",
    "    elif averaging == 1:\n",
    "        axis = 1\n",
    "    else:\n",
    "        raise ValueError(\"Unknown averaging type [%s].\" % str(averaging))\n",
    "        \n",
    "    rating_counts = nonzero.sum(axis)\n",
    "    rating_sums = data.sum(axis)\n",
    "    avg_ratings = rating_sums / rating_counts\n",
    "    # Prevent NaNs for users/entities with no ratings, and just put\n",
    "    # the overall mean in there!\n",
    "    avg_ratings[np.isnan(avg_ratings)] = rating_mean\n",
    "    predictions = np.copy(data)\n",
    "    \n",
    "    print(\"Got %d average ratings.\" % len(avg_ratings))\n",
    "    \n",
    "    if averaging == 0:\n",
    "        for col in range(data.shape[1]):\n",
    "            no_rating = (predictions[:, col] == 0)\n",
    "            predictions[no_rating, col] = avg_ratings[col]\n",
    "    else:\n",
    "        for row in range(data.shape[0]):\n",
    "            no_rating = (predictions[row, :] == 0)\n",
    "            predictions[row, no_rating] = avg_ratings[row]\n",
    "\n",
    "    zero_pred = (predictions == 0)\n",
    "    assert np.sum(zero_pred) == 0\n",
    "    return predictions\n",
    "    \n",
    "\n",
    "def predict_by_avg_item_rating(data):\n",
    "    return predict_by_avg(data, averaging=0)\n",
    "\n",
    "\n",
    "def predict_by_avg_user_rating(data):\n",
    "    return predict_by_avg(data, averaging=1)\n",
    "\n",
    "\n",
    "item_impute = predict_by_avg_item_rating(train_matrix)\n",
    "user_impute = predict_by_avg_user_rating(train_matrix)\n",
    "mean_user_item_impute = predict_by_avg_avg(train_matrix)\n",
    "mean_impute = predict_by_rating_avg(train_matrix)\n",
    "\n",
    "print(\"Mean rating RMSE: %.4f\" % score_predictions(mean_impute, validation_matrix))\n",
    "print(\"User rating RMSE: %.4f\" % score_predictions(user_impute, validation_matrix))\n",
    "print(\"Item rating RMSE: %.4f\" % score_predictions(item_impute, validation_matrix))\n",
    "print(\"Mean user and item rating RMSE: %.4f\" % score_predictions(mean_user_item_impute, validation_matrix))\n",
    "\n",
    "print(\"NaNs: %d\" % np.sum(np.isnan(user_impute)))\n",
    "\n",
    "# print(\"RMSE: %.4f\" % score_predictions_slow(no_svd_result, validation_matrix))"
   ]
  },
  {
   "cell_type": "code",
   "execution_count": 13,
   "metadata": {
    "collapsed": false
   },
   "outputs": [],
   "source": [
    "def svd_predict(data, k=290, sanity_check=False):\n",
    "    \"\"\"Predict the missing values in the data matrix using SVD.\n",
    "    \n",
    "    Imputes the missing values using column-wise means, and then improves the\n",
    "    prediction using singular value decomposition.\n",
    "    \n",
    "    Arguments:\n",
    "        data: The data matrix with missing values on which to apply SVD.\n",
    "        k: The number of singular values to keep.\n",
    "        sanity_check: Whether to perform additional (potentially slow) sanity checks.\n",
    "    \"\"\"\n",
    "    # Note: this function does not apply the 'sqrt(D)' pre-multiplication\n",
    "    # trick specified in the exercise sheet, as it led to a strange (and\n",
    "    # likely silly) bug.\n",
    "    \n",
    "    imputed = predict_by_avg_avg(data)\n",
    "    U, d, V = np.linalg.svd(imputed, full_matrices=True)\n",
    "    # This ensures that our variables correspond with the notation in\n",
    "    # the slides and homework sheets.\n",
    "    V = V.T\n",
    "    D = np.zeros_like(imputed)\n",
    "    D[:d.shape[0], :d.shape[0]] = np.diag(d)\n",
    "    \n",
    "    if sanity_check:\n",
    "        reconstruction = np.dot(U, np.dot(D, V.T))\n",
    "        assert np.allclose(reconstruction, imputed)\n",
    "\n",
    "    U_lim = U[:,:k]\n",
    "    D_lim = D[:k, :]\n",
    "    V_lim = V[:, :]\n",
    "    k_prediction = np.dot(U_lim, np.dot(D_lim, V_lim.T))\n",
    "    k_prediction = k_prediction[:, :1000]\n",
    "    \n",
    "    return k_prediction"
   ]
  },
  {
   "cell_type": "code",
   "execution_count": 14,
   "metadata": {
    "collapsed": true
   },
   "outputs": [],
   "source": [
    "# Reuse previous prediction\n",
    "imputed = mean_user_item_impute\n",
    "\n",
    "U, d, V = np.linalg.svd(imputed, full_matrices=True)\n",
    "V = V.T"
   ]
  },
  {
   "cell_type": "code",
   "execution_count": 15,
   "metadata": {
    "collapsed": true
   },
   "outputs": [],
   "source": [
    "D = np.zeros_like(imputed)\n",
    "D[:d.shape[0], :d.shape[0]] = np.diag(d)"
   ]
  },
  {
   "cell_type": "code",
   "execution_count": 16,
   "metadata": {
    "collapsed": false
   },
   "outputs": [],
   "source": [
    "# A few sanity checks for various values of k (singular values kept).\n",
    "\n",
    "errors = []\n",
    "means = []\n",
    "ks = range(10, 1000, 25)\n",
    "for k in ks:\n",
    "    U_k = U[:, :k]\n",
    "    D_k = D[:k, :]\n",
    "    V_k = V[:, :]\n",
    "\n",
    "    recon_k = np.dot(U_k, np.dot(D_k, V_k.T))\n",
    "    fro = np.linalg.norm(recon_k - imputed)\n",
    "    errors.append(fro)\n",
    "    means.append(np.mean(recon_k))"
   ]
  },
  {
   "cell_type": "code",
   "execution_count": 17,
   "metadata": {
    "collapsed": false
   },
   "outputs": [
    {
     "data": {
      "text/plain": [
       "<matplotlib.text.Text at 0x111302e80>"
      ]
     },
     "execution_count": 17,
     "metadata": {},
     "output_type": "execute_result"
    },
    {
     "data": {
      "image/png": "[encoded data removed]",
      "text/plain": [
       "<matplotlib.figure.Figure at 0x1113022e8>"
      ]
     },
     "metadata": {},
     "output_type": "display_data"
    }
   ],
   "source": [
    "plt.plot(ks, errors)\n",
    "plt.xlabel(\"kept singular values\")\n",
    "plt.ylabel(\"approximation error (Frobenius norm)\")"
   ]
  },
  {
   "cell_type": "code",
   "execution_count": 18,
   "metadata": {
    "collapsed": false
   },
   "outputs": [
    {
     "data": {
      "text/plain": [
       "[<matplotlib.lines.Line2D at 0x1116df710>]"
      ]
     },
     "execution_count": 18,
     "metadata": {},
     "output_type": "execute_result"
    },
    {
     "data": {
      "image/png": "[encoded data removed]",
      "text/plain": [
       "<matplotlib.figure.Figure at 0x11131be48>"
      ]
     },
     "metadata": {},
     "output_type": "display_data"
    }
   ],
   "source": [
    "# Sanity\n",
    "plt.plot(ks, means)"
   ]
  },
  {
   "cell_type": "code",
   "execution_count": 19,
   "metadata": {
    "collapsed": false
   },
   "outputs": [
    {
     "data": {
      "text/plain": [
       "[<matplotlib.lines.Line2D at 0x11177e1d0>]"
      ]
     },
     "execution_count": 19,
     "metadata": {},
     "output_type": "execute_result"
    },
    {
     "data": {
      "image/png": "[encoded data removed]",
      "text/plain": [
       "<matplotlib.figure.Figure at 0x1116ad940>"
      ]
     },
     "metadata": {},
     "output_type": "display_data"
    }
   ],
   "source": [
    "# Plot the singular value spectrum\n",
    "plt.plot(np.arange(15), d[:15])"
   ]
  },
  {
   "cell_type": "code",
   "execution_count": 20,
   "metadata": {
    "collapsed": false
   },
   "outputs": [],
   "source": [
    "rmses = []\n",
    "for k in range(5, 50, 1):\n",
    "    U_lim = U[:,:k]\n",
    "    D_lim = D[:k, :]\n",
    "    V_lim = V[:,:]\n",
    "\n",
    "    k_prediction = np.dot(U_lim, np.dot(D_lim, V_lim.T))\n",
    "    k_prediction = k_prediction[:, :1000]\n",
    "    rmses.append((k, score_predictions(k_prediction, validation_matrix)))"
   ]
  },
  {
   "cell_type": "code",
   "execution_count": 21,
   "metadata": {
    "collapsed": false
   },
   "outputs": [
    {
     "data": {
      "text/plain": [
       "<matplotlib.text.Text at 0x111978588>"
      ]
     },
     "execution_count": 21,
     "metadata": {},
     "output_type": "execute_result"
    },
    {
     "data": {
      "image/png": "[encoded data removed]",
      "text/plain": [
       "<matplotlib.figure.Figure at 0x111783940>"
      ]
     },
     "metadata": {},
     "output_type": "display_data"
    }
   ],
   "source": [
    "plt.plot([e[0] for e in rmses], [e[1] for e in rmses])\n",
    "plt.xlabel(\"Number of kept singular values $\\sigma$\")\n",
    "plt.ylabel(\"RMSE on validation set\")"
   ]
  },
  {
   "cell_type": "markdown",
   "metadata": {},
   "source": [
    "# Cross-validation (experimental)"
   ]
  },
  {
   "cell_type": "code",
   "execution_count": 22,
   "metadata": {
    "collapsed": true
   },
   "outputs": [],
   "source": [
    "from sklearn.cross_validation import KFold"
   ]
  },
  {
   "cell_type": "code",
   "execution_count": 23,
   "metadata": {
    "collapsed": false
   },
   "outputs": [
    {
     "data": {
      "text/plain": [
       "(1388107, 3)"
      ]
     },
     "execution_count": 23,
     "metadata": {},
     "output_type": "execute_result"
    }
   ],
   "source": [
    "CV_FOLDS = 5\n",
    "folds = KFold(len(all_ratings), n_folds=CV_FOLDS, shuffle=True)\n",
    "\n",
    "# TODO(andrei) Implement predictions as a subclass of BaseEstimator\n",
    "# and/or RegressionEstimator so we can use it with e.g. grid searches.\n",
    "\n",
    "k = 3\n",
    "\n",
    "# A 2D array where every row is a data point. The first column specifies\n",
    "# the row in the data matrix where the rating belongs, the second column,\n",
    "# its column. The third one is the actual rating.\n",
    "all_ratings_np = np.array(all_ratings)\n",
    "all_ratings_np.shape"
   ]
  },
  {
   "cell_type": "code",
   "execution_count": 24,
   "metadata": {
    "collapsed": false
   },
   "outputs": [
    {
     "name": "stdout",
     "output_type": "stream",
     "text": [
      "Building [10000 x 1000] rating matrix.\n",
      "Finished building rating matrix.\n",
      "Building [10000 x 1000] rating matrix.\n",
      "Finished building rating matrix.\n",
      "Performing imputation...\n",
      "Got 1000 average ratings.\n",
      "Got 10000 average ratings.\n",
      "(10000, 1000)\n",
      "(10000, 1000)\n",
      "(10000, 1000)\n",
      "Performing SVD...\n",
      "SVD done.\n",
      "Building [10000 x 1000] rating matrix.\n",
      "Finished building rating matrix.\n",
      "Building [10000 x 1000] rating matrix.\n",
      "Finished building rating matrix.\n",
      "Performing imputation...\n",
      "Got 1000 average ratings.\n",
      "Got 10000 average ratings.\n",
      "(10000, 1000)\n",
      "(10000, 1000)\n",
      "(10000, 1000)\n",
      "Performing SVD...\n",
      "SVD done.\n",
      "Building [10000 x 1000] rating matrix.\n",
      "Finished building rating matrix.\n",
      "Building [10000 x 1000] rating matrix.\n",
      "Finished building rating matrix.\n",
      "Performing imputation...\n",
      "Got 1000 average ratings.\n",
      "Got 10000 average ratings.\n",
      "(10000, 1000)\n",
      "(10000, 1000)\n",
      "(10000, 1000)\n",
      "Performing SVD...\n",
      "SVD done.\n",
      "Building [10000 x 1000] rating matrix.\n",
      "Finished building rating matrix.\n",
      "Building [10000 x 1000] rating matrix.\n",
      "Finished building rating matrix.\n",
      "Performing imputation...\n",
      "Got 1000 average ratings.\n",
      "Got 10000 average ratings.\n",
      "(10000, 1000)\n",
      "(10000, 1000)\n",
      "(10000, 1000)\n",
      "Performing SVD...\n",
      "SVD done.\n",
      "Building [10000 x 1000] rating matrix.\n",
      "Finished building rating matrix.\n",
      "Building [10000 x 1000] rating matrix.\n",
      "Finished building rating matrix.\n",
      "Performing imputation...\n",
      "Got 1000 average ratings.\n",
      "Got 10000 average ratings.\n",
      "(10000, 1000)\n",
      "(10000, 1000)\n",
      "(10000, 1000)\n",
      "Performing SVD...\n",
      "SVD done.\n",
      "Done.\n"
     ]
    }
   ],
   "source": [
    "# We will not use 'svd_predict' and instead we will use a dirty trick\n",
    "# to significantly speed up our cross-validation scores.\n",
    "\n",
    "# For every fold, results will contain a list of len(ks) scores.\n",
    "# This is an unorthodox way of doing CV, but it's much faster since\n",
    "# we only do one SVD per fold, instead of one per (k * folds).\n",
    "results = []\n",
    "\n",
    "ks = range(1, 30, 1)\n",
    "#imputation_fn = predict_by_avg_item_rating\n",
    "imputation_fn = predict_by_avg_avg\n",
    "for train_index, test_index in folds:\n",
    "    train = all_ratings_np[train_index]\n",
    "    test = all_ratings_np[test_index]\n",
    "     \n",
    "    train_matrix = ratings_to_matrix(train, USER_COUNT, ITEM_COUNT)\n",
    "    test_matrix = ratings_to_matrix(test, USER_COUNT, ITEM_COUNT)\n",
    "    \n",
    "    #print(\"Performing imputation...\")\n",
    "    imputed = imputation_fn(train_matrix)\n",
    "    if len(imputed[np.isnan(imputed)]):\n",
    "        raise ValueError(\"Found NaNs in imputed data. Aborting.\")\n",
    "    \n",
    "    #print(\"Performing SVD...\")\n",
    "    U, d, V = np.linalg.svd(imputed, full_matrices=True)\n",
    "    #print(\"SVD done.\")\n",
    "    V = V.T\n",
    "\n",
    "    D = np.zeros_like(imputed)\n",
    "    D[:d.shape[0], :d.shape[0]] = np.diag(d)\n",
    "\n",
    "    rmses = []\n",
    "    for k in ks:\n",
    "        U_k = U[:, :k]\n",
    "        D_k = D[:k, :]\n",
    "        V_k = V[:, :]\n",
    "        \n",
    "        k_prediction = np.dot(U_k, np.dot(D_k, V_k.T))\n",
    "        k_prediction = k_prediction[:, :1000]\n",
    "        rmses.append((k, score_predictions(k_prediction, test_matrix)))\n",
    "\n",
    "    results.append(rmses)\n",
    "    \n",
    "print(\"Done.\")"
   ]
  },
  {
   "cell_type": "code",
   "execution_count": 25,
   "metadata": {
    "collapsed": false
   },
   "outputs": [],
   "source": [
    "cv_rmses = []\n",
    "for index, k in enumerate(ks):\n",
    "    score = 0\n",
    "    for fold in range(CV_FOLDS):\n",
    "        score += results[fold][index][1]\n",
    "        \n",
    "    avg_score = score / CV_FOLDS\n",
    "    cv_rmses.append(avg_score)"
   ]
  },
  {
   "cell_type": "code",
   "execution_count": 26,
   "metadata": {
    "collapsed": false
   },
   "outputs": [
    {
     "data": {
      "text/plain": [
       "<matplotlib.text.Text at 0x104ac2ef0>"
      ]
     },
     "execution_count": 26,
     "metadata": {},
     "output_type": "execute_result"
    },
    {
     "data": {
      "image/png": "[encoded data removed]",
      "text/plain": [
       "<matplotlib.figure.Figure at 0x1287598d0>"
      ]
     },
     "metadata": {},
     "output_type": "display_data"
    }
   ],
   "source": [
    "plt.plot(ks, cv_rmses)\n",
    "plt.ylabel(\"RMSE with %d CV folds\" % CV_FOLDS)\n",
    "plt.xlabel(\"Number of kept singular values $\\sigma$\")\n",
    "plt.title(\"%d-fold CV result\" % CV_FOLDS)"
   ]
  },
  {
   "cell_type": "code",
   "execution_count": 27,
   "metadata": {
    "collapsed": false
   },
   "outputs": [
    {
     "data": {
      "text/plain": [
       "<matplotlib.legend.Legend at 0x111878dd8>"
      ]
     },
     "execution_count": 27,
     "metadata": {},
     "output_type": "execute_result"
    },
    {
     "data": {
      "image/png": "[encoded data removed]",
      "text/plain": [
       "<matplotlib.figure.Figure at 0x104afbe48>"
      ]
     },
     "metadata": {},
     "output_type": "display_data"
    }
   ],
   "source": [
    "plt.plot(ks[6:15], cv_rmses[6:15], label=\"CV RMSE\")\n",
    "plt.plot([e[0] for e in rmses][6:15], [e[1] for e in rmses][6:15], label=\"Simple validation RMSE\")\n",
    "plt.legend()"
   ]
  },
  {
   "cell_type": "markdown",
   "metadata": {},
   "source": [
    "# K-means Approach"
   ]
  },
  {
   "cell_type": "code",
   "execution_count": 50,
   "metadata": {
    "collapsed": false,
    "scrolled": true
   },
   "outputs": [
    {
     "name": "stdout",
     "output_type": "stream",
     "text": [
      "Building [10000 x 1000] rating matrix.\n",
      "Finished building rating matrix.\n",
      "Building [10000 x 1000] rating matrix.\n",
      "Finished building rating matrix.\n",
      "Got 1000 average ratings.\n",
      "Got 10000 average ratings.\n",
      "(10000, 1000)\n",
      "(10000, 1000)\n",
      "(10000, 1000)\n",
      "Got 1000 average ratings.\n",
      "Got 10000 average ratings.\n",
      "(10000, 1000)\n",
      "(10000, 1000)\n",
      "(10000, 1000)\n",
      "Got 1000 average ratings.\n",
      "Got 10000 average ratings.\n",
      "(10000, 1000)\n",
      "(10000, 1000)\n",
      "(10000, 1000)\n",
      "Got 1000 average ratings.\n",
      "Got 10000 average ratings.\n",
      "(10000, 1000)\n",
      "(10000, 1000)\n",
      "(10000, 1000)\n",
      "Got 1000 average ratings.\n",
      "Got 10000 average ratings.\n",
      "(10000, 1000)\n",
      "(10000, 1000)\n",
      "(10000, 1000)\n",
      "Got 1000 average ratings.\n",
      "Got 10000 average ratings.\n",
      "(10000, 1000)\n",
      "(10000, 1000)\n",
      "(10000, 1000)\n",
      "Got 1000 average ratings.\n",
      "Got 10000 average ratings.\n",
      "(10000, 1000)\n",
      "(10000, 1000)\n",
      "(10000, 1000)\n",
      "Got 1000 average ratings.\n",
      "Got 10000 average ratings.\n",
      "(10000, 1000)\n",
      "(10000, 1000)\n",
      "(10000, 1000)\n",
      "Building [10000 x 1000] rating matrix.\n",
      "Finished building rating matrix.\n",
      "Building [10000 x 1000] rating matrix.\n",
      "Finished building rating matrix.\n",
      "Got 1000 average ratings.\n",
      "Got 10000 average ratings.\n",
      "(10000, 1000)\n",
      "(10000, 1000)\n",
      "(10000, 1000)\n",
      "Got 1000 average ratings.\n",
      "Got 10000 average ratings.\n",
      "(10000, 1000)\n",
      "(10000, 1000)\n",
      "(10000, 1000)\n",
      "Got 1000 average ratings.\n",
      "Got 10000 average ratings.\n",
      "(10000, 1000)\n",
      "(10000, 1000)\n",
      "(10000, 1000)\n",
      "Got 1000 average ratings.\n",
      "Got 10000 average ratings.\n",
      "(10000, 1000)\n",
      "(10000, 1000)\n",
      "(10000, 1000)\n",
      "Got 1000 average ratings.\n",
      "Got 10000 average ratings.\n",
      "(10000, 1000)\n",
      "(10000, 1000)\n",
      "(10000, 1000)\n",
      "Got 1000 average ratings.\n",
      "Got 10000 average ratings.\n",
      "(10000, 1000)\n",
      "(10000, 1000)\n",
      "(10000, 1000)\n",
      "Got 1000 average ratings.\n",
      "Got 10000 average ratings.\n",
      "(10000, 1000)\n",
      "(10000, 1000)\n",
      "(10000, 1000)\n",
      "Got 1000 average ratings.\n",
      "Got 10000 average ratings.\n",
      "(10000, 1000)\n",
      "(10000, 1000)\n",
      "(10000, 1000)\n",
      "Building [10000 x 1000] rating matrix.\n",
      "Finished building rating matrix.\n",
      "Building [10000 x 1000] rating matrix.\n",
      "Finished building rating matrix.\n",
      "Got 1000 average ratings.\n",
      "Got 10000 average ratings.\n",
      "(10000, 1000)\n",
      "(10000, 1000)\n",
      "(10000, 1000)\n",
      "Got 1000 average ratings.\n",
      "Got 10000 average ratings.\n",
      "(10000, 1000)\n",
      "(10000, 1000)\n",
      "(10000, 1000)\n",
      "Got 1000 average ratings.\n",
      "Got 10000 average ratings.\n",
      "(10000, 1000)\n",
      "(10000, 1000)\n",
      "(10000, 1000)\n",
      "Got 1000 average ratings.\n",
      "Got 10000 average ratings.\n",
      "(10000, 1000)\n",
      "(10000, 1000)\n",
      "(10000, 1000)\n",
      "Got 1000 average ratings.\n",
      "Got 10000 average ratings.\n",
      "(10000, 1000)\n",
      "(10000, 1000)\n",
      "(10000, 1000)\n",
      "Got 1000 average ratings.\n",
      "Got 10000 average ratings.\n",
      "(10000, 1000)\n",
      "(10000, 1000)\n",
      "(10000, 1000)\n",
      "Got 1000 average ratings.\n",
      "Got 10000 average ratings.\n",
      "(10000, 1000)\n",
      "(10000, 1000)\n",
      "(10000, 1000)\n",
      "Got 1000 average ratings.\n",
      "Got 10000 average ratings.\n",
      "(10000, 1000)\n",
      "(10000, 1000)\n",
      "(10000, 1000)\n",
      "Building [10000 x 1000] rating matrix.\n",
      "Finished building rating matrix.\n",
      "Building [10000 x 1000] rating matrix.\n",
      "Finished building rating matrix.\n",
      "Got 1000 average ratings.\n",
      "Got 10000 average ratings.\n",
      "(10000, 1000)\n",
      "(10000, 1000)\n",
      "(10000, 1000)\n",
      "Got 1000 average ratings.\n",
      "Got 10000 average ratings.\n",
      "(10000, 1000)\n",
      "(10000, 1000)\n",
      "(10000, 1000)\n",
      "Got 1000 average ratings.\n",
      "Got 10000 average ratings.\n",
      "(10000, 1000)\n",
      "(10000, 1000)\n",
      "(10000, 1000)\n",
      "Got 1000 average ratings.\n",
      "Got 10000 average ratings.\n",
      "(10000, 1000)\n",
      "(10000, 1000)\n",
      "(10000, 1000)\n",
      "Got 1000 average ratings.\n",
      "Got 10000 average ratings.\n",
      "(10000, 1000)\n",
      "(10000, 1000)\n",
      "(10000, 1000)\n",
      "Got 1000 average ratings.\n",
      "Got 10000 average ratings.\n",
      "(10000, 1000)\n",
      "(10000, 1000)\n",
      "(10000, 1000)\n",
      "Got 1000 average ratings.\n",
      "Got 10000 average ratings.\n",
      "(10000, 1000)\n",
      "(10000, 1000)\n",
      "(10000, 1000)\n",
      "Got 1000 average ratings.\n",
      "Got 10000 average ratings.\n",
      "(10000, 1000)\n",
      "(10000, 1000)\n",
      "(10000, 1000)\n",
      "Building [10000 x 1000] rating matrix.\n",
      "Finished building rating matrix.\n",
      "Building [10000 x 1000] rating matrix.\n",
      "Finished building rating matrix.\n",
      "Got 1000 average ratings.\n",
      "Got 10000 average ratings.\n",
      "(10000, 1000)\n",
      "(10000, 1000)\n",
      "(10000, 1000)\n",
      "Got 1000 average ratings.\n",
      "Got 10000 average ratings.\n",
      "(10000, 1000)\n",
      "(10000, 1000)\n",
      "(10000, 1000)\n",
      "Got 1000 average ratings.\n",
      "Got 10000 average ratings.\n",
      "(10000, 1000)\n",
      "(10000, 1000)\n",
      "(10000, 1000)\n",
      "Got 1000 average ratings.\n",
      "Got 10000 average ratings.\n",
      "(10000, 1000)\n",
      "(10000, 1000)\n",
      "(10000, 1000)\n",
      "Got 1000 average ratings.\n",
      "Got 10000 average ratings.\n",
      "(10000, 1000)\n",
      "(10000, 1000)\n",
      "(10000, 1000)\n",
      "Got 1000 average ratings.\n",
      "Got 10000 average ratings.\n",
      "(10000, 1000)\n",
      "(10000, 1000)\n",
      "(10000, 1000)\n",
      "Got 1000 average ratings.\n",
      "Got 10000 average ratings.\n",
      "(10000, 1000)\n",
      "(10000, 1000)\n",
      "(10000, 1000)\n",
      "Got 1000 average ratings.\n",
      "Got 10000 average ratings.\n",
      "(10000, 1000)\n",
      "(10000, 1000)\n",
      "(10000, 1000)\n"
     ]
    }
   ],
   "source": [
    "from sklearn.cluster import KMeans, MiniBatchKMeans\n",
    "\n",
    "def kmeans_predict(data, n_clusters, impute=predict_by_avg_avg, **kw):\n",
    "    imputed = impute(data, **kw)\n",
    "    \n",
    "    # From docs: Running a dimensionality reduction algorithm such as PCA prior to k-means clustering can alleviate this problem and speed up the computations.\n",
    "    # Note: regular KMeans is not much slower.\n",
    "    kmeans = MiniBatchKMeans(n_clusters=n_clusters)\n",
    "    \n",
    "    # This clusters the users based on their item ratings.\n",
    "    # The individual product ratings are the \"dimensions\" of each data point.\n",
    "    # Possible issue: data **very** sparse.\n",
    "    kmeans.fit_predict(imputed)\n",
    "        \n",
    "    labels = kmeans.labels_\n",
    "    cc = kmeans.cluster_centers_\n",
    "    cluster_mean_ratings = np.mean(cc, axis=1)\n",
    "    mean_replace = cluster_mean_ratings[labels]\n",
    "        \n",
    "    # For all users, replace their missing ratings by the average\n",
    "    # of the real ratings of all other users in that cluster.\n",
    "    \n",
    "    cluster_real_ratings = {label: [] for label in range(n_clusters)}\n",
    "    for index, row in enumerate(data):\n",
    "        # A row is a user.\n",
    "        \n",
    "        label = labels[index]\n",
    "        for rating in row[row != 0]:\n",
    "            cluster_real_ratings[label].append(rating)\n",
    "        \n",
    "    cluster_real_means = {label: np.mean(np.array(cluster_real_ratings[label]))\n",
    "                          for label in cluster_real_ratings}\n",
    "#     print(cluster_real_means)\n",
    "    \n",
    "    # TODO(andrei) Vectorize more of the code.\n",
    "    prediction = np.copy(data)\n",
    "    for user_label, prow in zip(labels, prediction):\n",
    "        prow[prow == 0] = cluster_real_means[user_label]\n",
    "        \n",
    "    return prediction\n",
    "\n",
    "\n",
    "cluster_counts = range(2, 60, 6)\n",
    "kmeans_results = []\n",
    "for train_index, test_index in folds:\n",
    "    train = all_ratings_np[train_index]\n",
    "    test = all_ratings_np[test_index]\n",
    "     \n",
    "    train_matrix = ratings_to_matrix(train, USER_COUNT, ITEM_COUNT)\n",
    "    test_matrix = ratings_to_matrix(test, USER_COUNT, ITEM_COUNT)\n",
    "    \n",
    "    rmses = []\n",
    "    for cc in cluster_counts:\n",
    "        pred = kmeans_predict(train_matrix, cc)\n",
    "        rmse = score_predictions(pred, test_matrix)\n",
    "        rmses.append(rmse)\n",
    "    \n",
    "    kmeans_results.append(rmses)"
   ]
  },
  {
   "cell_type": "code",
   "execution_count": 46,
   "metadata": {
    "collapsed": false
   },
   "outputs": [],
   "source": [
    "# TODO(andrei) Utility function for this.\n",
    "\n",
    "kmeans_cv_rmses = []\n",
    "for index, k in enumerate(cluster_counts):\n",
    "    score = 0\n",
    "    for fold in range(CV_FOLDS):\n",
    "        score += kmeans_results[fold][index]\n",
    "        \n",
    "    avg_score = score / CV_FOLDS\n",
    "    kmeans_cv_rmses.append(avg_score)"
   ]
  },
  {
   "cell_type": "code",
   "execution_count": 49,
   "metadata": {
    "collapsed": false
   },
   "outputs": [
    {
     "data": {
      "text/plain": [
       "[<matplotlib.lines.Line2D at 0x117e05048>]"
      ]
     },
     "execution_count": 49,
     "metadata": {},
     "output_type": "execute_result"
    },
    {
     "data": {
      "image/png": "[encoded data removed]",
      "text/plain": [
       "<matplotlib.figure.Figure at 0x1192fd780>"
      ]
     },
     "metadata": {},
     "output_type": "display_data"
    }
   ],
   "source": [
    "plt.plot(cluster_counts, kmeans_cv_rmses)\n",
    "# RMSE seems to be much higher than any SVD solution (5-fold CV)"
   ]
  },
  {
   "cell_type": "markdown",
   "metadata": {},
   "source": [
    "# Successive SVDs\n",
    "\n",
    "Based on Nikos' suggestion."
   ]
  },
  {
   "cell_type": "code",
   "execution_count": 59,
   "metadata": {
    "collapsed": true
   },
   "outputs": [],
   "source": [
    "def multiple_svds(filled_matrix, initial_data, k, rounds):\n",
    "    rmse = []\n",
    "    print(\"multiple svds.\")\n",
    "    print(\"rmse for different rounds\")\n",
    "    for i in range(1, rounds + 1):\n",
    "        print(\"SVD round [%d]\" % i)\n",
    "        U, d, VT = np.linalg.svd(filled_matrix, full_matrices=False)\n",
    "        D = np.diag(d)\n",
    "        U_prime = np.dot(U, np.sqrt(D))\n",
    "        VT_prime = np.dot(np.sqrt(D), VT)\n",
    "        U_lim = U_prime[:,:k] #only first k columns\n",
    "        VT_lim = VT_prime[:k, :] #only first k rows\n",
    "\n",
    "        k_prediction = np.dot(U_lim, VT_lim)\n",
    "        k_prediction[initial_data != 0] = 0 #make zero all the cells that I know their value\n",
    "\n",
    "        filled_matrix = k_prediction + initial_data\n",
    "        error = score_predictions(filled_matrix, validation_matrix)\n",
    "\n",
    "        rmse.append(error) \n",
    "        print(\"%d: %.6f\" % (i, error))\n",
    "\n",
    "    plt.plot(range(1,rounds+1), rmse, label=\"k = %d, rounds = %d\" % (k, rounds))\n",
    "    plt.xlabel(\"number of successive svds\")\n",
    "    plt.ylabel(\"rmse error on validation cells\")\n",
    "    return filled_matrix"
   ]
  },
  {
   "cell_type": "code",
   "execution_count": 61,
   "metadata": {
    "collapsed": false,
    "scrolled": false
   },
   "outputs": [
    {
     "name": "stdout",
     "output_type": "stream",
     "text": [
      "Got 1000 average ratings.\n",
      "Got 10000 average ratings.\n",
      "(10000, 1000)\n",
      "(10000, 1000)\n",
      "(10000, 1000)\n",
      "multiple svds.\n",
      "rmse for different rounds\n",
      "SVD round [1]\n",
      "1: 0.442774\n",
      "SVD round [2]\n",
      "2: 0.439836\n",
      "SVD round [3]\n",
      "3: 0.438559\n",
      "SVD round [4]\n",
      "4: 0.437780\n",
      "SVD round [5]\n",
      "5: 0.437237\n",
      "SVD round [6]\n",
      "6: 0.436832\n",
      "SVD round [7]\n",
      "7: 0.436519\n",
      "SVD round [8]\n",
      "8: 0.436269\n",
      "SVD round [9]\n",
      "9: 0.436067\n",
      "SVD round [10]\n",
      "10: 0.435900\n",
      "SVD round [11]\n",
      "11: 0.435760\n",
      "SVD round [12]\n",
      "12: 0.435642\n",
      "SVD round [13]\n",
      "13: 0.435542\n",
      "SVD round [14]\n",
      "14: 0.435456\n",
      "SVD round [15]\n",
      "15: 0.435381\n",
      "SVD round [16]\n",
      "16: 0.435316\n",
      "SVD round [17]\n",
      "17: 0.435259\n",
      "SVD round [18]\n",
      "18: 0.435209\n",
      "SVD round [19]\n",
      "19: 0.435165\n",
      "SVD round [20]\n",
      "20: 0.435125\n",
      "SVD round [21]\n",
      "21: 0.435090\n",
      "SVD round [22]\n",
      "22: 0.435059\n",
      "SVD round [23]\n",
      "23: 0.435030\n",
      "SVD round [24]\n",
      "24: 0.435004\n",
      "SVD round [25]\n",
      "25: 0.434981\n",
      "multiple svds.\n",
      "rmse for different rounds\n",
      "SVD round [1]\n",
      "1: 0.441315\n",
      "SVD round [2]\n",
      "2: 0.438216\n",
      "SVD round [3]\n",
      "3: 0.436984\n",
      "SVD round [4]\n",
      "4: 0.436284\n",
      "SVD round [5]\n",
      "5: 0.435821\n",
      "SVD round [6]\n",
      "6: 0.435489\n",
      "SVD round [7]\n",
      "7: 0.435241\n",
      "SVD round [8]\n",
      "8: 0.435049\n",
      "SVD round [9]\n",
      "9: 0.434898\n",
      "SVD round [10]\n",
      "10: 0.434777\n",
      "SVD round [11]\n",
      "11: 0.434680\n",
      "SVD round [12]\n",
      "12: 0.434600\n",
      "SVD round [13]\n",
      "13: 0.434535\n",
      "SVD round [14]\n",
      "14: 0.434480\n",
      "SVD round [15]\n",
      "15: 0.434435\n",
      "SVD round [16]\n",
      "16: 0.434397\n",
      "SVD round [17]\n",
      "17: 0.434365\n",
      "SVD round [18]\n",
      "18: 0.434338\n",
      "SVD round [19]\n",
      "19: 0.434315\n",
      "SVD round [20]\n",
      "20: 0.434296\n",
      "SVD round [21]\n",
      "21: 0.434280\n",
      "SVD round [22]\n",
      "22: 0.434265\n",
      "SVD round [23]\n",
      "23: 0.434253\n",
      "SVD round [24]\n",
      "24: 0.434243\n",
      "SVD round [25]\n",
      "25: 0.434234\n",
      "multiple svds.\n",
      "rmse for different rounds\n",
      "SVD round [1]\n",
      "1: 0.440540\n",
      "SVD round [2]\n",
      "2: 0.437503\n",
      "SVD round [3]\n",
      "3: 0.436383\n",
      "SVD round [4]\n",
      "4: 0.435773\n",
      "SVD round [5]\n",
      "5: 0.435376\n",
      "SVD round [6]\n",
      "6: 0.435092\n",
      "SVD round [7]\n",
      "7: 0.434879\n",
      "SVD round [8]\n",
      "8: 0.434713\n",
      "SVD round [9]\n",
      "9: 0.434582\n",
      "SVD round [10]\n",
      "10: 0.434475\n",
      "SVD round [11]\n",
      "11: 0.434388\n",
      "SVD round [12]\n",
      "12: 0.434316\n",
      "SVD round [13]\n",
      "13: 0.434256\n",
      "SVD round [14]\n",
      "14: 0.434206\n",
      "SVD round [15]\n",
      "15: 0.434164\n",
      "SVD round [16]\n",
      "16: 0.434128\n",
      "SVD round [17]\n",
      "17: 0.434098\n",
      "SVD round [18]\n",
      "18: 0.434072\n",
      "SVD round [19]\n",
      "19: 0.434051\n",
      "SVD round [20]\n",
      "20: 0.434032\n",
      "SVD round [21]\n",
      "21: 0.434017\n",
      "SVD round [22]\n",
      "22: 0.434004\n",
      "SVD round [23]\n",
      "23: 0.433993\n",
      "SVD round [24]\n",
      "24: 0.433984\n",
      "SVD round [25]\n",
      "25: 0.433976\n",
      "multiple svds.\n",
      "rmse for different rounds\n",
      "SVD round [1]\n",
      "1: 0.439646\n",
      "SVD round [2]\n",
      "2: 0.437211\n",
      "SVD round [3]\n",
      "3: 0.436663\n",
      "SVD round [4]\n",
      "4: 0.436483\n",
      "SVD round [5]\n",
      "5: 0.436407\n",
      "SVD round [6]\n",
      "6: 0.436373\n",
      "SVD round [7]\n",
      "7: 0.436364\n",
      "SVD round [8]\n",
      "8: 0.436372\n",
      "SVD round [9]\n",
      "9: 0.436394\n",
      "SVD round [10]\n",
      "10: 0.436426\n",
      "SVD round [11]\n",
      "11: 0.436465\n",
      "SVD round [12]\n",
      "12: 0.436511\n",
      "SVD round [13]\n",
      "13: 0.436561\n",
      "SVD round [14]\n",
      "14: 0.436614\n",
      "SVD round [15]\n",
      "15: 0.436670\n",
      "SVD round [16]\n",
      "16: 0.436728\n",
      "SVD round [17]\n",
      "17: 0.436787\n",
      "SVD round [18]\n",
      "18: 0.436847\n",
      "SVD round [19]\n",
      "19: 0.436907\n",
      "SVD round [20]\n",
      "20: 0.436967\n",
      "SVD round [21]\n",
      "21: 0.437027\n",
      "SVD round [22]\n",
      "22: 0.437087\n",
      "SVD round [23]\n",
      "23: 0.437146\n",
      "SVD round [24]\n",
      "24: 0.437205\n",
      "SVD round [25]\n",
      "25: 0.437264\n"
     ]
    },
    {
     "data": {
      "text/plain": [
       "<matplotlib.legend.Legend at 0x118d28d68>"
      ]
     },
     "execution_count": 61,
     "metadata": {},
     "output_type": "execute_result"
    },
    {
     "data": {
      "image/png": "[encoded data removed]",
      "text/plain": [
       "<matplotlib.figure.Figure at 0x118c04cf8>"
      ]
     },
     "metadata": {},
     "output_type": "display_data"
    }
   ],
   "source": [
    "imputed = predict_by_avg_avg(train_matrix)\n",
    "multi_svd_result_5 = multiple_svds(imputed, train_matrix, 4, 25)\n",
    "multi_svd_result_5 = multiple_svds(imputed, train_matrix, 5, 25)\n",
    "multi_svd_result_5 = multiple_svds(imputed, train_matrix, 6, 25)\n",
    "multi_svd_result_10 = multiple_svds(imputed, train_matrix, 10, 25)\n",
    "#multi_svd_result_11 = multiple_svds(imputed, train_matrix, 11, 10)\n",
    "# multi_svd_result_13 = multiple_svds(imputed, train_matrix, 13, 10)\n",
    "plt.legend()"
   ]
  },
  {
   "cell_type": "markdown",
   "metadata": {},
   "source": [
    "# Kaggle test data output stuff"
   ]
  },
  {
   "cell_type": "code",
   "execution_count": 62,
   "metadata": {
    "collapsed": false
   },
   "outputs": [
    {
     "name": "stdout",
     "output_type": "stream",
     "text": [
      "multiple svds.\n",
      "rmse for different rounds\n",
      "SVD round [1]\n",
      "1: 0.000000\n",
      "SVD round [2]\n",
      "2: 0.000000\n",
      "SVD round [3]\n",
      "3: 0.000000\n",
      "SVD round [4]\n",
      "4: 0.000000\n",
      "SVD round [5]\n",
      "5: 0.000000\n",
      "SVD round [6]\n",
      "6: 0.000000\n",
      "SVD round [7]\n",
      "7: 0.000000\n",
      "SVD round [8]\n",
      "8: 0.000000\n",
      "SVD round [9]\n",
      "9: 0.000000\n",
      "SVD round [10]\n",
      "10: 0.000000\n",
      "SVD round [11]\n",
      "11: 0.000000\n",
      "SVD round [12]\n",
      "12: 0.000000\n",
      "SVD round [13]\n",
      "13: 0.000000\n",
      "SVD round [14]\n",
      "14: 0.000000\n",
      "SVD round [15]\n",
      "15: 0.000000\n",
      "SVD round [16]\n",
      "16: 0.000000\n",
      "SVD round [17]\n",
      "17: 0.000000\n",
      "SVD round [18]\n",
      "18: 0.000000\n",
      "SVD round [19]\n",
      "19: 0.000000\n",
      "SVD round [20]\n",
      "20: 0.000000\n"
     ]
    },
    {
     "data": {
      "image/png": "[encoded data removed]",
      "text/plain": [
       "<matplotlib.figure.Figure at 0x118bc5358>"
      ]
     },
     "metadata": {},
     "output_type": "display_data"
    }
   ],
   "source": [
    "# test_result = svd_predict(data_matrix, k=6)\n",
    "test_result = multiple_svds(imputed, data_matrix, k=6, rounds=20)"
   ]
  },
  {
   "cell_type": "code",
   "execution_count": 63,
   "metadata": {
    "collapsed": false
   },
   "outputs": [],
   "source": [
    "import os\n",
    "import time\n",
    "\n",
    "def output_solution(solution_matrix):\n",
    "    submisson_template = load_ratings('data/cf/sampleSubmission.csv')\n",
    "    output = \"Id,Prediction\\n\"\n",
    "    for (row, col, _) in submisson_template:\n",
    "        output += \"r%d_c%d,%f\\n\" % (row + 1, col + 1, solution_matrix[row, col])\n",
    "                \n",
    "    return output\n",
    "\n",
    "def output_solution_to_file(solution_matrix, technique, output_root='out/cf'):\n",
    "    timestr = time.strftime(\"%Y%m%d-%H%M%S\")\n",
    "    file_name = \"submission-%s-%s.csv\" % (technique, timestr)\n",
    "    file_path = os.path.join(output_root, file_name)\n",
    "    with open(file_path, 'w') as output_file:\n",
    "        output_text = output_solution(solution_matrix)\n",
    "        output_file.write(output_text)"
   ]
  },
  {
   "cell_type": "code",
   "execution_count": 64,
   "metadata": {
    "collapsed": false
   },
   "outputs": [],
   "source": [
    "# output_solution_to_file(test_result, \"vanilla-with-avg-user-and-avg-item\")\n",
    "output_solution_to_file(test_result, \"iterative-svd-with-avg-user-and-avg-item-k-6-20-rounds\")"
   ]
  }
 ],
 "metadata": {
  "kernelspec": {
   "display_name": "Python 3",
   "language": "python",
   "name": "python3"
  },
  "language_info": {
   "codemirror_mode": {
    "name": "ipython",
    "version": 3
   },
   "file_extension": ".py",
   "mimetype": "text/x-python",
   "name": "python",
   "nbconvert_exporter": "python",
   "pygments_lexer": "ipython3",
   "version": "3.5.1"
  }
 },
 "nbformat": 4,
 "nbformat_minor": 0
}
